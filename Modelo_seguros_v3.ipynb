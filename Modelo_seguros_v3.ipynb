{
  "nbformat": 4,
  "nbformat_minor": 0,
  "metadata": {
    "colab": {
      "provenance": [],
      "authorship_tag": "ABX9TyNJTraRbQ5zE+8LACTpNxr+",
      "include_colab_link": true
    },
    "kernelspec": {
      "name": "python3",
      "display_name": "Python 3"
    },
    "language_info": {
      "name": "python"
    }
  },
  "cells": [
    {
      "cell_type": "markdown",
      "metadata": {
        "id": "view-in-github",
        "colab_type": "text"
      },
      "source": [
        "<a href=\"https://colab.research.google.com/github/lmencisoe/seguros/blob/main/Modelo_seguros_v3.ipynb\" target=\"_parent\"><img src=\"https://colab.research.google.com/assets/colab-badge.svg\" alt=\"Open In Colab\"/></a>"
      ]
    },
    {
      "cell_type": "code",
      "execution_count": 1,
      "metadata": {
        "colab": {
          "base_uri": "https://localhost:8080/"
        },
        "id": "vWAD_hNLIyo4",
        "outputId": "0a63442c-97a3-4323-91b9-ca6ecc9cf4c4"
      },
      "outputs": [
        {
          "output_type": "stream",
          "name": "stdout",
          "text": [
            "Mounted at /content/drive\n"
          ]
        }
      ],
      "source": [
        "import pandas as pd\n",
        "import numpy as np\n",
        "import pandas as pd\n",
        "import matplotlib.pyplot as plt\n",
        "%matplotlib inline\n",
        "#from pandas_profiling import ProfileReport\n",
        "from sklearn.linear_model import LogisticRegression\n",
        "from sklearn.neural_network import MLPClassifier\n",
        "from sklearn.svm import SVC\n",
        "import joblib\n",
        "from google.colab import drive\n",
        "drive.mount('/content/drive')\n",
        "from sklearn.ensemble import RandomForestClassifier\n",
        "from sklearn import metrics\n",
        "from sklearn.metrics import ConfusionMatrixDisplay, precision_score, recall_score, f1_score, auc\n",
        "from sklearn.preprocessing import StandardScaler\n",
        "from sklearn.preprocessing import OneHotEncoder\n",
        "from sklearn.impute import SimpleImputer\n",
        "from sklearn.compose import make_column_transformer\n",
        "from sklearn.model_selection import train_test_split\n",
        "from sklearn.compose import ColumnTransformer\n",
        "from sklearn.pipeline import Pipeline\n",
        "from sklearn.metrics import classification_report, confusion_matrix, accuracy_score\n",
        "from sklearn.model_selection import RandomizedSearchCV\n",
        "import tensorflow as tf\n",
        "import xgboost as xgb\n",
        "from xgboost import XGBClassifier\n",
        "from sklearn.tree import DecisionTreeClassifier, plot_tree\n",
        "from sklearn.feature_extraction import DictVectorizer\n",
        "from sklearn.pipeline import Pipeline\n",
        "from sklearn.model_selection import cross_val_score\n",
        "import seaborn as sns\n",
        "import warnings\n",
        "import re\n",
        "warnings.filterwarnings('ignore')"
      ]
    },
    {
      "cell_type": "markdown",
      "source": [
        "# **Lectura de datos**"
      ],
      "metadata": {
        "id": "yigi5tqASLhe"
      }
    },
    {
      "cell_type": "code",
      "source": [
        "df=pd.read_csv(\"https://raw.githubusercontent.com/lmencisoe/seguros/main/seguros_database.csv\",sep=\";\")"
      ],
      "metadata": {
        "id": "qBQOr86uJ5qs"
      },
      "execution_count": 16,
      "outputs": []
    },
    {
      "cell_type": "code",
      "source": [
        "df"
      ],
      "metadata": {
        "colab": {
          "base_uri": "https://localhost:8080/",
          "height": 423
        },
        "id": "i__ZdrW5LZUu",
        "outputId": "244d4a76-6080-41e3-aa9e-3f8894001fc5"
      },
      "execution_count": 18,
      "outputs": [
        {
          "output_type": "execute_result",
          "data": {
            "text/plain": [
              "           ACTECON   GRUANALI  antigüedad  TAMAEMP  nrotrab     riesgo  \\\n",
              "0      ACT_ECON_24   GRU_AN_4          10  TAMA__2       37  RIESGO__2   \n",
              "1      ACT_ECON_24   GRU_AN_4          10  TAMA__2       37  RIESGO__2   \n",
              "2      ACT_ECON_24   GRU_AN_4          10  TAMA__2       37  RIESGO__2   \n",
              "3      ACT_ECON_24   GRU_AN_4          10  TAMA__2       37  RIESGO__2   \n",
              "4      ACT_ECON_24   GRU_AN_4          10  TAMA__2       37  RIESGO__2   \n",
              "...            ...        ...         ...      ...      ...        ...   \n",
              "13963   ACT_ECON_5  GRU_AN_13          10  TAMA__2       91  RIESGO__3   \n",
              "13964  ACT_ECON_33   GRU_AN_9           7  TAMA__2      440  RIESGO__2   \n",
              "13965  ACT_ECON_12   GRU_AN_4          15  TAMA__2       37  RIESGO__3   \n",
              "13966   ACT_ECON_5  GRU_AN_13          16  TAMA__2        6  RIESGO__3   \n",
              "13967   ACT_ECON_5  GRU_AN_13          16  TAMA__2        6  RIESGO__3   \n",
              "\n",
              "          categoria  target     modular   prom_antes  cant_antes  \n",
              "0      CATEGORIA__4       1  MODULAR__1     0.000000           0  \n",
              "1      CATEGORIA__4       1  MODULAR__2  1457.843500           1  \n",
              "2      CATEGORIA__4       1  MODULAR__2     0.000000           0  \n",
              "3      CATEGORIA__4       1  MODULAR__2  2892.159467           2  \n",
              "4      CATEGORIA__4       1  MODULAR__2     0.000000           0  \n",
              "...             ...     ...         ...          ...         ...  \n",
              "13963  CATEGORIA__0       3  MODULAR__0  6807.300000           1  \n",
              "13964  CATEGORIA__6       1  MODULAR__0   191.473800           1  \n",
              "13965  CATEGORIA__4       2  MODULAR__0   302.441133           2  \n",
              "13966  CATEGORIA__0       4  MODULAR__0     0.000000           0  \n",
              "13967  CATEGORIA__0       4  MODULAR__0     0.000000           0  \n",
              "\n",
              "[13968 rows x 11 columns]"
            ],
            "text/html": [
              "\n",
              "  <div id=\"df-b4f983d4-cf54-4e0b-bc3a-fd1369901e3c\">\n",
              "    <div class=\"colab-df-container\">\n",
              "      <div>\n",
              "<style scoped>\n",
              "    .dataframe tbody tr th:only-of-type {\n",
              "        vertical-align: middle;\n",
              "    }\n",
              "\n",
              "    .dataframe tbody tr th {\n",
              "        vertical-align: top;\n",
              "    }\n",
              "\n",
              "    .dataframe thead th {\n",
              "        text-align: right;\n",
              "    }\n",
              "</style>\n",
              "<table border=\"1\" class=\"dataframe\">\n",
              "  <thead>\n",
              "    <tr style=\"text-align: right;\">\n",
              "      <th></th>\n",
              "      <th>ACTECON</th>\n",
              "      <th>GRUANALI</th>\n",
              "      <th>antigüedad</th>\n",
              "      <th>TAMAEMP</th>\n",
              "      <th>nrotrab</th>\n",
              "      <th>riesgo</th>\n",
              "      <th>categoria</th>\n",
              "      <th>target</th>\n",
              "      <th>modular</th>\n",
              "      <th>prom_antes</th>\n",
              "      <th>cant_antes</th>\n",
              "    </tr>\n",
              "  </thead>\n",
              "  <tbody>\n",
              "    <tr>\n",
              "      <th>0</th>\n",
              "      <td>ACT_ECON_24</td>\n",
              "      <td>GRU_AN_4</td>\n",
              "      <td>10</td>\n",
              "      <td>TAMA__2</td>\n",
              "      <td>37</td>\n",
              "      <td>RIESGO__2</td>\n",
              "      <td>CATEGORIA__4</td>\n",
              "      <td>1</td>\n",
              "      <td>MODULAR__1</td>\n",
              "      <td>0.000000</td>\n",
              "      <td>0</td>\n",
              "    </tr>\n",
              "    <tr>\n",
              "      <th>1</th>\n",
              "      <td>ACT_ECON_24</td>\n",
              "      <td>GRU_AN_4</td>\n",
              "      <td>10</td>\n",
              "      <td>TAMA__2</td>\n",
              "      <td>37</td>\n",
              "      <td>RIESGO__2</td>\n",
              "      <td>CATEGORIA__4</td>\n",
              "      <td>1</td>\n",
              "      <td>MODULAR__2</td>\n",
              "      <td>1457.843500</td>\n",
              "      <td>1</td>\n",
              "    </tr>\n",
              "    <tr>\n",
              "      <th>2</th>\n",
              "      <td>ACT_ECON_24</td>\n",
              "      <td>GRU_AN_4</td>\n",
              "      <td>10</td>\n",
              "      <td>TAMA__2</td>\n",
              "      <td>37</td>\n",
              "      <td>RIESGO__2</td>\n",
              "      <td>CATEGORIA__4</td>\n",
              "      <td>1</td>\n",
              "      <td>MODULAR__2</td>\n",
              "      <td>0.000000</td>\n",
              "      <td>0</td>\n",
              "    </tr>\n",
              "    <tr>\n",
              "      <th>3</th>\n",
              "      <td>ACT_ECON_24</td>\n",
              "      <td>GRU_AN_4</td>\n",
              "      <td>10</td>\n",
              "      <td>TAMA__2</td>\n",
              "      <td>37</td>\n",
              "      <td>RIESGO__2</td>\n",
              "      <td>CATEGORIA__4</td>\n",
              "      <td>1</td>\n",
              "      <td>MODULAR__2</td>\n",
              "      <td>2892.159467</td>\n",
              "      <td>2</td>\n",
              "    </tr>\n",
              "    <tr>\n",
              "      <th>4</th>\n",
              "      <td>ACT_ECON_24</td>\n",
              "      <td>GRU_AN_4</td>\n",
              "      <td>10</td>\n",
              "      <td>TAMA__2</td>\n",
              "      <td>37</td>\n",
              "      <td>RIESGO__2</td>\n",
              "      <td>CATEGORIA__4</td>\n",
              "      <td>1</td>\n",
              "      <td>MODULAR__2</td>\n",
              "      <td>0.000000</td>\n",
              "      <td>0</td>\n",
              "    </tr>\n",
              "    <tr>\n",
              "      <th>...</th>\n",
              "      <td>...</td>\n",
              "      <td>...</td>\n",
              "      <td>...</td>\n",
              "      <td>...</td>\n",
              "      <td>...</td>\n",
              "      <td>...</td>\n",
              "      <td>...</td>\n",
              "      <td>...</td>\n",
              "      <td>...</td>\n",
              "      <td>...</td>\n",
              "      <td>...</td>\n",
              "    </tr>\n",
              "    <tr>\n",
              "      <th>13963</th>\n",
              "      <td>ACT_ECON_5</td>\n",
              "      <td>GRU_AN_13</td>\n",
              "      <td>10</td>\n",
              "      <td>TAMA__2</td>\n",
              "      <td>91</td>\n",
              "      <td>RIESGO__3</td>\n",
              "      <td>CATEGORIA__0</td>\n",
              "      <td>3</td>\n",
              "      <td>MODULAR__0</td>\n",
              "      <td>6807.300000</td>\n",
              "      <td>1</td>\n",
              "    </tr>\n",
              "    <tr>\n",
              "      <th>13964</th>\n",
              "      <td>ACT_ECON_33</td>\n",
              "      <td>GRU_AN_9</td>\n",
              "      <td>7</td>\n",
              "      <td>TAMA__2</td>\n",
              "      <td>440</td>\n",
              "      <td>RIESGO__2</td>\n",
              "      <td>CATEGORIA__6</td>\n",
              "      <td>1</td>\n",
              "      <td>MODULAR__0</td>\n",
              "      <td>191.473800</td>\n",
              "      <td>1</td>\n",
              "    </tr>\n",
              "    <tr>\n",
              "      <th>13965</th>\n",
              "      <td>ACT_ECON_12</td>\n",
              "      <td>GRU_AN_4</td>\n",
              "      <td>15</td>\n",
              "      <td>TAMA__2</td>\n",
              "      <td>37</td>\n",
              "      <td>RIESGO__3</td>\n",
              "      <td>CATEGORIA__4</td>\n",
              "      <td>2</td>\n",
              "      <td>MODULAR__0</td>\n",
              "      <td>302.441133</td>\n",
              "      <td>2</td>\n",
              "    </tr>\n",
              "    <tr>\n",
              "      <th>13966</th>\n",
              "      <td>ACT_ECON_5</td>\n",
              "      <td>GRU_AN_13</td>\n",
              "      <td>16</td>\n",
              "      <td>TAMA__2</td>\n",
              "      <td>6</td>\n",
              "      <td>RIESGO__3</td>\n",
              "      <td>CATEGORIA__0</td>\n",
              "      <td>4</td>\n",
              "      <td>MODULAR__0</td>\n",
              "      <td>0.000000</td>\n",
              "      <td>0</td>\n",
              "    </tr>\n",
              "    <tr>\n",
              "      <th>13967</th>\n",
              "      <td>ACT_ECON_5</td>\n",
              "      <td>GRU_AN_13</td>\n",
              "      <td>16</td>\n",
              "      <td>TAMA__2</td>\n",
              "      <td>6</td>\n",
              "      <td>RIESGO__3</td>\n",
              "      <td>CATEGORIA__0</td>\n",
              "      <td>4</td>\n",
              "      <td>MODULAR__0</td>\n",
              "      <td>0.000000</td>\n",
              "      <td>0</td>\n",
              "    </tr>\n",
              "  </tbody>\n",
              "</table>\n",
              "<p>13968 rows × 11 columns</p>\n",
              "</div>\n",
              "      <button class=\"colab-df-convert\" onclick=\"convertToInteractive('df-b4f983d4-cf54-4e0b-bc3a-fd1369901e3c')\"\n",
              "              title=\"Convert this dataframe to an interactive table.\"\n",
              "              style=\"display:none;\">\n",
              "        \n",
              "  <svg xmlns=\"http://www.w3.org/2000/svg\" height=\"24px\"viewBox=\"0 0 24 24\"\n",
              "       width=\"24px\">\n",
              "    <path d=\"M0 0h24v24H0V0z\" fill=\"none\"/>\n",
              "    <path d=\"M18.56 5.44l.94 2.06.94-2.06 2.06-.94-2.06-.94-.94-2.06-.94 2.06-2.06.94zm-11 1L8.5 8.5l.94-2.06 2.06-.94-2.06-.94L8.5 2.5l-.94 2.06-2.06.94zm10 10l.94 2.06.94-2.06 2.06-.94-2.06-.94-.94-2.06-.94 2.06-2.06.94z\"/><path d=\"M17.41 7.96l-1.37-1.37c-.4-.4-.92-.59-1.43-.59-.52 0-1.04.2-1.43.59L10.3 9.45l-7.72 7.72c-.78.78-.78 2.05 0 2.83L4 21.41c.39.39.9.59 1.41.59.51 0 1.02-.2 1.41-.59l7.78-7.78 2.81-2.81c.8-.78.8-2.07 0-2.86zM5.41 20L4 18.59l7.72-7.72 1.47 1.35L5.41 20z\"/>\n",
              "  </svg>\n",
              "      </button>\n",
              "      \n",
              "  <style>\n",
              "    .colab-df-container {\n",
              "      display:flex;\n",
              "      flex-wrap:wrap;\n",
              "      gap: 12px;\n",
              "    }\n",
              "\n",
              "    .colab-df-convert {\n",
              "      background-color: #E8F0FE;\n",
              "      border: none;\n",
              "      border-radius: 50%;\n",
              "      cursor: pointer;\n",
              "      display: none;\n",
              "      fill: #1967D2;\n",
              "      height: 32px;\n",
              "      padding: 0 0 0 0;\n",
              "      width: 32px;\n",
              "    }\n",
              "\n",
              "    .colab-df-convert:hover {\n",
              "      background-color: #E2EBFA;\n",
              "      box-shadow: 0px 1px 2px rgba(60, 64, 67, 0.3), 0px 1px 3px 1px rgba(60, 64, 67, 0.15);\n",
              "      fill: #174EA6;\n",
              "    }\n",
              "\n",
              "    [theme=dark] .colab-df-convert {\n",
              "      background-color: #3B4455;\n",
              "      fill: #D2E3FC;\n",
              "    }\n",
              "\n",
              "    [theme=dark] .colab-df-convert:hover {\n",
              "      background-color: #434B5C;\n",
              "      box-shadow: 0px 1px 3px 1px rgba(0, 0, 0, 0.15);\n",
              "      filter: drop-shadow(0px 1px 2px rgba(0, 0, 0, 0.3));\n",
              "      fill: #FFFFFF;\n",
              "    }\n",
              "  </style>\n",
              "\n",
              "      <script>\n",
              "        const buttonEl =\n",
              "          document.querySelector('#df-b4f983d4-cf54-4e0b-bc3a-fd1369901e3c button.colab-df-convert');\n",
              "        buttonEl.style.display =\n",
              "          google.colab.kernel.accessAllowed ? 'block' : 'none';\n",
              "\n",
              "        async function convertToInteractive(key) {\n",
              "          const element = document.querySelector('#df-b4f983d4-cf54-4e0b-bc3a-fd1369901e3c');\n",
              "          const dataTable =\n",
              "            await google.colab.kernel.invokeFunction('convertToInteractive',\n",
              "                                                     [key], {});\n",
              "          if (!dataTable) return;\n",
              "\n",
              "          const docLinkHtml = 'Like what you see? Visit the ' +\n",
              "            '<a target=\"_blank\" href=https://colab.research.google.com/notebooks/data_table.ipynb>data table notebook</a>'\n",
              "            + ' to learn more about interactive tables.';\n",
              "          element.innerHTML = '';\n",
              "          dataTable['output_type'] = 'display_data';\n",
              "          await google.colab.output.renderOutput(dataTable, element);\n",
              "          const docLink = document.createElement('div');\n",
              "          docLink.innerHTML = docLinkHtml;\n",
              "          element.appendChild(docLink);\n",
              "        }\n",
              "      </script>\n",
              "    </div>\n",
              "  </div>\n",
              "  "
            ]
          },
          "metadata": {},
          "execution_count": 18
        }
      ]
    },
    {
      "cell_type": "code",
      "source": [
        "df2 = df.copy()\n",
        "#df2 = df2.drop(columns=['ACTECON'])\n",
        "df2 = df2.drop_duplicates()\n",
        "df2"
      ],
      "metadata": {
        "id": "6DENFHUcLS0Q",
        "colab": {
          "base_uri": "https://localhost:8080/",
          "height": 423
        },
        "outputId": "e282ff63-5d3b-4040-d441-c4a45867ed0d"
      },
      "execution_count": 19,
      "outputs": [
        {
          "output_type": "execute_result",
          "data": {
            "text/plain": [
              "           ACTECON   GRUANALI  antigüedad  TAMAEMP  nrotrab     riesgo  \\\n",
              "0      ACT_ECON_24   GRU_AN_4          10  TAMA__2       37  RIESGO__2   \n",
              "1      ACT_ECON_24   GRU_AN_4          10  TAMA__2       37  RIESGO__2   \n",
              "2      ACT_ECON_24   GRU_AN_4          10  TAMA__2       37  RIESGO__2   \n",
              "3      ACT_ECON_24   GRU_AN_4          10  TAMA__2       37  RIESGO__2   \n",
              "5      ACT_ECON_24   GRU_AN_4          10  TAMA__2       37  RIESGO__2   \n",
              "...            ...        ...         ...      ...      ...        ...   \n",
              "13958   ACT_ECON_5  GRU_AN_13          10  TAMA__2       91  RIESGO__3   \n",
              "13963   ACT_ECON_5  GRU_AN_13          10  TAMA__2       91  RIESGO__3   \n",
              "13964  ACT_ECON_33   GRU_AN_9           7  TAMA__2      440  RIESGO__2   \n",
              "13965  ACT_ECON_12   GRU_AN_4          15  TAMA__2       37  RIESGO__3   \n",
              "13966   ACT_ECON_5  GRU_AN_13          16  TAMA__2        6  RIESGO__3   \n",
              "\n",
              "          categoria  target     modular    prom_antes  cant_antes  \n",
              "0      CATEGORIA__4       1  MODULAR__1      0.000000           0  \n",
              "1      CATEGORIA__4       1  MODULAR__2   1457.843500           1  \n",
              "2      CATEGORIA__4       1  MODULAR__2      0.000000           0  \n",
              "3      CATEGORIA__4       1  MODULAR__2   2892.159467           2  \n",
              "5      CATEGORIA__4       1  MODULAR__2    472.293400           7  \n",
              "...             ...     ...         ...           ...         ...  \n",
              "13958  CATEGORIA__0       3  MODULAR__0  29127.806530           2  \n",
              "13963  CATEGORIA__0       3  MODULAR__0   6807.300000           1  \n",
              "13964  CATEGORIA__6       1  MODULAR__0    191.473800           1  \n",
              "13965  CATEGORIA__4       2  MODULAR__0    302.441133           2  \n",
              "13966  CATEGORIA__0       4  MODULAR__0      0.000000           0  \n",
              "\n",
              "[13166 rows x 11 columns]"
            ],
            "text/html": [
              "\n",
              "  <div id=\"df-6cc74abe-534a-491e-b203-4ba0df418a5b\">\n",
              "    <div class=\"colab-df-container\">\n",
              "      <div>\n",
              "<style scoped>\n",
              "    .dataframe tbody tr th:only-of-type {\n",
              "        vertical-align: middle;\n",
              "    }\n",
              "\n",
              "    .dataframe tbody tr th {\n",
              "        vertical-align: top;\n",
              "    }\n",
              "\n",
              "    .dataframe thead th {\n",
              "        text-align: right;\n",
              "    }\n",
              "</style>\n",
              "<table border=\"1\" class=\"dataframe\">\n",
              "  <thead>\n",
              "    <tr style=\"text-align: right;\">\n",
              "      <th></th>\n",
              "      <th>ACTECON</th>\n",
              "      <th>GRUANALI</th>\n",
              "      <th>antigüedad</th>\n",
              "      <th>TAMAEMP</th>\n",
              "      <th>nrotrab</th>\n",
              "      <th>riesgo</th>\n",
              "      <th>categoria</th>\n",
              "      <th>target</th>\n",
              "      <th>modular</th>\n",
              "      <th>prom_antes</th>\n",
              "      <th>cant_antes</th>\n",
              "    </tr>\n",
              "  </thead>\n",
              "  <tbody>\n",
              "    <tr>\n",
              "      <th>0</th>\n",
              "      <td>ACT_ECON_24</td>\n",
              "      <td>GRU_AN_4</td>\n",
              "      <td>10</td>\n",
              "      <td>TAMA__2</td>\n",
              "      <td>37</td>\n",
              "      <td>RIESGO__2</td>\n",
              "      <td>CATEGORIA__4</td>\n",
              "      <td>1</td>\n",
              "      <td>MODULAR__1</td>\n",
              "      <td>0.000000</td>\n",
              "      <td>0</td>\n",
              "    </tr>\n",
              "    <tr>\n",
              "      <th>1</th>\n",
              "      <td>ACT_ECON_24</td>\n",
              "      <td>GRU_AN_4</td>\n",
              "      <td>10</td>\n",
              "      <td>TAMA__2</td>\n",
              "      <td>37</td>\n",
              "      <td>RIESGO__2</td>\n",
              "      <td>CATEGORIA__4</td>\n",
              "      <td>1</td>\n",
              "      <td>MODULAR__2</td>\n",
              "      <td>1457.843500</td>\n",
              "      <td>1</td>\n",
              "    </tr>\n",
              "    <tr>\n",
              "      <th>2</th>\n",
              "      <td>ACT_ECON_24</td>\n",
              "      <td>GRU_AN_4</td>\n",
              "      <td>10</td>\n",
              "      <td>TAMA__2</td>\n",
              "      <td>37</td>\n",
              "      <td>RIESGO__2</td>\n",
              "      <td>CATEGORIA__4</td>\n",
              "      <td>1</td>\n",
              "      <td>MODULAR__2</td>\n",
              "      <td>0.000000</td>\n",
              "      <td>0</td>\n",
              "    </tr>\n",
              "    <tr>\n",
              "      <th>3</th>\n",
              "      <td>ACT_ECON_24</td>\n",
              "      <td>GRU_AN_4</td>\n",
              "      <td>10</td>\n",
              "      <td>TAMA__2</td>\n",
              "      <td>37</td>\n",
              "      <td>RIESGO__2</td>\n",
              "      <td>CATEGORIA__4</td>\n",
              "      <td>1</td>\n",
              "      <td>MODULAR__2</td>\n",
              "      <td>2892.159467</td>\n",
              "      <td>2</td>\n",
              "    </tr>\n",
              "    <tr>\n",
              "      <th>5</th>\n",
              "      <td>ACT_ECON_24</td>\n",
              "      <td>GRU_AN_4</td>\n",
              "      <td>10</td>\n",
              "      <td>TAMA__2</td>\n",
              "      <td>37</td>\n",
              "      <td>RIESGO__2</td>\n",
              "      <td>CATEGORIA__4</td>\n",
              "      <td>1</td>\n",
              "      <td>MODULAR__2</td>\n",
              "      <td>472.293400</td>\n",
              "      <td>7</td>\n",
              "    </tr>\n",
              "    <tr>\n",
              "      <th>...</th>\n",
              "      <td>...</td>\n",
              "      <td>...</td>\n",
              "      <td>...</td>\n",
              "      <td>...</td>\n",
              "      <td>...</td>\n",
              "      <td>...</td>\n",
              "      <td>...</td>\n",
              "      <td>...</td>\n",
              "      <td>...</td>\n",
              "      <td>...</td>\n",
              "      <td>...</td>\n",
              "    </tr>\n",
              "    <tr>\n",
              "      <th>13958</th>\n",
              "      <td>ACT_ECON_5</td>\n",
              "      <td>GRU_AN_13</td>\n",
              "      <td>10</td>\n",
              "      <td>TAMA__2</td>\n",
              "      <td>91</td>\n",
              "      <td>RIESGO__3</td>\n",
              "      <td>CATEGORIA__0</td>\n",
              "      <td>3</td>\n",
              "      <td>MODULAR__0</td>\n",
              "      <td>29127.806530</td>\n",
              "      <td>2</td>\n",
              "    </tr>\n",
              "    <tr>\n",
              "      <th>13963</th>\n",
              "      <td>ACT_ECON_5</td>\n",
              "      <td>GRU_AN_13</td>\n",
              "      <td>10</td>\n",
              "      <td>TAMA__2</td>\n",
              "      <td>91</td>\n",
              "      <td>RIESGO__3</td>\n",
              "      <td>CATEGORIA__0</td>\n",
              "      <td>3</td>\n",
              "      <td>MODULAR__0</td>\n",
              "      <td>6807.300000</td>\n",
              "      <td>1</td>\n",
              "    </tr>\n",
              "    <tr>\n",
              "      <th>13964</th>\n",
              "      <td>ACT_ECON_33</td>\n",
              "      <td>GRU_AN_9</td>\n",
              "      <td>7</td>\n",
              "      <td>TAMA__2</td>\n",
              "      <td>440</td>\n",
              "      <td>RIESGO__2</td>\n",
              "      <td>CATEGORIA__6</td>\n",
              "      <td>1</td>\n",
              "      <td>MODULAR__0</td>\n",
              "      <td>191.473800</td>\n",
              "      <td>1</td>\n",
              "    </tr>\n",
              "    <tr>\n",
              "      <th>13965</th>\n",
              "      <td>ACT_ECON_12</td>\n",
              "      <td>GRU_AN_4</td>\n",
              "      <td>15</td>\n",
              "      <td>TAMA__2</td>\n",
              "      <td>37</td>\n",
              "      <td>RIESGO__3</td>\n",
              "      <td>CATEGORIA__4</td>\n",
              "      <td>2</td>\n",
              "      <td>MODULAR__0</td>\n",
              "      <td>302.441133</td>\n",
              "      <td>2</td>\n",
              "    </tr>\n",
              "    <tr>\n",
              "      <th>13966</th>\n",
              "      <td>ACT_ECON_5</td>\n",
              "      <td>GRU_AN_13</td>\n",
              "      <td>16</td>\n",
              "      <td>TAMA__2</td>\n",
              "      <td>6</td>\n",
              "      <td>RIESGO__3</td>\n",
              "      <td>CATEGORIA__0</td>\n",
              "      <td>4</td>\n",
              "      <td>MODULAR__0</td>\n",
              "      <td>0.000000</td>\n",
              "      <td>0</td>\n",
              "    </tr>\n",
              "  </tbody>\n",
              "</table>\n",
              "<p>13166 rows × 11 columns</p>\n",
              "</div>\n",
              "      <button class=\"colab-df-convert\" onclick=\"convertToInteractive('df-6cc74abe-534a-491e-b203-4ba0df418a5b')\"\n",
              "              title=\"Convert this dataframe to an interactive table.\"\n",
              "              style=\"display:none;\">\n",
              "        \n",
              "  <svg xmlns=\"http://www.w3.org/2000/svg\" height=\"24px\"viewBox=\"0 0 24 24\"\n",
              "       width=\"24px\">\n",
              "    <path d=\"M0 0h24v24H0V0z\" fill=\"none\"/>\n",
              "    <path d=\"M18.56 5.44l.94 2.06.94-2.06 2.06-.94-2.06-.94-.94-2.06-.94 2.06-2.06.94zm-11 1L8.5 8.5l.94-2.06 2.06-.94-2.06-.94L8.5 2.5l-.94 2.06-2.06.94zm10 10l.94 2.06.94-2.06 2.06-.94-2.06-.94-.94-2.06-.94 2.06-2.06.94z\"/><path d=\"M17.41 7.96l-1.37-1.37c-.4-.4-.92-.59-1.43-.59-.52 0-1.04.2-1.43.59L10.3 9.45l-7.72 7.72c-.78.78-.78 2.05 0 2.83L4 21.41c.39.39.9.59 1.41.59.51 0 1.02-.2 1.41-.59l7.78-7.78 2.81-2.81c.8-.78.8-2.07 0-2.86zM5.41 20L4 18.59l7.72-7.72 1.47 1.35L5.41 20z\"/>\n",
              "  </svg>\n",
              "      </button>\n",
              "      \n",
              "  <style>\n",
              "    .colab-df-container {\n",
              "      display:flex;\n",
              "      flex-wrap:wrap;\n",
              "      gap: 12px;\n",
              "    }\n",
              "\n",
              "    .colab-df-convert {\n",
              "      background-color: #E8F0FE;\n",
              "      border: none;\n",
              "      border-radius: 50%;\n",
              "      cursor: pointer;\n",
              "      display: none;\n",
              "      fill: #1967D2;\n",
              "      height: 32px;\n",
              "      padding: 0 0 0 0;\n",
              "      width: 32px;\n",
              "    }\n",
              "\n",
              "    .colab-df-convert:hover {\n",
              "      background-color: #E2EBFA;\n",
              "      box-shadow: 0px 1px 2px rgba(60, 64, 67, 0.3), 0px 1px 3px 1px rgba(60, 64, 67, 0.15);\n",
              "      fill: #174EA6;\n",
              "    }\n",
              "\n",
              "    [theme=dark] .colab-df-convert {\n",
              "      background-color: #3B4455;\n",
              "      fill: #D2E3FC;\n",
              "    }\n",
              "\n",
              "    [theme=dark] .colab-df-convert:hover {\n",
              "      background-color: #434B5C;\n",
              "      box-shadow: 0px 1px 3px 1px rgba(0, 0, 0, 0.15);\n",
              "      filter: drop-shadow(0px 1px 2px rgba(0, 0, 0, 0.3));\n",
              "      fill: #FFFFFF;\n",
              "    }\n",
              "  </style>\n",
              "\n",
              "      <script>\n",
              "        const buttonEl =\n",
              "          document.querySelector('#df-6cc74abe-534a-491e-b203-4ba0df418a5b button.colab-df-convert');\n",
              "        buttonEl.style.display =\n",
              "          google.colab.kernel.accessAllowed ? 'block' : 'none';\n",
              "\n",
              "        async function convertToInteractive(key) {\n",
              "          const element = document.querySelector('#df-6cc74abe-534a-491e-b203-4ba0df418a5b');\n",
              "          const dataTable =\n",
              "            await google.colab.kernel.invokeFunction('convertToInteractive',\n",
              "                                                     [key], {});\n",
              "          if (!dataTable) return;\n",
              "\n",
              "          const docLinkHtml = 'Like what you see? Visit the ' +\n",
              "            '<a target=\"_blank\" href=https://colab.research.google.com/notebooks/data_table.ipynb>data table notebook</a>'\n",
              "            + ' to learn more about interactive tables.';\n",
              "          element.innerHTML = '';\n",
              "          dataTable['output_type'] = 'display_data';\n",
              "          await google.colab.output.renderOutput(dataTable, element);\n",
              "          const docLink = document.createElement('div');\n",
              "          docLink.innerHTML = docLinkHtml;\n",
              "          element.appendChild(docLink);\n",
              "        }\n",
              "      </script>\n",
              "    </div>\n",
              "  </div>\n",
              "  "
            ]
          },
          "metadata": {},
          "execution_count": 19
        }
      ]
    },
    {
      "cell_type": "markdown",
      "source": [
        "# **Definición de X y Y**"
      ],
      "metadata": {
        "id": "NFPfv0vXSTP-"
      }
    },
    {
      "cell_type": "code",
      "source": [
        "X_total = df2.drop(['target'], axis=1)\n",
        "Y_total = df2['target'].astype(float) - 1"
      ],
      "metadata": {
        "id": "0twI9X2NMAY4"
      },
      "execution_count": 20,
      "outputs": []
    },
    {
      "cell_type": "markdown",
      "source": [
        "# **Split de train y test**"
      ],
      "metadata": {
        "id": "pVcKy1cfSXo0"
      }
    },
    {
      "cell_type": "code",
      "source": [
        "X_train, X_test, y_train, y_test = train_test_split(X_total, Y_total, test_size=0.2, random_state=2022)"
      ],
      "metadata": {
        "id": "w3dGg2_OMMNP"
      },
      "execution_count": 21,
      "outputs": []
    },
    {
      "cell_type": "code",
      "source": [
        "y_train"
      ],
      "metadata": {
        "colab": {
          "base_uri": "https://localhost:8080/"
        },
        "id": "kmpIvGyq-m6E",
        "outputId": "72f1b036-7eb0-4ea2-daaa-0de058673755"
      },
      "execution_count": 22,
      "outputs": [
        {
          "output_type": "execute_result",
          "data": {
            "text/plain": [
              "1095     2.0\n",
              "11909    2.0\n",
              "10340    0.0\n",
              "3346     3.0\n",
              "1085     3.0\n",
              "        ... \n",
              "7048     2.0\n",
              "4927     3.0\n",
              "202      3.0\n",
              "1342     2.0\n",
              "5208     2.0\n",
              "Name: target, Length: 10532, dtype: float64"
            ]
          },
          "metadata": {},
          "execution_count": 22
        }
      ]
    },
    {
      "cell_type": "markdown",
      "source": [
        "# **Matriz de correlaciones**"
      ],
      "metadata": {
        "id": "GNGdDh2gSbdY"
      }
    },
    {
      "cell_type": "code",
      "source": [
        "matriz_correlacion = df2.corr().round(2)\n",
        "sns.heatmap(data=matriz_correlacion, annot=True)\n"
      ],
      "metadata": {
        "colab": {
          "base_uri": "https://localhost:8080/",
          "height": 453
        },
        "id": "azAoFO6mNNec",
        "outputId": "64e9473d-3a37-4cc1-e6b3-67ba1bf64c61"
      },
      "execution_count": 23,
      "outputs": [
        {
          "output_type": "execute_result",
          "data": {
            "text/plain": [
              "<Axes: >"
            ]
          },
          "metadata": {},
          "execution_count": 23
        },
        {
          "output_type": "display_data",
          "data": {
            "text/plain": [
              "<Figure size 640x480 with 2 Axes>"
            ],
            "image/png": "[encoded data removed]"
          },
          "metadata": {}
        }
      ]
    },
    {
      "cell_type": "markdown",
      "source": [
        "# **Pipeline de transformmación numérica y categórica**"
      ],
      "metadata": {
        "id": "EiaFxNZlSkTZ"
      }
    },
    {
      "cell_type": "code",
      "source": [
        "cat_features = X_total.select_dtypes(exclude=[\"float64\", \"int64\"]).columns.to_list()\n",
        "numeric_features = X_total.select_dtypes([\"float64\", \"int64\"]).columns.to_list()\n",
        "\n",
        "categorical_transformer = Pipeline(\n",
        "            steps=[\n",
        "                ('imputer', SimpleImputer(strategy='constant', fill_value='missing')),\n",
        "                ('encoder', OneHotEncoder())\n",
        "            ]\n",
        "        )    \n",
        "\n",
        "numeric_transformer = Pipeline(\n",
        "            steps=[\n",
        "                ('imputer', SimpleImputer(strategy='most_frequent')),\n",
        "                ('scaler', StandardScaler())\n",
        "            ]\n",
        "        )\n",
        "\n",
        "preprocessor = ColumnTransformer(\n",
        "            transformers=[\n",
        "                ('numerical', numeric_transformer, numeric_features),\n",
        "                ('categorical', categorical_transformer, cat_features)\n",
        "            ]\n",
        "        )"
      ],
      "metadata": {
        "id": "hdfpXMa4MSJf"
      },
      "execution_count": 24,
      "outputs": []
    },
    {
      "cell_type": "markdown",
      "source": [
        "***Pipeline de XGBoost***\n"
      ],
      "metadata": {
        "id": "2C30A609Sr-9"
      }
    },
    {
      "cell_type": "code",
      "source": [
        "\n",
        "xgb_pipeline = Pipeline(\n",
        "            [\n",
        "                (\"preprocessor\", preprocessor),\n",
        "                (\n",
        "                    \"classifier\", XGBClassifier(),\n",
        "                ),\n",
        "            ]\n",
        "        )\n",
        "     "
      ],
      "metadata": {
        "id": "XBOqjYoDMV7v"
      },
      "execution_count": 25,
      "outputs": []
    },
    {
      "cell_type": "code",
      "source": [
        "\n",
        "xgb_param_grid = {\n",
        "    'classifier__learning_rate': np.arange(0.05, 0.5, 0.05),\n",
        "    'classifier__max_depth': np.arange(2, 10, 1),\n",
        "    'classifier__n_estimators': np.arange(2, 20, 1),\n",
        "    'classifier__subsample': np.arange(0.05, 0.5, 0.05)\n",
        "}\n",
        "\n",
        "randomized_roc_auc_xgb = RandomizedSearchCV(estimator=xgb_pipeline, \n",
        "                                            param_distributions=xgb_param_grid,\n",
        "                                            n_iter=50,\n",
        "                                            #scoring='roc_auc',\n",
        "                                            cv=3, \n",
        "                                            verbose=1)\n",
        "\n",
        "with tf.device('/device:GPU:0'): \n",
        "  randomized_roc_auc_xgb.fit(X_train, y_train)\n",
        "\n",
        "print('Best AUC: ', randomized_roc_auc_xgb.best_score_)\n",
        "#print('Estimator: ', randomized_roc_auc.best_estimator_)"
      ],
      "metadata": {
        "colab": {
          "base_uri": "https://localhost:8080/"
        },
        "id": "hbXbIWSbMXh4",
        "outputId": "315a56ef-7290-489d-9e71-b31c16ea9335"
      },
      "execution_count": 33,
      "outputs": [
        {
          "output_type": "stream",
          "name": "stdout",
          "text": [
            "Fitting 3 folds for each of 50 candidates, totalling 150 fits\n",
            "Best AUC:  nan\n"
          ]
        }
      ]
    },
    {
      "cell_type": "code",
      "source": [
        "print(randomized_roc_auc_xgb.best_params_)"
      ],
      "metadata": {
        "id": "mApMEiY-Jaa4",
        "outputId": "c6c69a32-b8e4-41ef-feee-6fe2bbafe976",
        "colab": {
          "base_uri": "https://localhost:8080/"
        }
      },
      "execution_count": 39,
      "outputs": [
        {
          "output_type": "stream",
          "name": "stdout",
          "text": [
            "{'classifier__subsample': 0.45, 'classifier__n_estimators': 3, 'classifier__max_depth': 6, 'classifier__learning_rate': 0.4}\n"
          ]
        }
      ]
    },
    {
      "cell_type": "code",
      "source": [
        "xgb_selecc = xgb.XGBClassifier(nthread=3, #when use hyperthread, xgboost may become slower\n",
        "         objective='multi:softprob',\n",
        "         learning_rate= 0.4, #so called `eta` value\n",
        "         max_depth= 6,\n",
        "         n_estimators = 3,\n",
        "         subsample= 0.45,\n",
        "         seed = 2022)\n"
      ],
      "metadata": {
        "id": "5ytxzIVrJsj2"
      },
      "execution_count": 40,
      "outputs": []
    },
    {
      "cell_type": "code",
      "source": [
        "pipeline_trans = Pipeline(\n",
        "            [\n",
        "                (\"preprocessor\", preprocessor),\n",
        "            ]\n",
        "        )\n",
        "     "
      ],
      "metadata": {
        "id": "CUCgNuVXKACb"
      },
      "execution_count": 44,
      "outputs": []
    },
    {
      "cell_type": "code",
      "source": [],
      "metadata": {
        "id": "o7VCxiRNKdEh",
        "outputId": "abee4be3-10af-412d-9e65-748f163e5af2",
        "colab": {
          "base_uri": "https://localhost:8080/",
          "height": 172
        }
      },
      "execution_count": 45,
      "outputs": [
        {
          "output_type": "error",
          "ename": "TypeError",
          "evalue": "ignored",
          "traceback": [
            "\u001b[0;31m---------------------------------------------------------------------------\u001b[0m",
            "\u001b[0;31mTypeError\u001b[0m                                 Traceback (most recent call last)",
            "\u001b[0;32m<ipython-input-45-19622e9758a8>\u001b[0m in \u001b[0;36m<cell line: 1>\u001b[0;34m()\u001b[0m\n\u001b[0;32m----> 1\u001b[0;31m \u001b[0mpipeline_trans\u001b[0m\u001b[0;34m(\u001b[0m\u001b[0mX_train\u001b[0m\u001b[0;34m)\u001b[0m\u001b[0;34m\u001b[0m\u001b[0;34m\u001b[0m\u001b[0m\n\u001b[0m",
            "\u001b[0;31mTypeError\u001b[0m: 'Pipeline' object is not callable"
          ]
        }
      ]
    },
    {
      "cell_type": "code",
      "source": [
        "xgb_selecc.fit(X_train,\n",
        "         y_train,  \n",
        "         eval_metric=\"merror\",\n",
        "         early_stopping_rounds=20,\n",
        "         eval_set = [(X_train, y_train),(X_test, y_test)])"
      ],
      "metadata": {
        "id": "2TV_AeeNJ2dH",
        "outputId": "90c0d53a-1b24-40b2-f397-0dc9cdbd270e",
        "colab": {
          "base_uri": "https://localhost:8080/",
          "height": 417
        }
      },
      "execution_count": 41,
      "outputs": [
        {
          "output_type": "error",
          "ename": "ValueError",
          "evalue": "ignored",
          "traceback": [
            "\u001b[0;31m---------------------------------------------------------------------------\u001b[0m",
            "\u001b[0;31mValueError\u001b[0m                                Traceback (most recent call last)",
            "\u001b[0;32m<ipython-input-41-fa6325075581>\u001b[0m in \u001b[0;36m<cell line: 1>\u001b[0;34m()\u001b[0m\n\u001b[0;32m----> 1\u001b[0;31m xgb_selecc.fit(X_train,\n\u001b[0m\u001b[1;32m      2\u001b[0m          \u001b[0my_train\u001b[0m\u001b[0;34m,\u001b[0m\u001b[0;34m\u001b[0m\u001b[0;34m\u001b[0m\u001b[0m\n\u001b[1;32m      3\u001b[0m          \u001b[0meval_metric\u001b[0m\u001b[0;34m=\u001b[0m\u001b[0;34m\"merror\"\u001b[0m\u001b[0;34m,\u001b[0m\u001b[0;34m\u001b[0m\u001b[0;34m\u001b[0m\u001b[0m\n\u001b[1;32m      4\u001b[0m          \u001b[0mearly_stopping_rounds\u001b[0m\u001b[0;34m=\u001b[0m\u001b[0;36m20\u001b[0m\u001b[0;34m,\u001b[0m\u001b[0;34m\u001b[0m\u001b[0;34m\u001b[0m\u001b[0m\n\u001b[1;32m      5\u001b[0m          eval_set = [(X_train, y_train),(X_test, y_test)])\n",
            "\u001b[0;32m/usr/local/lib/python3.9/dist-packages/xgboost/core.py\u001b[0m in \u001b[0;36minner_f\u001b[0;34m(*args, **kwargs)\u001b[0m\n\u001b[1;32m    618\u001b[0m             \u001b[0;32mfor\u001b[0m \u001b[0mk\u001b[0m\u001b[0;34m,\u001b[0m \u001b[0marg\u001b[0m \u001b[0;32min\u001b[0m \u001b[0mzip\u001b[0m\u001b[0;34m(\u001b[0m\u001b[0msig\u001b[0m\u001b[0;34m.\u001b[0m\u001b[0mparameters\u001b[0m\u001b[0;34m,\u001b[0m \u001b[0margs\u001b[0m\u001b[0;34m)\u001b[0m\u001b[0;34m:\u001b[0m\u001b[0;34m\u001b[0m\u001b[0;34m\u001b[0m\u001b[0m\n\u001b[1;32m    619\u001b[0m                 \u001b[0mkwargs\u001b[0m\u001b[0;34m[\u001b[0m\u001b[0mk\u001b[0m\u001b[0;34m]\u001b[0m \u001b[0;34m=\u001b[0m \u001b[0marg\u001b[0m\u001b[0;34m\u001b[0m\u001b[0;34m\u001b[0m\u001b[0m\n\u001b[0;32m--> 620\u001b[0;31m             \u001b[0;32mreturn\u001b[0m \u001b[0mfunc\u001b[0m\u001b[0;34m(\u001b[0m\u001b[0;34m**\u001b[0m\u001b[0mkwargs\u001b[0m\u001b[0;34m)\u001b[0m\u001b[0;34m\u001b[0m\u001b[0;34m\u001b[0m\u001b[0m\n\u001b[0m\u001b[1;32m    621\u001b[0m \u001b[0;34m\u001b[0m\u001b[0m\n\u001b[1;32m    622\u001b[0m         \u001b[0;32mreturn\u001b[0m \u001b[0minner_f\u001b[0m\u001b[0;34m\u001b[0m\u001b[0;34m\u001b[0m\u001b[0m\n",
            "\u001b[0;32m/usr/local/lib/python3.9/dist-packages/xgboost/sklearn.py\u001b[0m in \u001b[0;36mfit\u001b[0;34m(self, X, y, sample_weight, base_margin, eval_set, eval_metric, early_stopping_rounds, verbose, xgb_model, sample_weight_eval_set, base_margin_eval_set, feature_weights, callbacks)\u001b[0m\n\u001b[1;32m   1469\u001b[0m                 \u001b[0mxgb_model\u001b[0m\u001b[0;34m,\u001b[0m \u001b[0meval_metric\u001b[0m\u001b[0;34m,\u001b[0m \u001b[0mparams\u001b[0m\u001b[0;34m,\u001b[0m \u001b[0mearly_stopping_rounds\u001b[0m\u001b[0;34m,\u001b[0m \u001b[0mcallbacks\u001b[0m\u001b[0;34m\u001b[0m\u001b[0;34m\u001b[0m\u001b[0m\n\u001b[1;32m   1470\u001b[0m             )\n\u001b[0;32m-> 1471\u001b[0;31m             train_dmatrix, evals = _wrap_evaluation_matrices(\n\u001b[0m\u001b[1;32m   1472\u001b[0m                 \u001b[0mmissing\u001b[0m\u001b[0;34m=\u001b[0m\u001b[0mself\u001b[0m\u001b[0;34m.\u001b[0m\u001b[0mmissing\u001b[0m\u001b[0;34m,\u001b[0m\u001b[0;34m\u001b[0m\u001b[0;34m\u001b[0m\u001b[0m\n\u001b[1;32m   1473\u001b[0m                 \u001b[0mX\u001b[0m\u001b[0;34m=\u001b[0m\u001b[0mX\u001b[0m\u001b[0;34m,\u001b[0m\u001b[0;34m\u001b[0m\u001b[0;34m\u001b[0m\u001b[0m\n",
            "\u001b[0;32m/usr/local/lib/python3.9/dist-packages/xgboost/sklearn.py\u001b[0m in \u001b[0;36m_wrap_evaluation_matrices\u001b[0;34m(missing, X, y, group, qid, sample_weight, base_margin, feature_weights, eval_set, sample_weight_eval_set, base_margin_eval_set, eval_group, eval_qid, create_dmatrix, enable_categorical, feature_types)\u001b[0m\n\u001b[1;32m    446\u001b[0m     \"\"\"Convert array_like evaluation matrices into DMatrix.  Perform validation on the\n\u001b[1;32m    447\u001b[0m     way.\"\"\"\n\u001b[0;32m--> 448\u001b[0;31m     train_dmatrix = create_dmatrix(\n\u001b[0m\u001b[1;32m    449\u001b[0m         \u001b[0mdata\u001b[0m\u001b[0;34m=\u001b[0m\u001b[0mX\u001b[0m\u001b[0;34m,\u001b[0m\u001b[0;34m\u001b[0m\u001b[0;34m\u001b[0m\u001b[0m\n\u001b[1;32m    450\u001b[0m         \u001b[0mlabel\u001b[0m\u001b[0;34m=\u001b[0m\u001b[0my\u001b[0m\u001b[0;34m,\u001b[0m\u001b[0;34m\u001b[0m\u001b[0;34m\u001b[0m\u001b[0m\n",
            "\u001b[0;32m/usr/local/lib/python3.9/dist-packages/xgboost/sklearn.py\u001b[0m in \u001b[0;36m_create_dmatrix\u001b[0;34m(self, ref, **kwargs)\u001b[0m\n\u001b[1;32m    906\u001b[0m             \u001b[0;32mexcept\u001b[0m \u001b[0mTypeError\u001b[0m\u001b[0;34m:\u001b[0m  \u001b[0;31m# `QuantileDMatrix` supports lesser types than DMatrix\u001b[0m\u001b[0;34m\u001b[0m\u001b[0;34m\u001b[0m\u001b[0m\n\u001b[1;32m    907\u001b[0m                 \u001b[0;32mpass\u001b[0m\u001b[0;34m\u001b[0m\u001b[0;34m\u001b[0m\u001b[0m\n\u001b[0;32m--> 908\u001b[0;31m         \u001b[0;32mreturn\u001b[0m \u001b[0mDMatrix\u001b[0m\u001b[0;34m(\u001b[0m\u001b[0;34m**\u001b[0m\u001b[0mkwargs\u001b[0m\u001b[0;34m,\u001b[0m \u001b[0mnthread\u001b[0m\u001b[0;34m=\u001b[0m\u001b[0mself\u001b[0m\u001b[0;34m.\u001b[0m\u001b[0mn_jobs\u001b[0m\u001b[0;34m)\u001b[0m\u001b[0;34m\u001b[0m\u001b[0;34m\u001b[0m\u001b[0m\n\u001b[0m\u001b[1;32m    909\u001b[0m \u001b[0;34m\u001b[0m\u001b[0m\n\u001b[1;32m    910\u001b[0m     \u001b[0;32mdef\u001b[0m \u001b[0m_set_evaluation_result\u001b[0m\u001b[0;34m(\u001b[0m\u001b[0mself\u001b[0m\u001b[0;34m,\u001b[0m \u001b[0mevals_result\u001b[0m\u001b[0;34m:\u001b[0m \u001b[0mTrainingCallback\u001b[0m\u001b[0;34m.\u001b[0m\u001b[0mEvalsLog\u001b[0m\u001b[0;34m)\u001b[0m \u001b[0;34m->\u001b[0m \u001b[0;32mNone\u001b[0m\u001b[0;34m:\u001b[0m\u001b[0;34m\u001b[0m\u001b[0;34m\u001b[0m\u001b[0m\n",
            "\u001b[0;32m/usr/local/lib/python3.9/dist-packages/xgboost/core.py\u001b[0m in \u001b[0;36minner_f\u001b[0;34m(*args, **kwargs)\u001b[0m\n\u001b[1;32m    618\u001b[0m             \u001b[0;32mfor\u001b[0m \u001b[0mk\u001b[0m\u001b[0;34m,\u001b[0m \u001b[0marg\u001b[0m \u001b[0;32min\u001b[0m \u001b[0mzip\u001b[0m\u001b[0;34m(\u001b[0m\u001b[0msig\u001b[0m\u001b[0;34m.\u001b[0m\u001b[0mparameters\u001b[0m\u001b[0;34m,\u001b[0m \u001b[0margs\u001b[0m\u001b[0;34m)\u001b[0m\u001b[0;34m:\u001b[0m\u001b[0;34m\u001b[0m\u001b[0;34m\u001b[0m\u001b[0m\n\u001b[1;32m    619\u001b[0m                 \u001b[0mkwargs\u001b[0m\u001b[0;34m[\u001b[0m\u001b[0mk\u001b[0m\u001b[0;34m]\u001b[0m \u001b[0;34m=\u001b[0m \u001b[0marg\u001b[0m\u001b[0;34m\u001b[0m\u001b[0;34m\u001b[0m\u001b[0m\n\u001b[0;32m--> 620\u001b[0;31m             \u001b[0;32mreturn\u001b[0m \u001b[0mfunc\u001b[0m\u001b[0;34m(\u001b[0m\u001b[0;34m**\u001b[0m\u001b[0mkwargs\u001b[0m\u001b[0;34m)\u001b[0m\u001b[0;34m\u001b[0m\u001b[0;34m\u001b[0m\u001b[0m\n\u001b[0m\u001b[1;32m    621\u001b[0m \u001b[0;34m\u001b[0m\u001b[0m\n\u001b[1;32m    622\u001b[0m         \u001b[0;32mreturn\u001b[0m \u001b[0minner_f\u001b[0m\u001b[0;34m\u001b[0m\u001b[0;34m\u001b[0m\u001b[0m\n",
            "\u001b[0;32m/usr/local/lib/python3.9/dist-packages/xgboost/core.py\u001b[0m in \u001b[0;36m__init__\u001b[0;34m(self, data, label, weight, base_margin, missing, silent, feature_names, feature_types, nthread, group, qid, label_lower_bound, label_upper_bound, feature_weights, enable_categorical)\u001b[0m\n\u001b[1;32m    741\u001b[0m             \u001b[0;32mreturn\u001b[0m\u001b[0;34m\u001b[0m\u001b[0;34m\u001b[0m\u001b[0m\n\u001b[1;32m    742\u001b[0m \u001b[0;34m\u001b[0m\u001b[0m\n\u001b[0;32m--> 743\u001b[0;31m         handle, feature_names, feature_types = dispatch_data_backend(\n\u001b[0m\u001b[1;32m    744\u001b[0m             \u001b[0mdata\u001b[0m\u001b[0;34m,\u001b[0m\u001b[0;34m\u001b[0m\u001b[0;34m\u001b[0m\u001b[0m\n\u001b[1;32m    745\u001b[0m             \u001b[0mmissing\u001b[0m\u001b[0;34m=\u001b[0m\u001b[0mself\u001b[0m\u001b[0;34m.\u001b[0m\u001b[0mmissing\u001b[0m\u001b[0;34m,\u001b[0m\u001b[0;34m\u001b[0m\u001b[0;34m\u001b[0m\u001b[0m\n",
            "\u001b[0;32m/usr/local/lib/python3.9/dist-packages/xgboost/data.py\u001b[0m in \u001b[0;36mdispatch_data_backend\u001b[0;34m(data, missing, threads, feature_names, feature_types, enable_categorical)\u001b[0m\n\u001b[1;32m    968\u001b[0m         \u001b[0;32mreturn\u001b[0m \u001b[0m_from_tuple\u001b[0m\u001b[0;34m(\u001b[0m\u001b[0mdata\u001b[0m\u001b[0;34m,\u001b[0m \u001b[0mmissing\u001b[0m\u001b[0;34m,\u001b[0m \u001b[0mthreads\u001b[0m\u001b[0;34m,\u001b[0m \u001b[0mfeature_names\u001b[0m\u001b[0;34m,\u001b[0m \u001b[0mfeature_types\u001b[0m\u001b[0;34m)\u001b[0m\u001b[0;34m\u001b[0m\u001b[0;34m\u001b[0m\u001b[0m\n\u001b[1;32m    969\u001b[0m     \u001b[0;32mif\u001b[0m \u001b[0m_is_pandas_df\u001b[0m\u001b[0;34m(\u001b[0m\u001b[0mdata\u001b[0m\u001b[0;34m)\u001b[0m\u001b[0;34m:\u001b[0m\u001b[0;34m\u001b[0m\u001b[0;34m\u001b[0m\u001b[0m\n\u001b[0;32m--> 970\u001b[0;31m         return _from_pandas_df(data, enable_categorical, missing, threads,\n\u001b[0m\u001b[1;32m    971\u001b[0m                                feature_names, feature_types)\n\u001b[1;32m    972\u001b[0m     \u001b[0;32mif\u001b[0m \u001b[0m_is_pandas_series\u001b[0m\u001b[0;34m(\u001b[0m\u001b[0mdata\u001b[0m\u001b[0;34m)\u001b[0m\u001b[0;34m:\u001b[0m\u001b[0;34m\u001b[0m\u001b[0;34m\u001b[0m\u001b[0m\n",
            "\u001b[0;32m/usr/local/lib/python3.9/dist-packages/xgboost/data.py\u001b[0m in \u001b[0;36m_from_pandas_df\u001b[0;34m(data, enable_categorical, missing, nthread, feature_names, feature_types)\u001b[0m\n\u001b[1;32m    415\u001b[0m     \u001b[0mfeature_types\u001b[0m\u001b[0;34m:\u001b[0m \u001b[0mOptional\u001b[0m\u001b[0;34m[\u001b[0m\u001b[0mFeatureTypes\u001b[0m\u001b[0;34m]\u001b[0m\u001b[0;34m,\u001b[0m\u001b[0;34m\u001b[0m\u001b[0;34m\u001b[0m\u001b[0m\n\u001b[1;32m    416\u001b[0m ) -> DispatchedDataBackendReturnType:\n\u001b[0;32m--> 417\u001b[0;31m     data, feature_names, feature_types = _transform_pandas_df(\n\u001b[0m\u001b[1;32m    418\u001b[0m         \u001b[0mdata\u001b[0m\u001b[0;34m,\u001b[0m \u001b[0menable_categorical\u001b[0m\u001b[0;34m,\u001b[0m \u001b[0mfeature_names\u001b[0m\u001b[0;34m,\u001b[0m \u001b[0mfeature_types\u001b[0m\u001b[0;34m\u001b[0m\u001b[0;34m\u001b[0m\u001b[0m\n\u001b[1;32m    419\u001b[0m     )\n",
            "\u001b[0;32m/usr/local/lib/python3.9/dist-packages/xgboost/data.py\u001b[0m in \u001b[0;36m_transform_pandas_df\u001b[0;34m(data, enable_categorical, feature_names, feature_types, meta, meta_type)\u001b[0m\n\u001b[1;32m    389\u001b[0m         \u001b[0;32mfor\u001b[0m \u001b[0mdtype\u001b[0m \u001b[0;32min\u001b[0m \u001b[0mdata\u001b[0m\u001b[0;34m.\u001b[0m\u001b[0mdtypes\u001b[0m\u001b[0;34m\u001b[0m\u001b[0;34m\u001b[0m\u001b[0m\n\u001b[1;32m    390\u001b[0m     ):\n\u001b[0;32m--> 391\u001b[0;31m         \u001b[0m_invalid_dataframe_dtype\u001b[0m\u001b[0;34m(\u001b[0m\u001b[0mdata\u001b[0m\u001b[0;34m)\u001b[0m\u001b[0;34m\u001b[0m\u001b[0;34m\u001b[0m\u001b[0m\n\u001b[0m\u001b[1;32m    392\u001b[0m \u001b[0;34m\u001b[0m\u001b[0m\n\u001b[1;32m    393\u001b[0m     feature_names, feature_types = _pandas_feature_info(\n",
            "\u001b[0;32m/usr/local/lib/python3.9/dist-packages/xgboost/data.py\u001b[0m in \u001b[0;36m_invalid_dataframe_dtype\u001b[0;34m(data)\u001b[0m\n\u001b[1;32m    281\u001b[0m     \u001b[0mtype_err\u001b[0m \u001b[0;34m=\u001b[0m \u001b[0;34m\"DataFrame.dtypes for data must be int, float, bool or category.\"\u001b[0m\u001b[0;34m\u001b[0m\u001b[0;34m\u001b[0m\u001b[0m\n\u001b[1;32m    282\u001b[0m     \u001b[0mmsg\u001b[0m \u001b[0;34m=\u001b[0m \u001b[0;34mf\"\"\"{type_err} {_ENABLE_CAT_ERR} {err}\"\"\"\u001b[0m\u001b[0;34m\u001b[0m\u001b[0;34m\u001b[0m\u001b[0m\n\u001b[0;32m--> 283\u001b[0;31m     \u001b[0;32mraise\u001b[0m \u001b[0mValueError\u001b[0m\u001b[0;34m(\u001b[0m\u001b[0mmsg\u001b[0m\u001b[0;34m)\u001b[0m\u001b[0;34m\u001b[0m\u001b[0;34m\u001b[0m\u001b[0m\n\u001b[0m\u001b[1;32m    284\u001b[0m \u001b[0;34m\u001b[0m\u001b[0m\n\u001b[1;32m    285\u001b[0m \u001b[0;34m\u001b[0m\u001b[0m\n",
            "\u001b[0;31mValueError\u001b[0m: DataFrame.dtypes for data must be int, float, bool or category. When categorical type is supplied, The experimental DMatrix parameter`enable_categorical` must be set to `True`.  Invalid columns:ACTECON: object, GRUANALI: object, TAMAEMP: object, riesgo: object, categoria: object, modular: object"
          ]
        }
      ]
    },
    {
      "cell_type": "markdown",
      "source": [
        "*Classification report de train*"
      ],
      "metadata": {
        "id": "C-MasjcaSxsZ"
      }
    },
    {
      "cell_type": "code",
      "source": [
        "y_pred_train = randomized_roc_auc_xgb.predict(X_train)\n",
        "print(classification_report(y_train, y_pred_train))"
      ],
      "metadata": {
        "colab": {
          "base_uri": "https://localhost:8080/"
        },
        "id": "BonSQO8kM1ft",
        "outputId": "69e4c722-e694-4943-8a96-addc452e675c"
      },
      "execution_count": 34,
      "outputs": [
        {
          "output_type": "stream",
          "name": "stdout",
          "text": [
            "              precision    recall  f1-score   support\n",
            "\n",
            "         0.0       0.63      0.64      0.63       817\n",
            "         1.0       0.83      0.20      0.32       199\n",
            "         2.0       0.93      0.98      0.96      7032\n",
            "         3.0       0.93      0.84      0.88      2484\n",
            "\n",
            "    accuracy                           0.91     10532\n",
            "   macro avg       0.83      0.67      0.70     10532\n",
            "weighted avg       0.91      0.91      0.90     10532\n",
            "\n"
          ]
        }
      ]
    },
    {
      "cell_type": "markdown",
      "source": [
        "*Classification report de test*"
      ],
      "metadata": {
        "id": "1qNrOYLeS3G_"
      }
    },
    {
      "cell_type": "code",
      "source": [
        "y_pred_test = randomized_roc_auc_xgb.predict(X_test)\n",
        "print(classification_report(y_test, y_pred_test))"
      ],
      "metadata": {
        "colab": {
          "base_uri": "https://localhost:8080/"
        },
        "id": "pYBS5vngQy-J",
        "outputId": "5aeaaeac-6b7c-473a-b2a3-e4182e0a69fa"
      },
      "execution_count": 35,
      "outputs": [
        {
          "output_type": "stream",
          "name": "stdout",
          "text": [
            "              precision    recall  f1-score   support\n",
            "\n",
            "         0.0       0.63      0.59      0.61       231\n",
            "         1.0       0.73      0.22      0.34        50\n",
            "         2.0       0.92      0.98      0.95      1748\n",
            "         3.0       0.92      0.83      0.87       605\n",
            "\n",
            "    accuracy                           0.89      2634\n",
            "   macro avg       0.80      0.65      0.69      2634\n",
            "weighted avg       0.89      0.89      0.89      2634\n",
            "\n"
          ]
        }
      ]
    },
    {
      "cell_type": "markdown",
      "source": [
        "***Pipeline de Decision Tree***\n"
      ],
      "metadata": {
        "id": "QeRr3UbUTBME"
      }
    },
    {
      "cell_type": "code",
      "source": [
        "\n",
        "dt_pipeline = Pipeline(\n",
        "            [\n",
        "                (\"preprocessor\", preprocessor),\n",
        "                (\n",
        "                    \"classifier\", DecisionTreeClassifier(),\n",
        "                ),\n",
        "            ]\n",
        "        )"
      ],
      "metadata": {
        "id": "nGUcGiCKO8r0"
      },
      "execution_count": 29,
      "outputs": []
    },
    {
      "cell_type": "code",
      "source": [
        "\n",
        "dt_param_grid = {\n",
        "    'classifier__max_depth': np.arange(3, 10, 1),\n",
        "    'classifier__max_features': ['auto', 'sqrt', 'log2'],\n",
        "    'classifier__min_samples_split': np.arange(5, 50, 5)\n",
        "}\n",
        "\n",
        "# Perform RandomizedSearchCV\n",
        "randomized_roc_auc_dt = RandomizedSearchCV(estimator= dt_pipeline, \n",
        "                                            param_distributions=dt_param_grid,\n",
        "                                            n_iter=50,\n",
        "                                            #scoring='roc_auc',\n",
        "                                            cv=3, \n",
        "                                            verbose=1)\n",
        "\n",
        "# Fit the estimator\n",
        "with tf.device('/device:GPU:0'): \n",
        "  randomized_roc_auc_dt.fit(X_train, y_train)\n",
        "\n",
        "# Compute metrics\n",
        "print('Best AUC: ', randomized_roc_auc_dt.best_score_)\n",
        "#print('Estimator: ', randomized_roc_auc.best_estimator_)"
      ],
      "metadata": {
        "id": "s0wsl15OQwSe",
        "colab": {
          "base_uri": "https://localhost:8080/"
        },
        "outputId": "54160de8-b968-4566-9a13-fe9dae694fc3"
      },
      "execution_count": 30,
      "outputs": [
        {
          "output_type": "stream",
          "name": "stdout",
          "text": [
            "Fitting 3 folds for each of 50 candidates, totalling 150 fits\n",
            "Best AUC:  nan\n"
          ]
        }
      ]
    },
    {
      "cell_type": "markdown",
      "source": [
        "*Classification report de train*"
      ],
      "metadata": {
        "id": "GvhAGtE6TI68"
      }
    },
    {
      "cell_type": "code",
      "source": [
        "y_pred_train = randomized_roc_auc_dt.predict(X_train)\n",
        "print(classification_report(y_train, y_pred_train))"
      ],
      "metadata": {
        "colab": {
          "base_uri": "https://localhost:8080/"
        },
        "id": "7QEbi-CCRRz1",
        "outputId": "89742f94-3b04-42a7-d462-552143a66c67"
      },
      "execution_count": 31,
      "outputs": [
        {
          "output_type": "stream",
          "name": "stdout",
          "text": [
            "              precision    recall  f1-score   support\n",
            "\n",
            "         0.0       0.35      0.74      0.48       817\n",
            "         1.0       0.91      0.16      0.27       199\n",
            "         2.0       0.94      0.93      0.93      7032\n",
            "         3.0       1.00      0.73      0.85      2484\n",
            "\n",
            "    accuracy                           0.85     10532\n",
            "   macro avg       0.80      0.64      0.63     10532\n",
            "weighted avg       0.91      0.85      0.86     10532\n",
            "\n"
          ]
        }
      ]
    },
    {
      "cell_type": "markdown",
      "source": [
        "*Classification report de test*"
      ],
      "metadata": {
        "id": "pEypyC2YTJud"
      }
    },
    {
      "cell_type": "code",
      "source": [
        "y_pred_test = randomized_roc_auc_dt.predict(X_test)\n",
        "print(classification_report(y_test, y_pred_test))"
      ],
      "metadata": {
        "colab": {
          "base_uri": "https://localhost:8080/"
        },
        "id": "QnvaNWldRWw9",
        "outputId": "102ecb3e-c03c-481a-9371-b4aa5be2e6d8"
      },
      "execution_count": 32,
      "outputs": [
        {
          "output_type": "stream",
          "name": "stdout",
          "text": [
            "              precision    recall  f1-score   support\n",
            "\n",
            "         0.0       0.38      0.77      0.51       231\n",
            "         1.0       1.00      0.16      0.28        50\n",
            "         2.0       0.93      0.92      0.93      1748\n",
            "         3.0       1.00      0.74      0.85       605\n",
            "\n",
            "    accuracy                           0.85      2634\n",
            "   macro avg       0.83      0.65      0.64      2634\n",
            "weighted avg       0.90      0.85      0.86      2634\n",
            "\n"
          ]
        }
      ]
    },
    {
      "cell_type": "code",
      "source": [
        "plot_importance(randomized_roc_auc_xgb)"
      ],
      "metadata": {
        "id": "0gCBlZV9RvaM",
        "outputId": "1410f86c-5828-40ad-eb9b-9a76d32df08a",
        "colab": {
          "base_uri": "https://localhost:8080/",
          "height": 301
        }
      },
      "execution_count": 38,
      "outputs": [
        {
          "output_type": "error",
          "ename": "ValueError",
          "evalue": "ignored",
          "traceback": [
            "\u001b[0;31m---------------------------------------------------------------------------\u001b[0m",
            "\u001b[0;31mValueError\u001b[0m                                Traceback (most recent call last)",
            "\u001b[0;32m<ipython-input-38-fd5bc8a2b0ee>\u001b[0m in \u001b[0;36m<cell line: 1>\u001b[0;34m()\u001b[0m\n\u001b[0;32m----> 1\u001b[0;31m \u001b[0mplot_importance\u001b[0m\u001b[0;34m(\u001b[0m\u001b[0mrandomized_roc_auc_xgb\u001b[0m\u001b[0;34m)\u001b[0m\u001b[0;34m\u001b[0m\u001b[0;34m\u001b[0m\u001b[0m\n\u001b[0m",
            "\u001b[0;32m/usr/local/lib/python3.9/dist-packages/xgboost/plotting.py\u001b[0m in \u001b[0;36mplot_importance\u001b[0;34m(booster, ax, height, xlim, ylim, title, xlabel, ylabel, fmap, importance_type, max_num_features, grid, show_values, **kwargs)\u001b[0m\n\u001b[1;32m     87\u001b[0m         \u001b[0mimportance\u001b[0m \u001b[0;34m=\u001b[0m \u001b[0mbooster\u001b[0m\u001b[0;34m\u001b[0m\u001b[0;34m\u001b[0m\u001b[0m\n\u001b[1;32m     88\u001b[0m     \u001b[0;32melse\u001b[0m\u001b[0;34m:\u001b[0m\u001b[0;34m\u001b[0m\u001b[0;34m\u001b[0m\u001b[0m\n\u001b[0;32m---> 89\u001b[0;31m         \u001b[0;32mraise\u001b[0m \u001b[0mValueError\u001b[0m\u001b[0;34m(\u001b[0m\u001b[0;34m'tree must be Booster, XGBModel or dict instance'\u001b[0m\u001b[0;34m)\u001b[0m\u001b[0;34m\u001b[0m\u001b[0;34m\u001b[0m\u001b[0m\n\u001b[0m\u001b[1;32m     90\u001b[0m \u001b[0;34m\u001b[0m\u001b[0m\n\u001b[1;32m     91\u001b[0m     \u001b[0;32mif\u001b[0m \u001b[0;32mnot\u001b[0m \u001b[0mimportance\u001b[0m\u001b[0;34m:\u001b[0m\u001b[0;34m\u001b[0m\u001b[0;34m\u001b[0m\u001b[0m\n",
            "\u001b[0;31mValueError\u001b[0m: tree must be Booster, XGBModel or dict instance"
          ]
        }
      ]
    },
    {
      "cell_type": "code",
      "source": [
        "from xgboost import plot_importance"
      ],
      "metadata": {
        "id": "Bo5D7uyATLN9"
      },
      "execution_count": 37,
      "outputs": []
    },
    {
      "cell_type": "code",
      "source": [],
      "metadata": {
        "id": "xRuiSNB1IxvU"
      },
      "execution_count": null,
      "outputs": []
    }
  ]
}