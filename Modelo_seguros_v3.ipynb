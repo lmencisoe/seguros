{
  "cells": [
    {
      "cell_type": "markdown",
      "metadata": {
        "id": "view-in-github",
        "colab_type": "text"
      },
      "source": [
        "<a href=\"https://colab.research.google.com/github/lmencisoe/seguros/blob/main/Modelo_seguros_v3.ipynb\" target=\"_parent\"><img src=\"https://colab.research.google.com/assets/colab-badge.svg\" alt=\"Open In Colab\"/></a>"
      ]
    },
    {
      "cell_type": "code",
      "execution_count": 1,
      "metadata": {
        "colab": {
          "base_uri": "https://localhost:8080/",
          "height": 1000
        },
        "id": "7et_FyX9zNRl",
        "outputId": "26eb78a5-fe2c-43fe-ea33-46f9008cdeb6"
      },
      "outputs": [
        {
          "output_type": "stream",
          "name": "stdout",
          "text": [
            "Looking in indexes: https://pypi.org/simple, https://us-python.pkg.dev/colab-wheels/public/simple/\n",
            "Collecting pandas-profiling\n",
            "  Downloading pandas_profiling-3.6.6-py2.py3-none-any.whl (324 kB)\n",
            "\u001b[2K     \u001b[90m━━━━━━━━━━━━━━━━━━━━━━━━━━━━━━━━━━━━━━\u001b[0m \u001b[32m324.4/324.4 kB\u001b[0m \u001b[31m14.7 MB/s\u001b[0m eta \u001b[36m0:00:00\u001b[0m\n",
            "\u001b[?25hCollecting ydata-profiling\n",
            "  Downloading ydata_profiling-4.1.2-py2.py3-none-any.whl (345 kB)\n",
            "\u001b[2K     \u001b[90m━━━━━━━━━━━━━━━━━━━━━━━━━━━━━━━━━━━━━━\u001b[0m \u001b[32m345.9/345.9 kB\u001b[0m \u001b[31m33.1 MB/s\u001b[0m eta \u001b[36m0:00:00\u001b[0m\n",
            "\u001b[?25hCollecting tqdm<4.65,>=4.48.2\n",
            "  Downloading tqdm-4.64.1-py2.py3-none-any.whl (78 kB)\n",
            "\u001b[2K     \u001b[90m━━━━━━━━━━━━━━━━━━━━━━━━━━━━━━━━━━━━━━━━\u001b[0m \u001b[32m78.5/78.5 kB\u001b[0m \u001b[31m10.7 MB/s\u001b[0m eta \u001b[36m0:00:00\u001b[0m\n",
            "\u001b[?25hRequirement already satisfied: numpy<1.24,>=1.16.0 in /usr/local/lib/python3.10/dist-packages (from ydata-profiling->pandas-profiling) (1.22.4)\n",
            "Requirement already satisfied: PyYAML<6.1,>=5.0.0 in /usr/local/lib/python3.10/dist-packages (from ydata-profiling->pandas-profiling) (6.0)\n",
            "Collecting scipy<1.10,>=1.4.1\n",
            "  Downloading scipy-1.9.3-cp310-cp310-manylinux_2_17_x86_64.manylinux2014_x86_64.whl (33.7 MB)\n",
            "\u001b[2K     \u001b[90m━━━━━━━━━━━━━━━━━━━━━━━━━━━━━━━━━━━━━━━━\u001b[0m \u001b[32m33.7/33.7 MB\u001b[0m \u001b[31m45.0 MB/s\u001b[0m eta \u001b[36m0:00:00\u001b[0m\n",
            "\u001b[?25hRequirement already satisfied: pydantic<1.11,>=1.8.1 in /usr/local/lib/python3.10/dist-packages (from ydata-profiling->pandas-profiling) (1.10.7)\n",
            "Requirement already satisfied: statsmodels<0.14,>=0.13.2 in /usr/local/lib/python3.10/dist-packages (from ydata-profiling->pandas-profiling) (0.13.5)\n",
            "Requirement already satisfied: jinja2<3.2,>=2.11.1 in /usr/local/lib/python3.10/dist-packages (from ydata-profiling->pandas-profiling) (3.1.2)\n",
            "Collecting matplotlib<3.7,>=3.2\n",
            "  Downloading matplotlib-3.6.3-cp310-cp310-manylinux_2_17_x86_64.manylinux2014_x86_64.whl (11.8 MB)\n",
            "\u001b[2K     \u001b[90m━━━━━━━━━━━━━━━━━━━━━━━━━━━━━━━━━━━━━━━━\u001b[0m \u001b[32m11.8/11.8 MB\u001b[0m \u001b[31m70.6 MB/s\u001b[0m eta \u001b[36m0:00:00\u001b[0m\n",
            "\u001b[?25hCollecting visions[type_image_path]==0.7.5\n",
            "  Downloading visions-0.7.5-py3-none-any.whl (102 kB)\n",
            "\u001b[2K     \u001b[90m━━━━━━━━━━━━━━━━━━━━━━━━━━━━━━━━━━━━━━\u001b[0m \u001b[32m102.7/102.7 kB\u001b[0m \u001b[31m15.0 MB/s\u001b[0m eta \u001b[36m0:00:00\u001b[0m\n",
            "\u001b[?25hCollecting htmlmin==0.1.12\n",
            "  Downloading htmlmin-0.1.12.tar.gz (19 kB)\n",
            "  Preparing metadata (setup.py) ... \u001b[?25l\u001b[?25hdone\n",
            "Collecting imagehash==4.3.1\n",
            "  Downloading ImageHash-4.3.1-py2.py3-none-any.whl (296 kB)\n",
            "\u001b[2K     \u001b[90m━━━━━━━━━━━━━━━━━━━━━━━━━━━━━━━━━━━━━━\u001b[0m \u001b[32m296.5/296.5 kB\u001b[0m \u001b[31m31.9 MB/s\u001b[0m eta \u001b[36m0:00:00\u001b[0m\n",
            "\u001b[?25hRequirement already satisfied: pandas!=1.4.0,<1.6,>1.1 in /usr/local/lib/python3.10/dist-packages (from ydata-profiling->pandas-profiling) (1.5.3)\n",
            "Requirement already satisfied: requests<2.29,>=2.24.0 in /usr/local/lib/python3.10/dist-packages (from ydata-profiling->pandas-profiling) (2.27.1)\n",
            "Collecting phik<0.13,>=0.11.1\n",
            "  Downloading phik-0.12.3-cp310-cp310-manylinux_2_17_x86_64.manylinux2014_x86_64.whl (679 kB)\n",
            "\u001b[2K     \u001b[90m━━━━━━━━━━━━━━━━━━━━━━━━━━━━━━━━━━━━━━\u001b[0m \u001b[32m679.5/679.5 kB\u001b[0m \u001b[31m58.1 MB/s\u001b[0m eta \u001b[36m0:00:00\u001b[0m\n",
            "\u001b[?25hCollecting multimethod<1.10,>=1.4\n",
            "  Downloading multimethod-1.9.1-py3-none-any.whl (10 kB)\n",
            "Requirement already satisfied: seaborn<0.13,>=0.10.1 in /usr/local/lib/python3.10/dist-packages (from ydata-profiling->pandas-profiling) (0.12.2)\n",
            "Collecting typeguard<2.14,>=2.13.2\n",
            "  Downloading typeguard-2.13.3-py3-none-any.whl (17 kB)\n",
            "Requirement already satisfied: pillow in /usr/local/lib/python3.10/dist-packages (from imagehash==4.3.1->ydata-profiling->pandas-profiling) (8.4.0)\n",
            "Requirement already satisfied: PyWavelets in /usr/local/lib/python3.10/dist-packages (from imagehash==4.3.1->ydata-profiling->pandas-profiling) (1.4.1)\n",
            "Collecting tangled-up-in-unicode>=0.0.4\n",
            "  Downloading tangled_up_in_unicode-0.2.0-py3-none-any.whl (4.7 MB)\n",
            "\u001b[2K     \u001b[90m━━━━━━━━━━━━━━━━━━━━━━━━━━━━━━━━━━━━━━━━\u001b[0m \u001b[32m4.7/4.7 MB\u001b[0m \u001b[31m64.5 MB/s\u001b[0m eta \u001b[36m0:00:00\u001b[0m\n",
            "\u001b[?25hRequirement already satisfied: networkx>=2.4 in /usr/local/lib/python3.10/dist-packages (from visions[type_image_path]==0.7.5->ydata-profiling->pandas-profiling) (3.1)\n",
            "Requirement already satisfied: attrs>=19.3.0 in /usr/local/lib/python3.10/dist-packages (from visions[type_image_path]==0.7.5->ydata-profiling->pandas-profiling) (23.1.0)\n",
            "Requirement already satisfied: MarkupSafe>=2.0 in /usr/local/lib/python3.10/dist-packages (from jinja2<3.2,>=2.11.1->ydata-profiling->pandas-profiling) (2.1.2)\n",
            "Requirement already satisfied: pyparsing>=2.2.1 in /usr/local/lib/python3.10/dist-packages (from matplotlib<3.7,>=3.2->ydata-profiling->pandas-profiling) (3.0.9)\n",
            "Requirement already satisfied: python-dateutil>=2.7 in /usr/local/lib/python3.10/dist-packages (from matplotlib<3.7,>=3.2->ydata-profiling->pandas-profiling) (2.8.2)\n",
            "Requirement already satisfied: cycler>=0.10 in /usr/local/lib/python3.10/dist-packages (from matplotlib<3.7,>=3.2->ydata-profiling->pandas-profiling) (0.11.0)\n",
            "Requirement already satisfied: fonttools>=4.22.0 in /usr/local/lib/python3.10/dist-packages (from matplotlib<3.7,>=3.2->ydata-profiling->pandas-profiling) (4.39.3)\n",
            "Requirement already satisfied: contourpy>=1.0.1 in /usr/local/lib/python3.10/dist-packages (from matplotlib<3.7,>=3.2->ydata-profiling->pandas-profiling) (1.0.7)\n",
            "Requirement already satisfied: packaging>=20.0 in /usr/local/lib/python3.10/dist-packages (from matplotlib<3.7,>=3.2->ydata-profiling->pandas-profiling) (23.1)\n",
            "Requirement already satisfied: kiwisolver>=1.0.1 in /usr/local/lib/python3.10/dist-packages (from matplotlib<3.7,>=3.2->ydata-profiling->pandas-profiling) (1.4.4)\n",
            "Requirement already satisfied: pytz>=2020.1 in /usr/local/lib/python3.10/dist-packages (from pandas!=1.4.0,<1.6,>1.1->ydata-profiling->pandas-profiling) (2022.7.1)\n",
            "Requirement already satisfied: joblib>=0.14.1 in /usr/local/lib/python3.10/dist-packages (from phik<0.13,>=0.11.1->ydata-profiling->pandas-profiling) (1.2.0)\n",
            "Requirement already satisfied: typing-extensions>=4.2.0 in /usr/local/lib/python3.10/dist-packages (from pydantic<1.11,>=1.8.1->ydata-profiling->pandas-profiling) (4.5.0)\n",
            "Requirement already satisfied: idna<4,>=2.5 in /usr/local/lib/python3.10/dist-packages (from requests<2.29,>=2.24.0->ydata-profiling->pandas-profiling) (3.4)\n",
            "Requirement already satisfied: urllib3<1.27,>=1.21.1 in /usr/local/lib/python3.10/dist-packages (from requests<2.29,>=2.24.0->ydata-profiling->pandas-profiling) (1.26.15)\n",
            "Requirement already satisfied: certifi>=2017.4.17 in /usr/local/lib/python3.10/dist-packages (from requests<2.29,>=2.24.0->ydata-profiling->pandas-profiling) (2022.12.7)\n",
            "Requirement already satisfied: charset-normalizer~=2.0.0 in /usr/local/lib/python3.10/dist-packages (from requests<2.29,>=2.24.0->ydata-profiling->pandas-profiling) (2.0.12)\n",
            "Requirement already satisfied: patsy>=0.5.2 in /usr/local/lib/python3.10/dist-packages (from statsmodels<0.14,>=0.13.2->ydata-profiling->pandas-profiling) (0.5.3)\n",
            "Requirement already satisfied: six in /usr/local/lib/python3.10/dist-packages (from patsy>=0.5.2->statsmodels<0.14,>=0.13.2->ydata-profiling->pandas-profiling) (1.16.0)\n",
            "Building wheels for collected packages: htmlmin\n",
            "  Building wheel for htmlmin (setup.py) ... \u001b[?25l\u001b[?25hdone\n",
            "  Created wheel for htmlmin: filename=htmlmin-0.1.12-py3-none-any.whl size=27096 sha256=b56ab32a678ead1fcab1270028520677885db6bf8e8ecab79f8b031fe7afcca4\n",
            "  Stored in directory: /root/.cache/pip/wheels/dd/91/29/a79cecb328d01739e64017b6fb9a1ab9d8cb1853098ec5966d\n",
            "Successfully built htmlmin\n",
            "Installing collected packages: htmlmin, typeguard, tqdm, tangled-up-in-unicode, scipy, multimethod, matplotlib, imagehash, visions, phik, ydata-profiling, pandas-profiling\n",
            "  Attempting uninstall: tqdm\n",
            "    Found existing installation: tqdm 4.65.0\n",
            "    Uninstalling tqdm-4.65.0:\n",
            "      Successfully uninstalled tqdm-4.65.0\n",
            "  Attempting uninstall: scipy\n",
            "    Found existing installation: scipy 1.10.1\n",
            "    Uninstalling scipy-1.10.1:\n",
            "      Successfully uninstalled scipy-1.10.1\n",
            "  Attempting uninstall: matplotlib\n",
            "    Found existing installation: matplotlib 3.7.1\n",
            "    Uninstalling matplotlib-3.7.1:\n",
            "      Successfully uninstalled matplotlib-3.7.1\n",
            "Successfully installed htmlmin-0.1.12 imagehash-4.3.1 matplotlib-3.6.3 multimethod-1.9.1 pandas-profiling-3.6.6 phik-0.12.3 scipy-1.9.3 tangled-up-in-unicode-0.2.0 tqdm-4.64.1 typeguard-2.13.3 visions-0.7.5 ydata-profiling-4.1.2\n"
          ]
        },
        {
          "output_type": "display_data",
          "data": {
            "application/vnd.colab-display-data+json": {
              "pip_warning": {
                "packages": [
                  "matplotlib",
                  "mpl_toolkits"
                ]
              }
            }
          },
          "metadata": {}
        },
        {
          "output_type": "stream",
          "name": "stdout",
          "text": [
            "Looking in indexes: https://pypi.org/simple, https://us-python.pkg.dev/colab-wheels/public/simple/\n",
            "Requirement already satisfied: nbconvert in /usr/local/lib/python3.10/dist-packages (6.5.4)\n",
            "Requirement already satisfied: entrypoints>=0.2.2 in /usr/local/lib/python3.10/dist-packages (from nbconvert) (0.4)\n",
            "Requirement already satisfied: nbclient>=0.5.0 in /usr/local/lib/python3.10/dist-packages (from nbconvert) (0.7.4)\n",
            "Requirement already satisfied: nbformat>=5.1 in /usr/local/lib/python3.10/dist-packages (from nbconvert) (5.8.0)\n",
            "Requirement already satisfied: defusedxml in /usr/local/lib/python3.10/dist-packages (from nbconvert) (0.7.1)\n",
            "Requirement already satisfied: mistune<2,>=0.8.1 in /usr/local/lib/python3.10/dist-packages (from nbconvert) (0.8.4)\n",
            "Requirement already satisfied: pandocfilters>=1.4.1 in /usr/local/lib/python3.10/dist-packages (from nbconvert) (1.5.0)\n",
            "Requirement already satisfied: jupyterlab-pygments in /usr/local/lib/python3.10/dist-packages (from nbconvert) (0.2.2)\n",
            "Requirement already satisfied: pygments>=2.4.1 in /usr/local/lib/python3.10/dist-packages (from nbconvert) (2.14.0)\n",
            "Requirement already satisfied: tinycss2 in /usr/local/lib/python3.10/dist-packages (from nbconvert) (1.2.1)\n",
            "Requirement already satisfied: beautifulsoup4 in /usr/local/lib/python3.10/dist-packages (from nbconvert) (4.11.2)\n",
            "Requirement already satisfied: lxml in /usr/local/lib/python3.10/dist-packages (from nbconvert) (4.9.2)\n",
            "Requirement already satisfied: bleach in /usr/local/lib/python3.10/dist-packages (from nbconvert) (6.0.0)\n",
            "Requirement already satisfied: jinja2>=3.0 in /usr/local/lib/python3.10/dist-packages (from nbconvert) (3.1.2)\n",
            "Requirement already satisfied: packaging in /usr/local/lib/python3.10/dist-packages (from nbconvert) (23.1)\n",
            "Requirement already satisfied: traitlets>=5.0 in /usr/local/lib/python3.10/dist-packages (from nbconvert) (5.7.1)\n",
            "Requirement already satisfied: MarkupSafe>=2.0 in /usr/local/lib/python3.10/dist-packages (from nbconvert) (2.1.2)\n",
            "Requirement already satisfied: jupyter-core>=4.7 in /usr/local/lib/python3.10/dist-packages (from nbconvert) (5.3.0)\n",
            "Requirement already satisfied: platformdirs>=2.5 in /usr/local/lib/python3.10/dist-packages (from jupyter-core>=4.7->nbconvert) (3.3.0)\n",
            "Requirement already satisfied: jupyter-client>=6.1.12 in /usr/local/lib/python3.10/dist-packages (from nbclient>=0.5.0->nbconvert) (6.1.12)\n",
            "Requirement already satisfied: jsonschema>=2.6 in /usr/local/lib/python3.10/dist-packages (from nbformat>=5.1->nbconvert) (4.3.3)\n",
            "Requirement already satisfied: fastjsonschema in /usr/local/lib/python3.10/dist-packages (from nbformat>=5.1->nbconvert) (2.16.3)\n",
            "Requirement already satisfied: soupsieve>1.2 in /usr/local/lib/python3.10/dist-packages (from beautifulsoup4->nbconvert) (2.4.1)\n",
            "Requirement already satisfied: six>=1.9.0 in /usr/local/lib/python3.10/dist-packages (from bleach->nbconvert) (1.16.0)\n",
            "Requirement already satisfied: webencodings in /usr/local/lib/python3.10/dist-packages (from bleach->nbconvert) (0.5.1)\n",
            "Requirement already satisfied: pyrsistent!=0.17.0,!=0.17.1,!=0.17.2,>=0.14.0 in /usr/local/lib/python3.10/dist-packages (from jsonschema>=2.6->nbformat>=5.1->nbconvert) (0.19.3)\n",
            "Requirement already satisfied: attrs>=17.4.0 in /usr/local/lib/python3.10/dist-packages (from jsonschema>=2.6->nbformat>=5.1->nbconvert) (23.1.0)\n",
            "Requirement already satisfied: python-dateutil>=2.1 in /usr/local/lib/python3.10/dist-packages (from jupyter-client>=6.1.12->nbclient>=0.5.0->nbconvert) (2.8.2)\n",
            "Requirement already satisfied: tornado>=4.1 in /usr/local/lib/python3.10/dist-packages (from jupyter-client>=6.1.12->nbclient>=0.5.0->nbconvert) (6.2)\n",
            "Requirement already satisfied: pyzmq>=13 in /usr/local/lib/python3.10/dist-packages (from jupyter-client>=6.1.12->nbclient>=0.5.0->nbconvert) (23.2.1)\n"
          ]
        }
      ],
      "source": [
        "!pip install --upgrade pandas-profiling\n",
        "!pip install nbconvert"
      ]
    },
    {
      "cell_type": "code",
      "execution_count": 2,
      "metadata": {
        "colab": {
          "base_uri": "https://localhost:8080/"
        },
        "id": "vWAD_hNLIyo4",
        "outputId": "e96966a1-febd-4f26-f05e-150af201dd5b"
      },
      "outputs": [
        {
          "output_type": "stream",
          "name": "stderr",
          "text": [
            "<ipython-input-2-1ceb5a1fd0db>:6: DeprecationWarning: `import pandas_profiling` is going to be deprecated by April 1st. Please use `import ydata_profiling` instead.\n",
            "  from pandas_profiling import ProfileReport\n"
          ]
        },
        {
          "output_type": "stream",
          "name": "stdout",
          "text": [
            "Mounted at /content/drive\n"
          ]
        }
      ],
      "source": [
        "import pandas as pd\n",
        "import numpy as np\n",
        "import pandas as pd\n",
        "import matplotlib.pyplot as plt\n",
        "%matplotlib inline\n",
        "from pandas_profiling import ProfileReport\n",
        "from sklearn.linear_model import LogisticRegression\n",
        "from sklearn.neural_network import MLPClassifier\n",
        "from sklearn.svm import SVC\n",
        "import joblib\n",
        "from xgboost import plot_importance\n",
        "from google.colab import drive\n",
        "drive.mount('/content/drive')\n",
        "from sklearn.ensemble import RandomForestClassifier\n",
        "from sklearn import metrics\n",
        "from sklearn.metrics import ConfusionMatrixDisplay, precision_score, recall_score, f1_score, auc\n",
        "from sklearn.preprocessing import StandardScaler\n",
        "from sklearn.preprocessing import OneHotEncoder\n",
        "from sklearn.impute import SimpleImputer\n",
        "from sklearn.compose import make_column_transformer\n",
        "from sklearn.model_selection import train_test_split\n",
        "from matplotlib import pyplot\n",
        "from sklearn.compose import ColumnTransformer\n",
        "from sklearn.pipeline import Pipeline\n",
        "from sklearn.metrics import classification_report, confusion_matrix, accuracy_score\n",
        "from sklearn.model_selection import RandomizedSearchCV\n",
        "import tensorflow as tf\n",
        "import xgboost as xgb\n",
        "from xgboost import XGBClassifier\n",
        "from sklearn.utils.class_weight import compute_sample_weight\n",
        "from sklearn.tree import DecisionTreeClassifier, plot_tree\n",
        "from sklearn.feature_extraction import DictVectorizer\n",
        "from sklearn.pipeline import Pipeline\n",
        "from sklearn.model_selection import cross_val_score\n",
        "import seaborn as sns\n",
        "import warnings\n",
        "import re\n",
        "warnings.filterwarnings('ignore')"
      ]
    },
    {
      "cell_type": "markdown",
      "metadata": {
        "id": "yigi5tqASLhe"
      },
      "source": [
        "# **Lectura de datos**"
      ]
    },
    {
      "cell_type": "code",
      "execution_count": 3,
      "metadata": {
        "id": "qBQOr86uJ5qs"
      },
      "outputs": [],
      "source": [
        "df=pd.read_csv(\"https://raw.githubusercontent.com/lmencisoe/seguros/main/seguros_database.csv\",sep=\";\")"
      ]
    },
    {
      "cell_type": "code",
      "execution_count": 4,
      "metadata": {
        "colab": {
          "base_uri": "https://localhost:8080/",
          "height": 423
        },
        "id": "6DENFHUcLS0Q",
        "outputId": "e0502aba-be8b-479e-a6cd-9b64187d3b8f"
      },
      "outputs": [
        {
          "output_type": "execute_result",
          "data": {
            "text/plain": [
              "           ACTECON   GRUANALI  antigüedad  TAMAEMP  nrotrab     riesgo  \\\n",
              "0      ACT_ECON_24   GRU_AN_4          10  TAMA__2       37  RIESGO__2   \n",
              "1      ACT_ECON_24   GRU_AN_4          10  TAMA__2       37  RIESGO__2   \n",
              "2      ACT_ECON_24   GRU_AN_4          10  TAMA__2       37  RIESGO__2   \n",
              "3      ACT_ECON_24   GRU_AN_4          10  TAMA__2       37  RIESGO__2   \n",
              "5      ACT_ECON_24   GRU_AN_4          10  TAMA__2       37  RIESGO__2   \n",
              "...            ...        ...         ...      ...      ...        ...   \n",
              "13958   ACT_ECON_5  GRU_AN_13          10  TAMA__2       91  RIESGO__3   \n",
              "13963   ACT_ECON_5  GRU_AN_13          10  TAMA__2       91  RIESGO__3   \n",
              "13964  ACT_ECON_33   GRU_AN_9           7  TAMA__2      440  RIESGO__2   \n",
              "13965  ACT_ECON_12   GRU_AN_4          15  TAMA__2       37  RIESGO__3   \n",
              "13966   ACT_ECON_5  GRU_AN_13          16  TAMA__2        6  RIESGO__3   \n",
              "\n",
              "          categoria  target     modular    prom_antes  cant_antes  \n",
              "0      CATEGORIA__4       1  MODULAR__1      0.000000           0  \n",
              "1      CATEGORIA__4       1  MODULAR__2   1457.843500           1  \n",
              "2      CATEGORIA__4       1  MODULAR__2      0.000000           0  \n",
              "3      CATEGORIA__4       1  MODULAR__2   2892.159467           2  \n",
              "5      CATEGORIA__4       1  MODULAR__2    472.293400           7  \n",
              "...             ...     ...         ...           ...         ...  \n",
              "13958  CATEGORIA__0       3  MODULAR__0  29127.806530           2  \n",
              "13963  CATEGORIA__0       3  MODULAR__0   6807.300000           1  \n",
              "13964  CATEGORIA__6       1  MODULAR__0    191.473800           1  \n",
              "13965  CATEGORIA__4       2  MODULAR__0    302.441133           2  \n",
              "13966  CATEGORIA__0       4  MODULAR__0      0.000000           0  \n",
              "\n",
              "[13166 rows x 11 columns]"
            ],
            "text/html": [
              "\n",
              "  <div id=\"df-b08403bf-fdce-49b4-b45e-da88a73d01ea\">\n",
              "    <div class=\"colab-df-container\">\n",
              "      <div>\n",
              "<style scoped>\n",
              "    .dataframe tbody tr th:only-of-type {\n",
              "        vertical-align: middle;\n",
              "    }\n",
              "\n",
              "    .dataframe tbody tr th {\n",
              "        vertical-align: top;\n",
              "    }\n",
              "\n",
              "    .dataframe thead th {\n",
              "        text-align: right;\n",
              "    }\n",
              "</style>\n",
              "<table border=\"1\" class=\"dataframe\">\n",
              "  <thead>\n",
              "    <tr style=\"text-align: right;\">\n",
              "      <th></th>\n",
              "      <th>ACTECON</th>\n",
              "      <th>GRUANALI</th>\n",
              "      <th>antigüedad</th>\n",
              "      <th>TAMAEMP</th>\n",
              "      <th>nrotrab</th>\n",
              "      <th>riesgo</th>\n",
              "      <th>categoria</th>\n",
              "      <th>target</th>\n",
              "      <th>modular</th>\n",
              "      <th>prom_antes</th>\n",
              "      <th>cant_antes</th>\n",
              "    </tr>\n",
              "  </thead>\n",
              "  <tbody>\n",
              "    <tr>\n",
              "      <th>0</th>\n",
              "      <td>ACT_ECON_24</td>\n",
              "      <td>GRU_AN_4</td>\n",
              "      <td>10</td>\n",
              "      <td>TAMA__2</td>\n",
              "      <td>37</td>\n",
              "      <td>RIESGO__2</td>\n",
              "      <td>CATEGORIA__4</td>\n",
              "      <td>1</td>\n",
              "      <td>MODULAR__1</td>\n",
              "      <td>0.000000</td>\n",
              "      <td>0</td>\n",
              "    </tr>\n",
              "    <tr>\n",
              "      <th>1</th>\n",
              "      <td>ACT_ECON_24</td>\n",
              "      <td>GRU_AN_4</td>\n",
              "      <td>10</td>\n",
              "      <td>TAMA__2</td>\n",
              "      <td>37</td>\n",
              "      <td>RIESGO__2</td>\n",
              "      <td>CATEGORIA__4</td>\n",
              "      <td>1</td>\n",
              "      <td>MODULAR__2</td>\n",
              "      <td>1457.843500</td>\n",
              "      <td>1</td>\n",
              "    </tr>\n",
              "    <tr>\n",
              "      <th>2</th>\n",
              "      <td>ACT_ECON_24</td>\n",
              "      <td>GRU_AN_4</td>\n",
              "      <td>10</td>\n",
              "      <td>TAMA__2</td>\n",
              "      <td>37</td>\n",
              "      <td>RIESGO__2</td>\n",
              "      <td>CATEGORIA__4</td>\n",
              "      <td>1</td>\n",
              "      <td>MODULAR__2</td>\n",
              "      <td>0.000000</td>\n",
              "      <td>0</td>\n",
              "    </tr>\n",
              "    <tr>\n",
              "      <th>3</th>\n",
              "      <td>ACT_ECON_24</td>\n",
              "      <td>GRU_AN_4</td>\n",
              "      <td>10</td>\n",
              "      <td>TAMA__2</td>\n",
              "      <td>37</td>\n",
              "      <td>RIESGO__2</td>\n",
              "      <td>CATEGORIA__4</td>\n",
              "      <td>1</td>\n",
              "      <td>MODULAR__2</td>\n",
              "      <td>2892.159467</td>\n",
              "      <td>2</td>\n",
              "    </tr>\n",
              "    <tr>\n",
              "      <th>5</th>\n",
              "      <td>ACT_ECON_24</td>\n",
              "      <td>GRU_AN_4</td>\n",
              "      <td>10</td>\n",
              "      <td>TAMA__2</td>\n",
              "      <td>37</td>\n",
              "      <td>RIESGO__2</td>\n",
              "      <td>CATEGORIA__4</td>\n",
              "      <td>1</td>\n",
              "      <td>MODULAR__2</td>\n",
              "      <td>472.293400</td>\n",
              "      <td>7</td>\n",
              "    </tr>\n",
              "    <tr>\n",
              "      <th>...</th>\n",
              "      <td>...</td>\n",
              "      <td>...</td>\n",
              "      <td>...</td>\n",
              "      <td>...</td>\n",
              "      <td>...</td>\n",
              "      <td>...</td>\n",
              "      <td>...</td>\n",
              "      <td>...</td>\n",
              "      <td>...</td>\n",
              "      <td>...</td>\n",
              "      <td>...</td>\n",
              "    </tr>\n",
              "    <tr>\n",
              "      <th>13958</th>\n",
              "      <td>ACT_ECON_5</td>\n",
              "      <td>GRU_AN_13</td>\n",
              "      <td>10</td>\n",
              "      <td>TAMA__2</td>\n",
              "      <td>91</td>\n",
              "      <td>RIESGO__3</td>\n",
              "      <td>CATEGORIA__0</td>\n",
              "      <td>3</td>\n",
              "      <td>MODULAR__0</td>\n",
              "      <td>29127.806530</td>\n",
              "      <td>2</td>\n",
              "    </tr>\n",
              "    <tr>\n",
              "      <th>13963</th>\n",
              "      <td>ACT_ECON_5</td>\n",
              "      <td>GRU_AN_13</td>\n",
              "      <td>10</td>\n",
              "      <td>TAMA__2</td>\n",
              "      <td>91</td>\n",
              "      <td>RIESGO__3</td>\n",
              "      <td>CATEGORIA__0</td>\n",
              "      <td>3</td>\n",
              "      <td>MODULAR__0</td>\n",
              "      <td>6807.300000</td>\n",
              "      <td>1</td>\n",
              "    </tr>\n",
              "    <tr>\n",
              "      <th>13964</th>\n",
              "      <td>ACT_ECON_33</td>\n",
              "      <td>GRU_AN_9</td>\n",
              "      <td>7</td>\n",
              "      <td>TAMA__2</td>\n",
              "      <td>440</td>\n",
              "      <td>RIESGO__2</td>\n",
              "      <td>CATEGORIA__6</td>\n",
              "      <td>1</td>\n",
              "      <td>MODULAR__0</td>\n",
              "      <td>191.473800</td>\n",
              "      <td>1</td>\n",
              "    </tr>\n",
              "    <tr>\n",
              "      <th>13965</th>\n",
              "      <td>ACT_ECON_12</td>\n",
              "      <td>GRU_AN_4</td>\n",
              "      <td>15</td>\n",
              "      <td>TAMA__2</td>\n",
              "      <td>37</td>\n",
              "      <td>RIESGO__3</td>\n",
              "      <td>CATEGORIA__4</td>\n",
              "      <td>2</td>\n",
              "      <td>MODULAR__0</td>\n",
              "      <td>302.441133</td>\n",
              "      <td>2</td>\n",
              "    </tr>\n",
              "    <tr>\n",
              "      <th>13966</th>\n",
              "      <td>ACT_ECON_5</td>\n",
              "      <td>GRU_AN_13</td>\n",
              "      <td>16</td>\n",
              "      <td>TAMA__2</td>\n",
              "      <td>6</td>\n",
              "      <td>RIESGO__3</td>\n",
              "      <td>CATEGORIA__0</td>\n",
              "      <td>4</td>\n",
              "      <td>MODULAR__0</td>\n",
              "      <td>0.000000</td>\n",
              "      <td>0</td>\n",
              "    </tr>\n",
              "  </tbody>\n",
              "</table>\n",
              "<p>13166 rows × 11 columns</p>\n",
              "</div>\n",
              "      <button class=\"colab-df-convert\" onclick=\"convertToInteractive('df-b08403bf-fdce-49b4-b45e-da88a73d01ea')\"\n",
              "              title=\"Convert this dataframe to an interactive table.\"\n",
              "              style=\"display:none;\">\n",
              "        \n",
              "  <svg xmlns=\"http://www.w3.org/2000/svg\" height=\"24px\"viewBox=\"0 0 24 24\"\n",
              "       width=\"24px\">\n",
              "    <path d=\"M0 0h24v24H0V0z\" fill=\"none\"/>\n",
              "    <path d=\"M18.56 5.44l.94 2.06.94-2.06 2.06-.94-2.06-.94-.94-2.06-.94 2.06-2.06.94zm-11 1L8.5 8.5l.94-2.06 2.06-.94-2.06-.94L8.5 2.5l-.94 2.06-2.06.94zm10 10l.94 2.06.94-2.06 2.06-.94-2.06-.94-.94-2.06-.94 2.06-2.06.94z\"/><path d=\"M17.41 7.96l-1.37-1.37c-.4-.4-.92-.59-1.43-.59-.52 0-1.04.2-1.43.59L10.3 9.45l-7.72 7.72c-.78.78-.78 2.05 0 2.83L4 21.41c.39.39.9.59 1.41.59.51 0 1.02-.2 1.41-.59l7.78-7.78 2.81-2.81c.8-.78.8-2.07 0-2.86zM5.41 20L4 18.59l7.72-7.72 1.47 1.35L5.41 20z\"/>\n",
              "  </svg>\n",
              "      </button>\n",
              "      \n",
              "  <style>\n",
              "    .colab-df-container {\n",
              "      display:flex;\n",
              "      flex-wrap:wrap;\n",
              "      gap: 12px;\n",
              "    }\n",
              "\n",
              "    .colab-df-convert {\n",
              "      background-color: #E8F0FE;\n",
              "      border: none;\n",
              "      border-radius: 50%;\n",
              "      cursor: pointer;\n",
              "      display: none;\n",
              "      fill: #1967D2;\n",
              "      height: 32px;\n",
              "      padding: 0 0 0 0;\n",
              "      width: 32px;\n",
              "    }\n",
              "\n",
              "    .colab-df-convert:hover {\n",
              "      background-color: #E2EBFA;\n",
              "      box-shadow: 0px 1px 2px rgba(60, 64, 67, 0.3), 0px 1px 3px 1px rgba(60, 64, 67, 0.15);\n",
              "      fill: #174EA6;\n",
              "    }\n",
              "\n",
              "    [theme=dark] .colab-df-convert {\n",
              "      background-color: #3B4455;\n",
              "      fill: #D2E3FC;\n",
              "    }\n",
              "\n",
              "    [theme=dark] .colab-df-convert:hover {\n",
              "      background-color: #434B5C;\n",
              "      box-shadow: 0px 1px 3px 1px rgba(0, 0, 0, 0.15);\n",
              "      filter: drop-shadow(0px 1px 2px rgba(0, 0, 0, 0.3));\n",
              "      fill: #FFFFFF;\n",
              "    }\n",
              "  </style>\n",
              "\n",
              "      <script>\n",
              "        const buttonEl =\n",
              "          document.querySelector('#df-b08403bf-fdce-49b4-b45e-da88a73d01ea button.colab-df-convert');\n",
              "        buttonEl.style.display =\n",
              "          google.colab.kernel.accessAllowed ? 'block' : 'none';\n",
              "\n",
              "        async function convertToInteractive(key) {\n",
              "          const element = document.querySelector('#df-b08403bf-fdce-49b4-b45e-da88a73d01ea');\n",
              "          const dataTable =\n",
              "            await google.colab.kernel.invokeFunction('convertToInteractive',\n",
              "                                                     [key], {});\n",
              "          if (!dataTable) return;\n",
              "\n",
              "          const docLinkHtml = 'Like what you see? Visit the ' +\n",
              "            '<a target=\"_blank\" href=https://colab.research.google.com/notebooks/data_table.ipynb>data table notebook</a>'\n",
              "            + ' to learn more about interactive tables.';\n",
              "          element.innerHTML = '';\n",
              "          dataTable['output_type'] = 'display_data';\n",
              "          await google.colab.output.renderOutput(dataTable, element);\n",
              "          const docLink = document.createElement('div');\n",
              "          docLink.innerHTML = docLinkHtml;\n",
              "          element.appendChild(docLink);\n",
              "        }\n",
              "      </script>\n",
              "    </div>\n",
              "  </div>\n",
              "  "
            ]
          },
          "metadata": {},
          "execution_count": 4
        }
      ],
      "source": [
        "df2 = df.copy()\n",
        "#df2 = df2.drop(columns=['ACTECON'])\n",
        "df2 = df2.drop_duplicates()\n",
        "df2"
      ]
    },
    {
      "cell_type": "code",
      "execution_count": 5,
      "metadata": {
        "id": "alr2IULqzuAH"
      },
      "outputs": [],
      "source": [
        "#df2.profile_report()"
      ]
    },
    {
      "cell_type": "markdown",
      "metadata": {
        "id": "NFPfv0vXSTP-"
      },
      "source": [
        "# **Definición de X y Y**"
      ]
    },
    {
      "cell_type": "code",
      "execution_count": 6,
      "metadata": {
        "id": "0twI9X2NMAY4"
      },
      "outputs": [],
      "source": [
        "X_total = df2.drop(['target'], axis=1)\n",
        "Y_total = df2['target'].astype(float) - 1"
      ]
    },
    {
      "cell_type": "markdown",
      "metadata": {
        "id": "pVcKy1cfSXo0"
      },
      "source": [
        "# **Split de train y test**"
      ]
    },
    {
      "cell_type": "code",
      "execution_count": 7,
      "metadata": {
        "id": "w3dGg2_OMMNP"
      },
      "outputs": [],
      "source": [
        "X_train, X_test, y_train, y_test = train_test_split(X_total, Y_total, test_size=0.2, random_state=2022)"
      ]
    },
    {
      "cell_type": "markdown",
      "metadata": {
        "id": "GNGdDh2gSbdY"
      },
      "source": [
        "# **Matriz de correlaciones**"
      ]
    },
    {
      "cell_type": "code",
      "execution_count": 8,
      "metadata": {
        "colab": {
          "base_uri": "https://localhost:8080/",
          "height": 453
        },
        "id": "azAoFO6mNNec",
        "outputId": "be6f6817-78c0-4a3d-9ed9-83214b4cda13"
      },
      "outputs": [
        {
          "output_type": "execute_result",
          "data": {
            "text/plain": [
              "<Axes: >"
            ]
          },
          "metadata": {},
          "execution_count": 8
        },
        {
          "output_type": "display_data",
          "data": {
            "text/plain": [
              "<Figure size 640x480 with 2 Axes>"
            ],
            "image/png": "[encoded data removed]"
          },
          "metadata": {}
        }
      ],
      "source": [
        "matriz_correlacion = df2.corr().round(2)\n",
        "sns.heatmap(data=matriz_correlacion, annot=True)\n"
      ]
    },
    {
      "cell_type": "markdown",
      "metadata": {
        "id": "EiaFxNZlSkTZ"
      },
      "source": [
        "# **Pipeline de transformmación numérica y categórica**"
      ]
    },
    {
      "cell_type": "code",
      "execution_count": 9,
      "metadata": {
        "id": "hdfpXMa4MSJf"
      },
      "outputs": [],
      "source": [
        "cat_features = X_total.select_dtypes(exclude=[\"float64\", \"int64\"]).columns.to_list()\n",
        "numeric_features = X_total.select_dtypes([\"float64\", \"int64\"]).columns.to_list()\n",
        "\n",
        "categorical_transformer = Pipeline(\n",
        "            steps=[\n",
        "                ('imputer', SimpleImputer(strategy='constant', fill_value='missing')),\n",
        "                ('encoder', OneHotEncoder())\n",
        "            ]\n",
        "        )    \n",
        "\n",
        "numeric_transformer = Pipeline(\n",
        "            steps=[\n",
        "                ('imputer', SimpleImputer(strategy='most_frequent')),\n",
        "                ('scaler', StandardScaler())\n",
        "            ]\n",
        "        )\n",
        "\n",
        "preprocessor = ColumnTransformer(\n",
        "            transformers=[\n",
        "                ('numerical', numeric_transformer, numeric_features),\n",
        "                ('categorical', categorical_transformer, cat_features),\n",
        "            ],\n",
        "    remainder='passthrough'\n",
        "        )"
      ]
    },
    {
      "cell_type": "code",
      "execution_count": 11,
      "metadata": {
        "id": "XBOqjYoDMV7v"
      },
      "outputs": [],
      "source": [
        "xgb_pipeline = Pipeline(\n",
        "            [\n",
        "                (\"preprocessor\", preprocessor),\n",
        "                (\n",
        "                    \"classifier\", XGBClassifier(),\n",
        "                ),\n",
        "            ]\n",
        "        )"
      ]
    },
    {
      "cell_type": "markdown",
      "source": [
        "**Balanceo de datos**"
      ],
      "metadata": {
        "id": "_ADYQcBKqTkQ"
      }
    },
    {
      "cell_type": "code",
      "source": [
        "kwargs = {xgb_pipeline.steps[-1][0] + '__sample_weight': sample_weights}   "
      ],
      "metadata": {
        "id": "bZNphrCKqRfH"
      },
      "execution_count": null,
      "outputs": []
    },
    {
      "cell_type": "code",
      "execution_count": 10,
      "metadata": {
        "id": "xyE_2furGDH6"
      },
      "outputs": [],
      "source": [
        "sample_weights = compute_sample_weight(\n",
        "class_weight='balanced',\n",
        "y=y_train #provide your own target name\n",
        ")"
      ]
    },
    {
      "cell_type": "markdown",
      "metadata": {
        "id": "2C30A609Sr-9"
      },
      "source": [
        "***Pipeline de XGBoost***\n"
      ]
    },
    {
      "cell_type": "code",
      "execution_count": 19,
      "metadata": {
        "colab": {
          "base_uri": "https://localhost:8080/"
        },
        "id": "hbXbIWSbMXh4",
        "outputId": "f200de8c-217c-4396-dcc2-b96874e851b9"
      },
      "outputs": [
        {
          "output_type": "stream",
          "name": "stdout",
          "text": [
            "Fitting 5 folds for each of 200 candidates, totalling 1000 fits\n"
          ]
        }
      ],
      "source": [
        "xgb_param_grid = {\n",
        "    'classifier__learning_rate': np.arange(0.05, 0.5, 0.05), #tasa de aprendizaje\n",
        "    'classifier__max_depth': np.arange(10, 40, 1), #profundidad del arbol\n",
        "    'classifier__n_estimators': np.arange(10, 40, 1), #cantidad de árboles\n",
        "    'classifier__subsample': np.arange(0.05, 0.5, 0.05), #% de filas\n",
        "    'classifier__colsample_bytree': np.arange(0.05, 0.5, 0.05) #%de columnas\n",
        "}\n",
        "\n",
        "randomized_xgb = RandomizedSearchCV(estimator=xgb_pipeline, \n",
        "                                            param_distributions=xgb_param_grid,\n",
        "                                            n_iter=200,\n",
        "                                            #scoring='roc_auc',\n",
        "                                            cv=5, \n",
        "                                            verbose=1)\n",
        "\n",
        "with tf.device('/device:GPU:0'): \n",
        "  randomized_xgb.fit(X_train, y_train, **kwargs)\n"
      ]
    },
    {
      "cell_type": "code",
      "execution_count": 20,
      "metadata": {
        "colab": {
          "base_uri": "https://localhost:8080/"
        },
        "id": "mApMEiY-Jaa4",
        "outputId": "b2099821-bce1-49dc-b4f0-277ee0b9a4c6"
      },
      "outputs": [
        {
          "output_type": "stream",
          "name": "stdout",
          "text": [
            "{'classifier__subsample': 0.2, 'classifier__n_estimators': 37, 'classifier__max_depth': 20, 'classifier__learning_rate': 0.25, 'classifier__colsample_bytree': 0.15000000000000002}\n"
          ]
        }
      ],
      "source": [
        "print(randomized_xgb.best_params_)"
      ]
    },
    {
      "cell_type": "markdown",
      "metadata": {
        "id": "C-MasjcaSxsZ"
      },
      "source": [
        "*Classification report de train*"
      ]
    },
    {
      "cell_type": "code",
      "execution_count": 21,
      "metadata": {
        "colab": {
          "base_uri": "https://localhost:8080/"
        },
        "id": "8Cf60oU2IGiN",
        "outputId": "ec794efb-8b2c-4db1-ae9a-937427efb7fd"
      },
      "outputs": [
        {
          "output_type": "stream",
          "name": "stdout",
          "text": [
            "              precision    recall  f1-score   support\n",
            "\n",
            "         0.0       0.62      0.92      0.74       817\n",
            "         1.0       0.62      0.88      0.73       199\n",
            "         2.0       0.99      0.95      0.97      7032\n",
            "         3.0       0.95      0.89      0.92      2484\n",
            "\n",
            "    accuracy                           0.93     10532\n",
            "   macro avg       0.80      0.91      0.84     10532\n",
            "weighted avg       0.95      0.93      0.94     10532\n",
            "\n"
          ]
        }
      ],
      "source": [
        "y_pred_train = randomized_xgb.predict(X_train)\n",
        "print(classification_report(y_train, y_pred_train))"
      ]
    },
    {
      "cell_type": "markdown",
      "metadata": {
        "id": "1qNrOYLeS3G_"
      },
      "source": [
        "*Classification report de test*"
      ]
    },
    {
      "cell_type": "code",
      "execution_count": 22,
      "metadata": {
        "colab": {
          "base_uri": "https://localhost:8080/"
        },
        "id": "B_EMY0BnIKNT",
        "outputId": "885e55f5-1ca4-4cf3-891e-ef943c53e698"
      },
      "outputs": [
        {
          "output_type": "stream",
          "name": "stdout",
          "text": [
            "              precision    recall  f1-score   support\n",
            "\n",
            "         0.0       0.57      0.86      0.68       231\n",
            "         1.0       0.52      0.70      0.60        50\n",
            "         2.0       0.99      0.94      0.96      1748\n",
            "         3.0       0.93      0.84      0.88       605\n",
            "\n",
            "    accuracy                           0.91      2634\n",
            "   macro avg       0.75      0.84      0.78      2634\n",
            "weighted avg       0.93      0.91      0.91      2634\n",
            "\n"
          ]
        }
      ],
      "source": [
        "y_pred_test = randomized_xgb.predict(X_test)\n",
        "print(classification_report(y_test, y_pred_test))"
      ]
    },
    {
      "cell_type": "markdown",
      "metadata": {
        "id": "QeRr3UbUTBME"
      },
      "source": [
        "***Pipeline de Decision Tree***\n"
      ]
    },
    {
      "cell_type": "code",
      "execution_count": 27,
      "metadata": {
        "id": "nGUcGiCKO8r0"
      },
      "outputs": [],
      "source": [
        "dt_pipeline = Pipeline(\n",
        "            [\n",
        "                (\"preprocessor\", preprocessor),\n",
        "                (\n",
        "                    \"classifier\", DecisionTreeClassifier(),\n",
        "                ),\n",
        "            ]\n",
        "        )"
      ]
    },
    {
      "cell_type": "code",
      "execution_count": 28,
      "metadata": {
        "colab": {
          "base_uri": "https://localhost:8080/"
        },
        "id": "s0wsl15OQwSe",
        "outputId": "51bd4b80-50f0-4c02-ae08-8b8fe70dad15"
      },
      "outputs": [
        {
          "output_type": "stream",
          "name": "stdout",
          "text": [
            "Fitting 5 folds for each of 100 candidates, totalling 500 fits\n"
          ]
        }
      ],
      "source": [
        "dt_param_grid = {\n",
        "    'classifier__max_depth': np.arange(3, 10, 1),\n",
        "    'classifier__max_features': ['auto', 'sqrt', 'log2'],\n",
        "    'classifier__min_samples_split': np.arange(5, 50, 5)\n",
        "}\n",
        "\n",
        "# Perform RandomizedSearchCV\n",
        "randomized_roc_auc_dt = RandomizedSearchCV(estimator= dt_pipeline, \n",
        "                                            param_distributions=dt_param_grid,\n",
        "                                            n_iter=100,\n",
        "                                            #scoring='roc_auc',\n",
        "                                            cv=5, \n",
        "                                            verbose=1)\n",
        "\n",
        "# Fit the estimator\n",
        "with tf.device('/device:GPU:0'): \n",
        "  randomized_roc_auc_dt.fit(X_train, y_train, **kwargs)"
      ]
    },
    {
      "cell_type": "markdown",
      "metadata": {
        "id": "GvhAGtE6TI68"
      },
      "source": [
        "*Classification report de train*"
      ]
    },
    {
      "cell_type": "code",
      "execution_count": 29,
      "metadata": {
        "colab": {
          "base_uri": "https://localhost:8080/"
        },
        "id": "7QEbi-CCRRz1",
        "outputId": "c02fc944-0f62-4205-b836-c64c1a1474b4"
      },
      "outputs": [
        {
          "output_type": "stream",
          "name": "stdout",
          "text": [
            "              precision    recall  f1-score   support\n",
            "\n",
            "         0.0       0.33      0.81      0.47       817\n",
            "         1.0       0.27      0.40      0.32       199\n",
            "         2.0       0.97      0.88      0.92      7032\n",
            "         3.0       0.99      0.73      0.84      2484\n",
            "\n",
            "    accuracy                           0.83     10532\n",
            "   macro avg       0.64      0.70      0.64     10532\n",
            "weighted avg       0.91      0.83      0.86     10532\n",
            "\n"
          ]
        }
      ],
      "source": [
        "y_pred_train = randomized_roc_auc_dt.predict(X_train)\n",
        "print(classification_report(y_train, y_pred_train))"
      ]
    },
    {
      "cell_type": "markdown",
      "metadata": {
        "id": "pEypyC2YTJud"
      },
      "source": [
        "*Classification report de test*"
      ]
    },
    {
      "cell_type": "code",
      "execution_count": 30,
      "metadata": {
        "colab": {
          "base_uri": "https://localhost:8080/"
        },
        "id": "QnvaNWldRWw9",
        "outputId": "e8da2ff5-c8ae-4327-a229-de6953cfc11f"
      },
      "outputs": [
        {
          "output_type": "stream",
          "name": "stdout",
          "text": [
            "              precision    recall  f1-score   support\n",
            "\n",
            "         0.0       0.33      0.77      0.47       231\n",
            "         1.0       0.21      0.34      0.26        50\n",
            "         2.0       0.97      0.87      0.92      1748\n",
            "         3.0       0.99      0.73      0.84       605\n",
            "\n",
            "    accuracy                           0.82      2634\n",
            "   macro avg       0.63      0.68      0.62      2634\n",
            "weighted avg       0.90      0.82      0.85      2634\n",
            "\n"
          ]
        }
      ],
      "source": [
        "y_pred_test = randomized_roc_auc_dt.predict(X_test)\n",
        "print(classification_report(y_test, y_pred_test))"
      ]
    },
    {
      "cell_type": "markdown",
      "source": [
        "**Pipeline de Random Forest**"
      ],
      "metadata": {
        "id": "JMSwuvZtkFcG"
      }
    },
    {
      "cell_type": "code",
      "execution_count": 31,
      "metadata": {
        "id": "fhZpGW9Yll0X"
      },
      "outputs": [],
      "source": [
        "rf_pipeline = Pipeline(\n",
        "            [\n",
        "                (\"preprocessor\", preprocessor),\n",
        "                (\n",
        "                    \"classifier\", RandomForestClassifier(),\n",
        "                ),\n",
        "            ]\n",
        "        )"
      ]
    },
    {
      "cell_type": "code",
      "execution_count": 33,
      "metadata": {
        "colab": {
          "base_uri": "https://localhost:8080/"
        },
        "id": "jRbMPlGalq81",
        "outputId": "0a6d0998-6199-4662-d3fc-404d6cc4df78"
      },
      "outputs": [
        {
          "output_type": "stream",
          "name": "stdout",
          "text": [
            "Fitting 5 folds for each of 100 candidates, totalling 500 fits\n"
          ]
        }
      ],
      "source": [
        "rf_param_grid = {\n",
        "    'classifier__n_estimators': np.arange(3, 100, 1),\n",
        "    'classifier__criterion': ['gini', 'entropy', 'log_loss'],\n",
        "    'classifier__max_depth': np.arange(5, 20, 1),\n",
        "    'classifier__min_samples_split': np.arange(5, 50, 5),\n",
        "    'classifier__max_features': ['sqrt', 'log2']\n",
        "}\n",
        "\n",
        "# Perform RandomizedSearchCV\n",
        "randomized_rf = RandomizedSearchCV(estimator= rf_pipeline, \n",
        "                                            param_distributions=rf_param_grid,\n",
        "                                            n_iter=100,\n",
        "                                            #scoring='roc_auc',\n",
        "                                            cv=5, \n",
        "                                            verbose=1)\n",
        "\n",
        "# Fit the estimator\n",
        "with tf.device('/device:GPU:0'): \n",
        "  randomized_rf.fit(X_train, y_train, **kwargs)"
      ]
    },
    {
      "cell_type": "code",
      "execution_count": 34,
      "metadata": {
        "colab": {
          "base_uri": "https://localhost:8080/"
        },
        "id": "O3DobpccnFkc",
        "outputId": "8f94ab46-5094-4c16-b62e-6f26bdeb1267"
      },
      "outputs": [
        {
          "output_type": "stream",
          "name": "stdout",
          "text": [
            "              precision    recall  f1-score   support\n",
            "\n",
            "         0.0       0.45      0.93      0.61       817\n",
            "         1.0       0.46      0.82      0.59       199\n",
            "         2.0       0.99      0.93      0.96      7032\n",
            "         3.0       1.00      0.77      0.87      2484\n",
            "\n",
            "    accuracy                           0.89     10532\n",
            "   macro avg       0.73      0.86      0.76     10532\n",
            "weighted avg       0.94      0.89      0.90     10532\n",
            "\n"
          ]
        }
      ],
      "source": [
        "y_pred_train = randomized_rf.predict(X_train)\n",
        "print(classification_report(y_train, y_pred_train))"
      ]
    },
    {
      "cell_type": "code",
      "execution_count": 35,
      "metadata": {
        "colab": {
          "base_uri": "https://localhost:8080/"
        },
        "id": "K9dHU7sSnJTK",
        "outputId": "27a613b6-bceb-432a-b1fd-6ccfae5e8652"
      },
      "outputs": [
        {
          "output_type": "stream",
          "name": "stdout",
          "text": [
            "              precision    recall  f1-score   support\n",
            "\n",
            "         0.0       0.46      0.87      0.60       231\n",
            "         1.0       0.33      0.62      0.43        50\n",
            "         2.0       0.98      0.92      0.95      1748\n",
            "         3.0       0.99      0.76      0.86       605\n",
            "\n",
            "    accuracy                           0.87      2634\n",
            "   macro avg       0.69      0.79      0.71      2634\n",
            "weighted avg       0.93      0.87      0.89      2634\n",
            "\n"
          ]
        }
      ],
      "source": [
        "y_pred_test = randomized_rf.predict(X_test)\n",
        "print(classification_report(y_test, y_pred_test))"
      ]
    },
    {
      "cell_type": "markdown",
      "metadata": {
        "id": "GeLd0Xka2gcE"
      },
      "source": [
        "# **Ajuste de modelo seleccionado**"
      ]
    },
    {
      "cell_type": "code",
      "execution_count": 36,
      "metadata": {
        "id": "xRuiSNB1IxvU"
      },
      "outputs": [],
      "source": [
        "X_total[['antigüedad', 'nrotrab', 'prom_antes', 'cant_antes']] = StandardScaler().fit_transform(X_total[['antigüedad', 'nrotrab', 'prom_antes', 'cant_antes']])\n",
        "X_numeric = X_total[['antigüedad', 'nrotrab', 'prom_antes', 'cant_antes']]\n",
        "X_numeric =  X_numeric.reset_index(drop=True)"
      ]
    },
    {
      "cell_type": "code",
      "execution_count": 37,
      "metadata": {
        "id": "u2ATnKWe2u3w"
      },
      "outputs": [],
      "source": [
        "ACTECON_dummies = pd.get_dummies(X_total['ACTECON'], prefix='').reset_index(drop=True)\n",
        "GRUANALI_dummies = pd.get_dummies(X_total['GRUANALI'], prefix='').reset_index(drop=True)\n",
        "TAMAEMP_dummies = pd.get_dummies(X_total['TAMAEMP'], prefix='').reset_index(drop=True)\n",
        "riesgo_dummies = pd.get_dummies(X_total['riesgo'], prefix='').reset_index(drop=True)\n",
        "categoria_dummies = pd.get_dummies(X_total['categoria'], prefix='').reset_index(drop=True)\n",
        "modular_dummies = pd.get_dummies(X_total['modular'], prefix='').reset_index(drop=True)\n",
        "X_base = X_total[['ACTECON']]"
      ]
    },
    {
      "cell_type": "code",
      "execution_count": 38,
      "metadata": {
        "colab": {
          "base_uri": "https://localhost:8080/",
          "height": 487
        },
        "id": "OiN8yjp92zuL",
        "outputId": "c8d25bf1-a795-4bfd-8d6a-6c355fb148c0"
      },
      "outputs": [
        {
          "output_type": "execute_result",
          "data": {
            "text/plain": [
              "       _ACT_ECON_1  _ACT_ECON_10  _ACT_ECON_11  _ACT_ECON_12  _ACT_ECON_13  \\\n",
              "0                0             0             0             0             0   \n",
              "1                0             0             0             0             0   \n",
              "2                0             0             0             0             0   \n",
              "3                0             0             0             0             0   \n",
              "4                0             0             0             0             0   \n",
              "...            ...           ...           ...           ...           ...   \n",
              "13161            0             0             0             0             0   \n",
              "13162            0             0             0             0             0   \n",
              "13163            0             0             0             0             0   \n",
              "13164            0             0             0             1             0   \n",
              "13165            0             0             0             0             0   \n",
              "\n",
              "       _ACT_ECON_14  _ACT_ECON_15  _ACT_ECON_16  _ACT_ECON_17  _ACT_ECON_18  \\\n",
              "0                 0             0             0             0             0   \n",
              "1                 0             0             0             0             0   \n",
              "2                 0             0             0             0             0   \n",
              "3                 0             0             0             0             0   \n",
              "4                 0             0             0             0             0   \n",
              "...             ...           ...           ...           ...           ...   \n",
              "13161             0             0             0             0             0   \n",
              "13162             0             0             0             0             0   \n",
              "13163             0             0             0             0             0   \n",
              "13164             0             0             0             0             0   \n",
              "13165             0             0             0             0             0   \n",
              "\n",
              "       ...  _CATEGORIA__1  _CATEGORIA__2  _CATEGORIA__3  _CATEGORIA__4  \\\n",
              "0      ...              0              0              0              1   \n",
              "1      ...              0              0              0              1   \n",
              "2      ...              0              0              0              1   \n",
              "3      ...              0              0              0              1   \n",
              "4      ...              0              0              0              1   \n",
              "...    ...            ...            ...            ...            ...   \n",
              "13161  ...              0              0              0              0   \n",
              "13162  ...              0              0              0              0   \n",
              "13163  ...              0              0              0              0   \n",
              "13164  ...              0              0              0              1   \n",
              "13165  ...              0              0              0              0   \n",
              "\n",
              "       _CATEGORIA__5  _CATEGORIA__6  _CATEGORIA__7  _MODULAR__0  _MODULAR__1  \\\n",
              "0                  0              0              0            0            1   \n",
              "1                  0              0              0            0            0   \n",
              "2                  0              0              0            0            0   \n",
              "3                  0              0              0            0            0   \n",
              "4                  0              0              0            0            0   \n",
              "...              ...            ...            ...          ...          ...   \n",
              "13161              0              0              0            1            0   \n",
              "13162              0              0              0            1            0   \n",
              "13163              0              1              0            1            0   \n",
              "13164              0              0              0            1            0   \n",
              "13165              0              0              0            1            0   \n",
              "\n",
              "       _MODULAR__2  \n",
              "0                0  \n",
              "1                1  \n",
              "2                1  \n",
              "3                1  \n",
              "4                1  \n",
              "...            ...  \n",
              "13161            0  \n",
              "13162            0  \n",
              "13163            0  \n",
              "13164            0  \n",
              "13165            0  \n",
              "\n",
              "[13166 rows x 131 columns]"
            ],
            "text/html": [
              "\n",
              "  <div id=\"df-fb71d0f6-c896-4626-90cb-5359b8889dc3\">\n",
              "    <div class=\"colab-df-container\">\n",
              "      <div>\n",
              "<style scoped>\n",
              "    .dataframe tbody tr th:only-of-type {\n",
              "        vertical-align: middle;\n",
              "    }\n",
              "\n",
              "    .dataframe tbody tr th {\n",
              "        vertical-align: top;\n",
              "    }\n",
              "\n",
              "    .dataframe thead th {\n",
              "        text-align: right;\n",
              "    }\n",
              "</style>\n",
              "<table border=\"1\" class=\"dataframe\">\n",
              "  <thead>\n",
              "    <tr style=\"text-align: right;\">\n",
              "      <th></th>\n",
              "      <th>_ACT_ECON_1</th>\n",
              "      <th>_ACT_ECON_10</th>\n",
              "      <th>_ACT_ECON_11</th>\n",
              "      <th>_ACT_ECON_12</th>\n",
              "      <th>_ACT_ECON_13</th>\n",
              "      <th>_ACT_ECON_14</th>\n",
              "      <th>_ACT_ECON_15</th>\n",
              "      <th>_ACT_ECON_16</th>\n",
              "      <th>_ACT_ECON_17</th>\n",
              "      <th>_ACT_ECON_18</th>\n",
              "      <th>...</th>\n",
              "      <th>_CATEGORIA__1</th>\n",
              "      <th>_CATEGORIA__2</th>\n",
              "      <th>_CATEGORIA__3</th>\n",
              "      <th>_CATEGORIA__4</th>\n",
              "      <th>_CATEGORIA__5</th>\n",
              "      <th>_CATEGORIA__6</th>\n",
              "      <th>_CATEGORIA__7</th>\n",
              "      <th>_MODULAR__0</th>\n",
              "      <th>_MODULAR__1</th>\n",
              "      <th>_MODULAR__2</th>\n",
              "    </tr>\n",
              "  </thead>\n",
              "  <tbody>\n",
              "    <tr>\n",
              "      <th>0</th>\n",
              "      <td>0</td>\n",
              "      <td>0</td>\n",
              "      <td>0</td>\n",
              "      <td>0</td>\n",
              "      <td>0</td>\n",
              "      <td>0</td>\n",
              "      <td>0</td>\n",
              "      <td>0</td>\n",
              "      <td>0</td>\n",
              "      <td>0</td>\n",
              "      <td>...</td>\n",
              "      <td>0</td>\n",
              "      <td>0</td>\n",
              "      <td>0</td>\n",
              "      <td>1</td>\n",
              "      <td>0</td>\n",
              "      <td>0</td>\n",
              "      <td>0</td>\n",
              "      <td>0</td>\n",
              "      <td>1</td>\n",
              "      <td>0</td>\n",
              "    </tr>\n",
              "    <tr>\n",
              "      <th>1</th>\n",
              "      <td>0</td>\n",
              "      <td>0</td>\n",
              "      <td>0</td>\n",
              "      <td>0</td>\n",
              "      <td>0</td>\n",
              "      <td>0</td>\n",
              "      <td>0</td>\n",
              "      <td>0</td>\n",
              "      <td>0</td>\n",
              "      <td>0</td>\n",
              "      <td>...</td>\n",
              "      <td>0</td>\n",
              "      <td>0</td>\n",
              "      <td>0</td>\n",
              "      <td>1</td>\n",
              "      <td>0</td>\n",
              "      <td>0</td>\n",
              "      <td>0</td>\n",
              "      <td>0</td>\n",
              "      <td>0</td>\n",
              "      <td>1</td>\n",
              "    </tr>\n",
              "    <tr>\n",
              "      <th>2</th>\n",
              "      <td>0</td>\n",
              "      <td>0</td>\n",
              "      <td>0</td>\n",
              "      <td>0</td>\n",
              "      <td>0</td>\n",
              "      <td>0</td>\n",
              "      <td>0</td>\n",
              "      <td>0</td>\n",
              "      <td>0</td>\n",
              "      <td>0</td>\n",
              "      <td>...</td>\n",
              "      <td>0</td>\n",
              "      <td>0</td>\n",
              "      <td>0</td>\n",
              "      <td>1</td>\n",
              "      <td>0</td>\n",
              "      <td>0</td>\n",
              "      <td>0</td>\n",
              "      <td>0</td>\n",
              "      <td>0</td>\n",
              "      <td>1</td>\n",
              "    </tr>\n",
              "    <tr>\n",
              "      <th>3</th>\n",
              "      <td>0</td>\n",
              "      <td>0</td>\n",
              "      <td>0</td>\n",
              "      <td>0</td>\n",
              "      <td>0</td>\n",
              "      <td>0</td>\n",
              "      <td>0</td>\n",
              "      <td>0</td>\n",
              "      <td>0</td>\n",
              "      <td>0</td>\n",
              "      <td>...</td>\n",
              "      <td>0</td>\n",
              "      <td>0</td>\n",
              "      <td>0</td>\n",
              "      <td>1</td>\n",
              "      <td>0</td>\n",
              "      <td>0</td>\n",
              "      <td>0</td>\n",
              "      <td>0</td>\n",
              "      <td>0</td>\n",
              "      <td>1</td>\n",
              "    </tr>\n",
              "    <tr>\n",
              "      <th>4</th>\n",
              "      <td>0</td>\n",
              "      <td>0</td>\n",
              "      <td>0</td>\n",
              "      <td>0</td>\n",
              "      <td>0</td>\n",
              "      <td>0</td>\n",
              "      <td>0</td>\n",
              "      <td>0</td>\n",
              "      <td>0</td>\n",
              "      <td>0</td>\n",
              "      <td>...</td>\n",
              "      <td>0</td>\n",
              "      <td>0</td>\n",
              "      <td>0</td>\n",
              "      <td>1</td>\n",
              "      <td>0</td>\n",
              "      <td>0</td>\n",
              "      <td>0</td>\n",
              "      <td>0</td>\n",
              "      <td>0</td>\n",
              "      <td>1</td>\n",
              "    </tr>\n",
              "    <tr>\n",
              "      <th>...</th>\n",
              "      <td>...</td>\n",
              "      <td>...</td>\n",
              "      <td>...</td>\n",
              "      <td>...</td>\n",
              "      <td>...</td>\n",
              "      <td>...</td>\n",
              "      <td>...</td>\n",
              "      <td>...</td>\n",
              "      <td>...</td>\n",
              "      <td>...</td>\n",
              "      <td>...</td>\n",
              "      <td>...</td>\n",
              "      <td>...</td>\n",
              "      <td>...</td>\n",
              "      <td>...</td>\n",
              "      <td>...</td>\n",
              "      <td>...</td>\n",
              "      <td>...</td>\n",
              "      <td>...</td>\n",
              "      <td>...</td>\n",
              "      <td>...</td>\n",
              "    </tr>\n",
              "    <tr>\n",
              "      <th>13161</th>\n",
              "      <td>0</td>\n",
              "      <td>0</td>\n",
              "      <td>0</td>\n",
              "      <td>0</td>\n",
              "      <td>0</td>\n",
              "      <td>0</td>\n",
              "      <td>0</td>\n",
              "      <td>0</td>\n",
              "      <td>0</td>\n",
              "      <td>0</td>\n",
              "      <td>...</td>\n",
              "      <td>0</td>\n",
              "      <td>0</td>\n",
              "      <td>0</td>\n",
              "      <td>0</td>\n",
              "      <td>0</td>\n",
              "      <td>0</td>\n",
              "      <td>0</td>\n",
              "      <td>1</td>\n",
              "      <td>0</td>\n",
              "      <td>0</td>\n",
              "    </tr>\n",
              "    <tr>\n",
              "      <th>13162</th>\n",
              "      <td>0</td>\n",
              "      <td>0</td>\n",
              "      <td>0</td>\n",
              "      <td>0</td>\n",
              "      <td>0</td>\n",
              "      <td>0</td>\n",
              "      <td>0</td>\n",
              "      <td>0</td>\n",
              "      <td>0</td>\n",
              "      <td>0</td>\n",
              "      <td>...</td>\n",
              "      <td>0</td>\n",
              "      <td>0</td>\n",
              "      <td>0</td>\n",
              "      <td>0</td>\n",
              "      <td>0</td>\n",
              "      <td>0</td>\n",
              "      <td>0</td>\n",
              "      <td>1</td>\n",
              "      <td>0</td>\n",
              "      <td>0</td>\n",
              "    </tr>\n",
              "    <tr>\n",
              "      <th>13163</th>\n",
              "      <td>0</td>\n",
              "      <td>0</td>\n",
              "      <td>0</td>\n",
              "      <td>0</td>\n",
              "      <td>0</td>\n",
              "      <td>0</td>\n",
              "      <td>0</td>\n",
              "      <td>0</td>\n",
              "      <td>0</td>\n",
              "      <td>0</td>\n",
              "      <td>...</td>\n",
              "      <td>0</td>\n",
              "      <td>0</td>\n",
              "      <td>0</td>\n",
              "      <td>0</td>\n",
              "      <td>0</td>\n",
              "      <td>1</td>\n",
              "      <td>0</td>\n",
              "      <td>1</td>\n",
              "      <td>0</td>\n",
              "      <td>0</td>\n",
              "    </tr>\n",
              "    <tr>\n",
              "      <th>13164</th>\n",
              "      <td>0</td>\n",
              "      <td>0</td>\n",
              "      <td>0</td>\n",
              "      <td>1</td>\n",
              "      <td>0</td>\n",
              "      <td>0</td>\n",
              "      <td>0</td>\n",
              "      <td>0</td>\n",
              "      <td>0</td>\n",
              "      <td>0</td>\n",
              "      <td>...</td>\n",
              "      <td>0</td>\n",
              "      <td>0</td>\n",
              "      <td>0</td>\n",
              "      <td>1</td>\n",
              "      <td>0</td>\n",
              "      <td>0</td>\n",
              "      <td>0</td>\n",
              "      <td>1</td>\n",
              "      <td>0</td>\n",
              "      <td>0</td>\n",
              "    </tr>\n",
              "    <tr>\n",
              "      <th>13165</th>\n",
              "      <td>0</td>\n",
              "      <td>0</td>\n",
              "      <td>0</td>\n",
              "      <td>0</td>\n",
              "      <td>0</td>\n",
              "      <td>0</td>\n",
              "      <td>0</td>\n",
              "      <td>0</td>\n",
              "      <td>0</td>\n",
              "      <td>0</td>\n",
              "      <td>...</td>\n",
              "      <td>0</td>\n",
              "      <td>0</td>\n",
              "      <td>0</td>\n",
              "      <td>0</td>\n",
              "      <td>0</td>\n",
              "      <td>0</td>\n",
              "      <td>0</td>\n",
              "      <td>1</td>\n",
              "      <td>0</td>\n",
              "      <td>0</td>\n",
              "    </tr>\n",
              "  </tbody>\n",
              "</table>\n",
              "<p>13166 rows × 131 columns</p>\n",
              "</div>\n",
              "      <button class=\"colab-df-convert\" onclick=\"convertToInteractive('df-fb71d0f6-c896-4626-90cb-5359b8889dc3')\"\n",
              "              title=\"Convert this dataframe to an interactive table.\"\n",
              "              style=\"display:none;\">\n",
              "        \n",
              "  <svg xmlns=\"http://www.w3.org/2000/svg\" height=\"24px\"viewBox=\"0 0 24 24\"\n",
              "       width=\"24px\">\n",
              "    <path d=\"M0 0h24v24H0V0z\" fill=\"none\"/>\n",
              "    <path d=\"M18.56 5.44l.94 2.06.94-2.06 2.06-.94-2.06-.94-.94-2.06-.94 2.06-2.06.94zm-11 1L8.5 8.5l.94-2.06 2.06-.94-2.06-.94L8.5 2.5l-.94 2.06-2.06.94zm10 10l.94 2.06.94-2.06 2.06-.94-2.06-.94-.94-2.06-.94 2.06-2.06.94z\"/><path d=\"M17.41 7.96l-1.37-1.37c-.4-.4-.92-.59-1.43-.59-.52 0-1.04.2-1.43.59L10.3 9.45l-7.72 7.72c-.78.78-.78 2.05 0 2.83L4 21.41c.39.39.9.59 1.41.59.51 0 1.02-.2 1.41-.59l7.78-7.78 2.81-2.81c.8-.78.8-2.07 0-2.86zM5.41 20L4 18.59l7.72-7.72 1.47 1.35L5.41 20z\"/>\n",
              "  </svg>\n",
              "      </button>\n",
              "      \n",
              "  <style>\n",
              "    .colab-df-container {\n",
              "      display:flex;\n",
              "      flex-wrap:wrap;\n",
              "      gap: 12px;\n",
              "    }\n",
              "\n",
              "    .colab-df-convert {\n",
              "      background-color: #E8F0FE;\n",
              "      border: none;\n",
              "      border-radius: 50%;\n",
              "      cursor: pointer;\n",
              "      display: none;\n",
              "      fill: #1967D2;\n",
              "      height: 32px;\n",
              "      padding: 0 0 0 0;\n",
              "      width: 32px;\n",
              "    }\n",
              "\n",
              "    .colab-df-convert:hover {\n",
              "      background-color: #E2EBFA;\n",
              "      box-shadow: 0px 1px 2px rgba(60, 64, 67, 0.3), 0px 1px 3px 1px rgba(60, 64, 67, 0.15);\n",
              "      fill: #174EA6;\n",
              "    }\n",
              "\n",
              "    [theme=dark] .colab-df-convert {\n",
              "      background-color: #3B4455;\n",
              "      fill: #D2E3FC;\n",
              "    }\n",
              "\n",
              "    [theme=dark] .colab-df-convert:hover {\n",
              "      background-color: #434B5C;\n",
              "      box-shadow: 0px 1px 3px 1px rgba(0, 0, 0, 0.15);\n",
              "      filter: drop-shadow(0px 1px 2px rgba(0, 0, 0, 0.3));\n",
              "      fill: #FFFFFF;\n",
              "    }\n",
              "  </style>\n",
              "\n",
              "      <script>\n",
              "        const buttonEl =\n",
              "          document.querySelector('#df-fb71d0f6-c896-4626-90cb-5359b8889dc3 button.colab-df-convert');\n",
              "        buttonEl.style.display =\n",
              "          google.colab.kernel.accessAllowed ? 'block' : 'none';\n",
              "\n",
              "        async function convertToInteractive(key) {\n",
              "          const element = document.querySelector('#df-fb71d0f6-c896-4626-90cb-5359b8889dc3');\n",
              "          const dataTable =\n",
              "            await google.colab.kernel.invokeFunction('convertToInteractive',\n",
              "                                                     [key], {});\n",
              "          if (!dataTable) return;\n",
              "\n",
              "          const docLinkHtml = 'Like what you see? Visit the ' +\n",
              "            '<a target=\"_blank\" href=https://colab.research.google.com/notebooks/data_table.ipynb>data table notebook</a>'\n",
              "            + ' to learn more about interactive tables.';\n",
              "          element.innerHTML = '';\n",
              "          dataTable['output_type'] = 'display_data';\n",
              "          await google.colab.output.renderOutput(dataTable, element);\n",
              "          const docLink = document.createElement('div');\n",
              "          docLink.innerHTML = docLinkHtml;\n",
              "          element.appendChild(docLink);\n",
              "        }\n",
              "      </script>\n",
              "    </div>\n",
              "  </div>\n",
              "  "
            ]
          },
          "metadata": {},
          "execution_count": 38
        }
      ],
      "source": [
        "X_base = pd.concat([X_base.reset_index(drop=True), ACTECON_dummies], axis=1)\n",
        "X_base = pd.concat([X_base.reset_index(drop=True), GRUANALI_dummies], axis=1)\n",
        "X_base = pd.concat([X_base.reset_index(drop=True), TAMAEMP_dummies], axis=1)\n",
        "X_base = pd.concat([X_base.reset_index(drop=True), riesgo_dummies], axis=1)\n",
        "X_base = pd.concat([X_base.reset_index(drop=True), categoria_dummies], axis=1)\n",
        "X_base = pd.concat([X_base.reset_index(drop=True), modular_dummies], axis=1)\n",
        "X_base = pd.DataFrame(X_base)\n",
        "X_base = X_base.drop(['ACTECON'], axis=1)\n",
        "X_base"
      ]
    },
    {
      "cell_type": "code",
      "execution_count": 39,
      "metadata": {
        "colab": {
          "base_uri": "https://localhost:8080/",
          "height": 487
        },
        "id": "RTL28D3Q4D5m",
        "outputId": "782736e7-54c8-4c12-8259-8e12daf7c204"
      },
      "outputs": [
        {
          "output_type": "execute_result",
          "data": {
            "text/plain": [
              "       _ACT_ECON_1  _ACT_ECON_10  _ACT_ECON_11  _ACT_ECON_12  _ACT_ECON_13  \\\n",
              "0                0             0             0             0             0   \n",
              "1                0             0             0             0             0   \n",
              "2                0             0             0             0             0   \n",
              "3                0             0             0             0             0   \n",
              "4                0             0             0             0             0   \n",
              "...            ...           ...           ...           ...           ...   \n",
              "13161            0             0             0             0             0   \n",
              "13162            0             0             0             0             0   \n",
              "13163            0             0             0             0             0   \n",
              "13164            0             0             0             1             0   \n",
              "13165            0             0             0             0             0   \n",
              "\n",
              "       _ACT_ECON_14  _ACT_ECON_15  _ACT_ECON_16  _ACT_ECON_17  _ACT_ECON_18  \\\n",
              "0                 0             0             0             0             0   \n",
              "1                 0             0             0             0             0   \n",
              "2                 0             0             0             0             0   \n",
              "3                 0             0             0             0             0   \n",
              "4                 0             0             0             0             0   \n",
              "...             ...           ...           ...           ...           ...   \n",
              "13161             0             0             0             0             0   \n",
              "13162             0             0             0             0             0   \n",
              "13163             0             0             0             0             0   \n",
              "13164             0             0             0             0             0   \n",
              "13165             0             0             0             0             0   \n",
              "\n",
              "       ...  _CATEGORIA__5  _CATEGORIA__6  _CATEGORIA__7  _MODULAR__0  \\\n",
              "0      ...              0              0              0            0   \n",
              "1      ...              0              0              0            0   \n",
              "2      ...              0              0              0            0   \n",
              "3      ...              0              0              0            0   \n",
              "4      ...              0              0              0            0   \n",
              "...    ...            ...            ...            ...          ...   \n",
              "13161  ...              0              0              0            1   \n",
              "13162  ...              0              0              0            1   \n",
              "13163  ...              0              1              0            1   \n",
              "13164  ...              0              0              0            1   \n",
              "13165  ...              0              0              0            1   \n",
              "\n",
              "       _MODULAR__1  _MODULAR__2  antigüedad   nrotrab  prom_antes  cant_antes  \n",
              "0                1            0   -0.681729 -0.781544   -0.020294   -0.836513  \n",
              "1                0            1   -0.681729 -0.781544   -0.010954   -0.835724  \n",
              "2                0            1   -0.681729 -0.781544   -0.020294   -0.836513  \n",
              "3                0            1   -0.681729 -0.781544   -0.001765   -0.834934  \n",
              "4                0            1   -0.681729 -0.781544   -0.017268   -0.830985  \n",
              "...            ...          ...         ...       ...         ...         ...  \n",
              "13161            0            0   -0.681729 -0.757704    0.166318   -0.834934  \n",
              "13162            0            0   -0.681729 -0.757704    0.023318   -0.835724  \n",
              "13163            0            0   -0.849109 -0.603628   -0.019067   -0.835724  \n",
              "13164            0            0   -0.402762 -0.781544   -0.018356   -0.834934  \n",
              "13165            0            0   -0.346969 -0.795230   -0.020294   -0.836513  \n",
              "\n",
              "[13166 rows x 135 columns]"
            ],
            "text/html": [
              "\n",
              "  <div id=\"df-7158efa1-3a4f-4f6d-bf7e-5ae1ea29efb4\">\n",
              "    <div class=\"colab-df-container\">\n",
              "      <div>\n",
              "<style scoped>\n",
              "    .dataframe tbody tr th:only-of-type {\n",
              "        vertical-align: middle;\n",
              "    }\n",
              "\n",
              "    .dataframe tbody tr th {\n",
              "        vertical-align: top;\n",
              "    }\n",
              "\n",
              "    .dataframe thead th {\n",
              "        text-align: right;\n",
              "    }\n",
              "</style>\n",
              "<table border=\"1\" class=\"dataframe\">\n",
              "  <thead>\n",
              "    <tr style=\"text-align: right;\">\n",
              "      <th></th>\n",
              "      <th>_ACT_ECON_1</th>\n",
              "      <th>_ACT_ECON_10</th>\n",
              "      <th>_ACT_ECON_11</th>\n",
              "      <th>_ACT_ECON_12</th>\n",
              "      <th>_ACT_ECON_13</th>\n",
              "      <th>_ACT_ECON_14</th>\n",
              "      <th>_ACT_ECON_15</th>\n",
              "      <th>_ACT_ECON_16</th>\n",
              "      <th>_ACT_ECON_17</th>\n",
              "      <th>_ACT_ECON_18</th>\n",
              "      <th>...</th>\n",
              "      <th>_CATEGORIA__5</th>\n",
              "      <th>_CATEGORIA__6</th>\n",
              "      <th>_CATEGORIA__7</th>\n",
              "      <th>_MODULAR__0</th>\n",
              "      <th>_MODULAR__1</th>\n",
              "      <th>_MODULAR__2</th>\n",
              "      <th>antigüedad</th>\n",
              "      <th>nrotrab</th>\n",
              "      <th>prom_antes</th>\n",
              "      <th>cant_antes</th>\n",
              "    </tr>\n",
              "  </thead>\n",
              "  <tbody>\n",
              "    <tr>\n",
              "      <th>0</th>\n",
              "      <td>0</td>\n",
              "      <td>0</td>\n",
              "      <td>0</td>\n",
              "      <td>0</td>\n",
              "      <td>0</td>\n",
              "      <td>0</td>\n",
              "      <td>0</td>\n",
              "      <td>0</td>\n",
              "      <td>0</td>\n",
              "      <td>0</td>\n",
              "      <td>...</td>\n",
              "      <td>0</td>\n",
              "      <td>0</td>\n",
              "      <td>0</td>\n",
              "      <td>0</td>\n",
              "      <td>1</td>\n",
              "      <td>0</td>\n",
              "      <td>-0.681729</td>\n",
              "      <td>-0.781544</td>\n",
              "      <td>-0.020294</td>\n",
              "      <td>-0.836513</td>\n",
              "    </tr>\n",
              "    <tr>\n",
              "      <th>1</th>\n",
              "      <td>0</td>\n",
              "      <td>0</td>\n",
              "      <td>0</td>\n",
              "      <td>0</td>\n",
              "      <td>0</td>\n",
              "      <td>0</td>\n",
              "      <td>0</td>\n",
              "      <td>0</td>\n",
              "      <td>0</td>\n",
              "      <td>0</td>\n",
              "      <td>...</td>\n",
              "      <td>0</td>\n",
              "      <td>0</td>\n",
              "      <td>0</td>\n",
              "      <td>0</td>\n",
              "      <td>0</td>\n",
              "      <td>1</td>\n",
              "      <td>-0.681729</td>\n",
              "      <td>-0.781544</td>\n",
              "      <td>-0.010954</td>\n",
              "      <td>-0.835724</td>\n",
              "    </tr>\n",
              "    <tr>\n",
              "      <th>2</th>\n",
              "      <td>0</td>\n",
              "      <td>0</td>\n",
              "      <td>0</td>\n",
              "      <td>0</td>\n",
              "      <td>0</td>\n",
              "      <td>0</td>\n",
              "      <td>0</td>\n",
              "      <td>0</td>\n",
              "      <td>0</td>\n",
              "      <td>0</td>\n",
              "      <td>...</td>\n",
              "      <td>0</td>\n",
              "      <td>0</td>\n",
              "      <td>0</td>\n",
              "      <td>0</td>\n",
              "      <td>0</td>\n",
              "      <td>1</td>\n",
              "      <td>-0.681729</td>\n",
              "      <td>-0.781544</td>\n",
              "      <td>-0.020294</td>\n",
              "      <td>-0.836513</td>\n",
              "    </tr>\n",
              "    <tr>\n",
              "      <th>3</th>\n",
              "      <td>0</td>\n",
              "      <td>0</td>\n",
              "      <td>0</td>\n",
              "      <td>0</td>\n",
              "      <td>0</td>\n",
              "      <td>0</td>\n",
              "      <td>0</td>\n",
              "      <td>0</td>\n",
              "      <td>0</td>\n",
              "      <td>0</td>\n",
              "      <td>...</td>\n",
              "      <td>0</td>\n",
              "      <td>0</td>\n",
              "      <td>0</td>\n",
              "      <td>0</td>\n",
              "      <td>0</td>\n",
              "      <td>1</td>\n",
              "      <td>-0.681729</td>\n",
              "      <td>-0.781544</td>\n",
              "      <td>-0.001765</td>\n",
              "      <td>-0.834934</td>\n",
              "    </tr>\n",
              "    <tr>\n",
              "      <th>4</th>\n",
              "      <td>0</td>\n",
              "      <td>0</td>\n",
              "      <td>0</td>\n",
              "      <td>0</td>\n",
              "      <td>0</td>\n",
              "      <td>0</td>\n",
              "      <td>0</td>\n",
              "      <td>0</td>\n",
              "      <td>0</td>\n",
              "      <td>0</td>\n",
              "      <td>...</td>\n",
              "      <td>0</td>\n",
              "      <td>0</td>\n",
              "      <td>0</td>\n",
              "      <td>0</td>\n",
              "      <td>0</td>\n",
              "      <td>1</td>\n",
              "      <td>-0.681729</td>\n",
              "      <td>-0.781544</td>\n",
              "      <td>-0.017268</td>\n",
              "      <td>-0.830985</td>\n",
              "    </tr>\n",
              "    <tr>\n",
              "      <th>...</th>\n",
              "      <td>...</td>\n",
              "      <td>...</td>\n",
              "      <td>...</td>\n",
              "      <td>...</td>\n",
              "      <td>...</td>\n",
              "      <td>...</td>\n",
              "      <td>...</td>\n",
              "      <td>...</td>\n",
              "      <td>...</td>\n",
              "      <td>...</td>\n",
              "      <td>...</td>\n",
              "      <td>...</td>\n",
              "      <td>...</td>\n",
              "      <td>...</td>\n",
              "      <td>...</td>\n",
              "      <td>...</td>\n",
              "      <td>...</td>\n",
              "      <td>...</td>\n",
              "      <td>...</td>\n",
              "      <td>...</td>\n",
              "      <td>...</td>\n",
              "    </tr>\n",
              "    <tr>\n",
              "      <th>13161</th>\n",
              "      <td>0</td>\n",
              "      <td>0</td>\n",
              "      <td>0</td>\n",
              "      <td>0</td>\n",
              "      <td>0</td>\n",
              "      <td>0</td>\n",
              "      <td>0</td>\n",
              "      <td>0</td>\n",
              "      <td>0</td>\n",
              "      <td>0</td>\n",
              "      <td>...</td>\n",
              "      <td>0</td>\n",
              "      <td>0</td>\n",
              "      <td>0</td>\n",
              "      <td>1</td>\n",
              "      <td>0</td>\n",
              "      <td>0</td>\n",
              "      <td>-0.681729</td>\n",
              "      <td>-0.757704</td>\n",
              "      <td>0.166318</td>\n",
              "      <td>-0.834934</td>\n",
              "    </tr>\n",
              "    <tr>\n",
              "      <th>13162</th>\n",
              "      <td>0</td>\n",
              "      <td>0</td>\n",
              "      <td>0</td>\n",
              "      <td>0</td>\n",
              "      <td>0</td>\n",
              "      <td>0</td>\n",
              "      <td>0</td>\n",
              "      <td>0</td>\n",
              "      <td>0</td>\n",
              "      <td>0</td>\n",
              "      <td>...</td>\n",
              "      <td>0</td>\n",
              "      <td>0</td>\n",
              "      <td>0</td>\n",
              "      <td>1</td>\n",
              "      <td>0</td>\n",
              "      <td>0</td>\n",
              "      <td>-0.681729</td>\n",
              "      <td>-0.757704</td>\n",
              "      <td>0.023318</td>\n",
              "      <td>-0.835724</td>\n",
              "    </tr>\n",
              "    <tr>\n",
              "      <th>13163</th>\n",
              "      <td>0</td>\n",
              "      <td>0</td>\n",
              "      <td>0</td>\n",
              "      <td>0</td>\n",
              "      <td>0</td>\n",
              "      <td>0</td>\n",
              "      <td>0</td>\n",
              "      <td>0</td>\n",
              "      <td>0</td>\n",
              "      <td>0</td>\n",
              "      <td>...</td>\n",
              "      <td>0</td>\n",
              "      <td>1</td>\n",
              "      <td>0</td>\n",
              "      <td>1</td>\n",
              "      <td>0</td>\n",
              "      <td>0</td>\n",
              "      <td>-0.849109</td>\n",
              "      <td>-0.603628</td>\n",
              "      <td>-0.019067</td>\n",
              "      <td>-0.835724</td>\n",
              "    </tr>\n",
              "    <tr>\n",
              "      <th>13164</th>\n",
              "      <td>0</td>\n",
              "      <td>0</td>\n",
              "      <td>0</td>\n",
              "      <td>1</td>\n",
              "      <td>0</td>\n",
              "      <td>0</td>\n",
              "      <td>0</td>\n",
              "      <td>0</td>\n",
              "      <td>0</td>\n",
              "      <td>0</td>\n",
              "      <td>...</td>\n",
              "      <td>0</td>\n",
              "      <td>0</td>\n",
              "      <td>0</td>\n",
              "      <td>1</td>\n",
              "      <td>0</td>\n",
              "      <td>0</td>\n",
              "      <td>-0.402762</td>\n",
              "      <td>-0.781544</td>\n",
              "      <td>-0.018356</td>\n",
              "      <td>-0.834934</td>\n",
              "    </tr>\n",
              "    <tr>\n",
              "      <th>13165</th>\n",
              "      <td>0</td>\n",
              "      <td>0</td>\n",
              "      <td>0</td>\n",
              "      <td>0</td>\n",
              "      <td>0</td>\n",
              "      <td>0</td>\n",
              "      <td>0</td>\n",
              "      <td>0</td>\n",
              "      <td>0</td>\n",
              "      <td>0</td>\n",
              "      <td>...</td>\n",
              "      <td>0</td>\n",
              "      <td>0</td>\n",
              "      <td>0</td>\n",
              "      <td>1</td>\n",
              "      <td>0</td>\n",
              "      <td>0</td>\n",
              "      <td>-0.346969</td>\n",
              "      <td>-0.795230</td>\n",
              "      <td>-0.020294</td>\n",
              "      <td>-0.836513</td>\n",
              "    </tr>\n",
              "  </tbody>\n",
              "</table>\n",
              "<p>13166 rows × 135 columns</p>\n",
              "</div>\n",
              "      <button class=\"colab-df-convert\" onclick=\"convertToInteractive('df-7158efa1-3a4f-4f6d-bf7e-5ae1ea29efb4')\"\n",
              "              title=\"Convert this dataframe to an interactive table.\"\n",
              "              style=\"display:none;\">\n",
              "        \n",
              "  <svg xmlns=\"http://www.w3.org/2000/svg\" height=\"24px\"viewBox=\"0 0 24 24\"\n",
              "       width=\"24px\">\n",
              "    <path d=\"M0 0h24v24H0V0z\" fill=\"none\"/>\n",
              "    <path d=\"M18.56 5.44l.94 2.06.94-2.06 2.06-.94-2.06-.94-.94-2.06-.94 2.06-2.06.94zm-11 1L8.5 8.5l.94-2.06 2.06-.94-2.06-.94L8.5 2.5l-.94 2.06-2.06.94zm10 10l.94 2.06.94-2.06 2.06-.94-2.06-.94-.94-2.06-.94 2.06-2.06.94z\"/><path d=\"M17.41 7.96l-1.37-1.37c-.4-.4-.92-.59-1.43-.59-.52 0-1.04.2-1.43.59L10.3 9.45l-7.72 7.72c-.78.78-.78 2.05 0 2.83L4 21.41c.39.39.9.59 1.41.59.51 0 1.02-.2 1.41-.59l7.78-7.78 2.81-2.81c.8-.78.8-2.07 0-2.86zM5.41 20L4 18.59l7.72-7.72 1.47 1.35L5.41 20z\"/>\n",
              "  </svg>\n",
              "      </button>\n",
              "      \n",
              "  <style>\n",
              "    .colab-df-container {\n",
              "      display:flex;\n",
              "      flex-wrap:wrap;\n",
              "      gap: 12px;\n",
              "    }\n",
              "\n",
              "    .colab-df-convert {\n",
              "      background-color: #E8F0FE;\n",
              "      border: none;\n",
              "      border-radius: 50%;\n",
              "      cursor: pointer;\n",
              "      display: none;\n",
              "      fill: #1967D2;\n",
              "      height: 32px;\n",
              "      padding: 0 0 0 0;\n",
              "      width: 32px;\n",
              "    }\n",
              "\n",
              "    .colab-df-convert:hover {\n",
              "      background-color: #E2EBFA;\n",
              "      box-shadow: 0px 1px 2px rgba(60, 64, 67, 0.3), 0px 1px 3px 1px rgba(60, 64, 67, 0.15);\n",
              "      fill: #174EA6;\n",
              "    }\n",
              "\n",
              "    [theme=dark] .colab-df-convert {\n",
              "      background-color: #3B4455;\n",
              "      fill: #D2E3FC;\n",
              "    }\n",
              "\n",
              "    [theme=dark] .colab-df-convert:hover {\n",
              "      background-color: #434B5C;\n",
              "      box-shadow: 0px 1px 3px 1px rgba(0, 0, 0, 0.15);\n",
              "      filter: drop-shadow(0px 1px 2px rgba(0, 0, 0, 0.3));\n",
              "      fill: #FFFFFF;\n",
              "    }\n",
              "  </style>\n",
              "\n",
              "      <script>\n",
              "        const buttonEl =\n",
              "          document.querySelector('#df-7158efa1-3a4f-4f6d-bf7e-5ae1ea29efb4 button.colab-df-convert');\n",
              "        buttonEl.style.display =\n",
              "          google.colab.kernel.accessAllowed ? 'block' : 'none';\n",
              "\n",
              "        async function convertToInteractive(key) {\n",
              "          const element = document.querySelector('#df-7158efa1-3a4f-4f6d-bf7e-5ae1ea29efb4');\n",
              "          const dataTable =\n",
              "            await google.colab.kernel.invokeFunction('convertToInteractive',\n",
              "                                                     [key], {});\n",
              "          if (!dataTable) return;\n",
              "\n",
              "          const docLinkHtml = 'Like what you see? Visit the ' +\n",
              "            '<a target=\"_blank\" href=https://colab.research.google.com/notebooks/data_table.ipynb>data table notebook</a>'\n",
              "            + ' to learn more about interactive tables.';\n",
              "          element.innerHTML = '';\n",
              "          dataTable['output_type'] = 'display_data';\n",
              "          await google.colab.output.renderOutput(dataTable, element);\n",
              "          const docLink = document.createElement('div');\n",
              "          docLink.innerHTML = docLinkHtml;\n",
              "          element.appendChild(docLink);\n",
              "        }\n",
              "      </script>\n",
              "    </div>\n",
              "  </div>\n",
              "  "
            ]
          },
          "metadata": {},
          "execution_count": 39
        }
      ],
      "source": [
        "X_model = pd.concat([X_base.reset_index(drop=True), X_numeric], axis=1)\n",
        "X_model = pd.DataFrame(X_model)\n",
        "X_model"
      ]
    },
    {
      "cell_type": "code",
      "execution_count": 40,
      "metadata": {
        "id": "Zlg9qAsz0MJo"
      },
      "outputs": [],
      "source": [
        "#X_model.profile_report()"
      ]
    },
    {
      "cell_type": "code",
      "execution_count": 41,
      "metadata": {
        "colab": {
          "base_uri": "https://localhost:8080/",
          "height": 549
        },
        "id": "vFNfkuyS2409",
        "outputId": "d1ee24da-1832-40e8-bef7-01cbd6d4fef7"
      },
      "outputs": [
        {
          "output_type": "execute_result",
          "data": {
            "text/plain": [
              "<Axes: >"
            ]
          },
          "metadata": {},
          "execution_count": 41
        },
        {
          "output_type": "display_data",
          "data": {
            "text/plain": [
              "<Figure size 640x480 with 2 Axes>"
            ],
            "image/png": "[encoded data removed]"
          },
          "metadata": {}
        }
      ],
      "source": [
        "matriz_correlacion = X_base.corr().round(2)\n",
        "sns.heatmap(data=matriz_correlacion, annot=True)"
      ]
    },
    {
      "cell_type": "code",
      "execution_count": 42,
      "metadata": {
        "id": "dxYx5uek3Huy"
      },
      "outputs": [],
      "source": [
        "X_train, X_test, y_train, y_test = train_test_split(X_model, Y_total, test_size=0.2, random_state=2022)"
      ]
    },
    {
      "cell_type": "code",
      "execution_count": 43,
      "metadata": {
        "id": "qyyscRA_CLX1"
      },
      "outputs": [],
      "source": [
        "sample_weights = compute_sample_weight(\n",
        "class_weight='balanced',\n",
        "y=y_train #provide your own target name\n",
        ")"
      ]
    },
    {
      "cell_type": "code",
      "source": [
        "print(randomized_xgb.best_params_)"
      ],
      "metadata": {
        "colab": {
          "base_uri": "https://localhost:8080/"
        },
        "id": "CIGB-a0VdovQ",
        "outputId": "2a098bf1-149a-44d2-a5e7-5de5ffb5db52"
      },
      "execution_count": 48,
      "outputs": [
        {
          "output_type": "stream",
          "name": "stdout",
          "text": [
            "{'classifier__subsample': 0.2, 'classifier__n_estimators': 37, 'classifier__max_depth': 20, 'classifier__learning_rate': 0.25, 'classifier__colsample_bytree': 0.15000000000000002}\n"
          ]
        }
      ]
    },
    {
      "cell_type": "code",
      "execution_count": 49,
      "metadata": {
        "id": "ckr5O_iZ3VZY"
      },
      "outputs": [],
      "source": [
        "xgb_selecc = xgb.XGBClassifier(nthread=3, #when use hyperthread, xgboost may become slower\n",
        "         objective='multi:softprob',\n",
        "         learning_rate= 0.15, #so called `eta` value\n",
        "         max_depth= 20,\n",
        "         n_estimators = 37,\n",
        "         subsample= 0.2,\n",
        "         colsample_bytree = 0.15,\n",
        "         seed = 2022)\n"
      ]
    },
    {
      "cell_type": "code",
      "execution_count": 54,
      "metadata": {
        "colab": {
          "base_uri": "https://localhost:8080/",
          "height": 931
        },
        "id": "7Iv-oVGN3X8N",
        "outputId": "5fd5bf0d-c6e4-4dff-d965-750bd1a9a0b5"
      },
      "outputs": [
        {
          "output_type": "stream",
          "name": "stdout",
          "text": [
            "[0]\tvalidation_0-mlogloss:1.16871\tvalidation_1-mlogloss:1.17671\n",
            "[1]\tvalidation_0-mlogloss:0.95928\tvalidation_1-mlogloss:0.97304\n",
            "[2]\tvalidation_0-mlogloss:0.85260\tvalidation_1-mlogloss:0.86976\n",
            "[3]\tvalidation_0-mlogloss:0.75258\tvalidation_1-mlogloss:0.77185\n",
            "[4]\tvalidation_0-mlogloss:0.66832\tvalidation_1-mlogloss:0.69236\n",
            "[5]\tvalidation_0-mlogloss:0.59746\tvalidation_1-mlogloss:0.62257\n",
            "[6]\tvalidation_0-mlogloss:0.57097\tvalidation_1-mlogloss:0.60106\n",
            "[7]\tvalidation_0-mlogloss:0.54357\tvalidation_1-mlogloss:0.57871\n",
            "[8]\tvalidation_0-mlogloss:0.51379\tvalidation_1-mlogloss:0.55074\n",
            "[9]\tvalidation_0-mlogloss:0.46257\tvalidation_1-mlogloss:0.50150\n",
            "[10]\tvalidation_0-mlogloss:0.44410\tvalidation_1-mlogloss:0.48392\n",
            "[11]\tvalidation_0-mlogloss:0.41857\tvalidation_1-mlogloss:0.46055\n",
            "[12]\tvalidation_0-mlogloss:0.38710\tvalidation_1-mlogloss:0.43081\n",
            "[13]\tvalidation_0-mlogloss:0.37798\tvalidation_1-mlogloss:0.42479\n",
            "[14]\tvalidation_0-mlogloss:0.36308\tvalidation_1-mlogloss:0.41197\n",
            "[15]\tvalidation_0-mlogloss:0.35911\tvalidation_1-mlogloss:0.40839\n",
            "[16]\tvalidation_0-mlogloss:0.34949\tvalidation_1-mlogloss:0.39939\n",
            "[17]\tvalidation_0-mlogloss:0.32549\tvalidation_1-mlogloss:0.37982\n",
            "[18]\tvalidation_0-mlogloss:0.32452\tvalidation_1-mlogloss:0.37973\n",
            "[19]\tvalidation_0-mlogloss:0.32818\tvalidation_1-mlogloss:0.38391\n",
            "[20]\tvalidation_0-mlogloss:0.30626\tvalidation_1-mlogloss:0.36457\n",
            "[21]\tvalidation_0-mlogloss:0.30134\tvalidation_1-mlogloss:0.36069\n",
            "[22]\tvalidation_0-mlogloss:0.28776\tvalidation_1-mlogloss:0.34982\n",
            "[23]\tvalidation_0-mlogloss:0.28106\tvalidation_1-mlogloss:0.34338\n",
            "[24]\tvalidation_0-mlogloss:0.26774\tvalidation_1-mlogloss:0.33072\n",
            "[25]\tvalidation_0-mlogloss:0.27156\tvalidation_1-mlogloss:0.33430\n",
            "[26]\tvalidation_0-mlogloss:0.26868\tvalidation_1-mlogloss:0.33405\n",
            "[27]\tvalidation_0-mlogloss:0.26238\tvalidation_1-mlogloss:0.32881\n",
            "[28]\tvalidation_0-mlogloss:0.25497\tvalidation_1-mlogloss:0.32142\n",
            "[29]\tvalidation_0-mlogloss:0.25128\tvalidation_1-mlogloss:0.31982\n",
            "[30]\tvalidation_0-mlogloss:0.24894\tvalidation_1-mlogloss:0.31850\n",
            "[31]\tvalidation_0-mlogloss:0.24332\tvalidation_1-mlogloss:0.31292\n",
            "[32]\tvalidation_0-mlogloss:0.23769\tvalidation_1-mlogloss:0.30839\n",
            "[33]\tvalidation_0-mlogloss:0.23452\tvalidation_1-mlogloss:0.30779\n",
            "[34]\tvalidation_0-mlogloss:0.23017\tvalidation_1-mlogloss:0.30388\n",
            "[35]\tvalidation_0-mlogloss:0.22645\tvalidation_1-mlogloss:0.30008\n",
            "[36]\tvalidation_0-mlogloss:0.22199\tvalidation_1-mlogloss:0.29590\n"
          ]
        },
        {
          "output_type": "execute_result",
          "data": {
            "text/plain": [
              "XGBClassifier(base_score=None, booster=None, callbacks=None,\n",
              "              colsample_bylevel=None, colsample_bynode=None,\n",
              "              colsample_bytree=0.15, early_stopping_rounds=None,\n",
              "              enable_categorical=False, eval_metric=None, feature_types=None,\n",
              "              gamma=None, gpu_id=None, grow_policy=None, importance_type=None,\n",
              "              interaction_constraints=None, learning_rate=0.25, max_bin=None,\n",
              "              max_cat_threshold=None, max_cat_to_onehot=None,\n",
              "              max_delta_step=None, max_depth=20, max_leaves=None,\n",
              "              min_child_weight=None, missing=nan, monotone_constraints=None,\n",
              "              n_estimators=37, n_jobs=None, nthread=3, num_parallel_tree=None,\n",
              "              objective='multi:softprob', ...)"
            ],
            "text/html": [
              "<style>#sk-container-id-4 {color: black;background-color: white;}#sk-container-id-4 pre{padding: 0;}#sk-container-id-4 div.sk-toggleable {background-color: white;}#sk-container-id-4 label.sk-toggleable__label {cursor: pointer;display: block;width: 100%;margin-bottom: 0;padding: 0.3em;box-sizing: border-box;text-align: center;}#sk-container-id-4 label.sk-toggleable__label-arrow:before {content: \"▸\";float: left;margin-right: 0.25em;color: #696969;}#sk-container-id-4 label.sk-toggleable__label-arrow:hover:before {color: black;}#sk-container-id-4 div.sk-estimator:hover label.sk-toggleable__label-arrow:before {color: black;}#sk-container-id-4 div.sk-toggleable__content {max-height: 0;max-width: 0;overflow: hidden;text-align: left;background-color: #f0f8ff;}#sk-container-id-4 div.sk-toggleable__content pre {margin: 0.2em;color: black;border-radius: 0.25em;background-color: #f0f8ff;}#sk-container-id-4 input.sk-toggleable__control:checked~div.sk-toggleable__content {max-height: 200px;max-width: 100%;overflow: auto;}#sk-container-id-4 input.sk-toggleable__control:checked~label.sk-toggleable__label-arrow:before {content: \"▾\";}#sk-container-id-4 div.sk-estimator input.sk-toggleable__control:checked~label.sk-toggleable__label {background-color: #d4ebff;}#sk-container-id-4 div.sk-label input.sk-toggleable__control:checked~label.sk-toggleable__label {background-color: #d4ebff;}#sk-container-id-4 input.sk-hidden--visually {border: 0;clip: rect(1px 1px 1px 1px);clip: rect(1px, 1px, 1px, 1px);height: 1px;margin: -1px;overflow: hidden;padding: 0;position: absolute;width: 1px;}#sk-container-id-4 div.sk-estimator {font-family: monospace;background-color: #f0f8ff;border: 1px dotted black;border-radius: 0.25em;box-sizing: border-box;margin-bottom: 0.5em;}#sk-container-id-4 div.sk-estimator:hover {background-color: #d4ebff;}#sk-container-id-4 div.sk-parallel-item::after {content: \"\";width: 100%;border-bottom: 1px solid gray;flex-grow: 1;}#sk-container-id-4 div.sk-label:hover label.sk-toggleable__label {background-color: #d4ebff;}#sk-container-id-4 div.sk-serial::before {content: \"\";position: absolute;border-left: 1px solid gray;box-sizing: border-box;top: 0;bottom: 0;left: 50%;z-index: 0;}#sk-container-id-4 div.sk-serial {display: flex;flex-direction: column;align-items: center;background-color: white;padding-right: 0.2em;padding-left: 0.2em;position: relative;}#sk-container-id-4 div.sk-item {position: relative;z-index: 1;}#sk-container-id-4 div.sk-parallel {display: flex;align-items: stretch;justify-content: center;background-color: white;position: relative;}#sk-container-id-4 div.sk-item::before, #sk-container-id-4 div.sk-parallel-item::before {content: \"\";position: absolute;border-left: 1px solid gray;box-sizing: border-box;top: 0;bottom: 0;left: 50%;z-index: -1;}#sk-container-id-4 div.sk-parallel-item {display: flex;flex-direction: column;z-index: 1;position: relative;background-color: white;}#sk-container-id-4 div.sk-parallel-item:first-child::after {align-self: flex-end;width: 50%;}#sk-container-id-4 div.sk-parallel-item:last-child::after {align-self: flex-start;width: 50%;}#sk-container-id-4 div.sk-parallel-item:only-child::after {width: 0;}#sk-container-id-4 div.sk-dashed-wrapped {border: 1px dashed gray;margin: 0 0.4em 0.5em 0.4em;box-sizing: border-box;padding-bottom: 0.4em;background-color: white;}#sk-container-id-4 div.sk-label label {font-family: monospace;font-weight: bold;display: inline-block;line-height: 1.2em;}#sk-container-id-4 div.sk-label-container {text-align: center;}#sk-container-id-4 div.sk-container {/* jupyter's `normalize.less` sets `[hidden] { display: none; }` but bootstrap.min.css set `[hidden] { display: none !important; }` so we also need the `!important` here to be able to override the default hidden behavior on the sphinx rendered scikit-learn.org. See: https://github.com/scikit-learn/scikit-learn/issues/21755 */display: inline-block !important;position: relative;}#sk-container-id-4 div.sk-text-repr-fallback {display: none;}</style><div id=\"sk-container-id-4\" class=\"sk-top-container\"><div class=\"sk-text-repr-fallback\"><pre>XGBClassifier(base_score=None, booster=None, callbacks=None,\n",
              "              colsample_bylevel=None, colsample_bynode=None,\n",
              "              colsample_bytree=0.15, early_stopping_rounds=None,\n",
              "              enable_categorical=False, eval_metric=None, feature_types=None,\n",
              "              gamma=None, gpu_id=None, grow_policy=None, importance_type=None,\n",
              "              interaction_constraints=None, learning_rate=0.25, max_bin=None,\n",
              "              max_cat_threshold=None, max_cat_to_onehot=None,\n",
              "              max_delta_step=None, max_depth=20, max_leaves=None,\n",
              "              min_child_weight=None, missing=nan, monotone_constraints=None,\n",
              "              n_estimators=37, n_jobs=None, nthread=3, num_parallel_tree=None,\n",
              "              objective=&#x27;multi:softprob&#x27;, ...)</pre><b>In a Jupyter environment, please rerun this cell to show the HTML representation or trust the notebook. <br />On GitHub, the HTML representation is unable to render, please try loading this page with nbviewer.org.</b></div><div class=\"sk-container\" hidden><div class=\"sk-item\"><div class=\"sk-estimator sk-toggleable\"><input class=\"sk-toggleable__control sk-hidden--visually\" id=\"sk-estimator-id-4\" type=\"checkbox\" checked><label for=\"sk-estimator-id-4\" class=\"sk-toggleable__label sk-toggleable__label-arrow\">XGBClassifier</label><div class=\"sk-toggleable__content\"><pre>XGBClassifier(base_score=None, booster=None, callbacks=None,\n",
              "              colsample_bylevel=None, colsample_bynode=None,\n",
              "              colsample_bytree=0.15, early_stopping_rounds=None,\n",
              "              enable_categorical=False, eval_metric=None, feature_types=None,\n",
              "              gamma=None, gpu_id=None, grow_policy=None, importance_type=None,\n",
              "              interaction_constraints=None, learning_rate=0.25, max_bin=None,\n",
              "              max_cat_threshold=None, max_cat_to_onehot=None,\n",
              "              max_delta_step=None, max_depth=20, max_leaves=None,\n",
              "              min_child_weight=None, missing=nan, monotone_constraints=None,\n",
              "              n_estimators=37, n_jobs=None, nthread=3, num_parallel_tree=None,\n",
              "              objective=&#x27;multi:softprob&#x27;, ...)</pre></div></div></div></div></div>"
            ]
          },
          "metadata": {},
          "execution_count": 54
        }
      ],
      "source": [
        "xgb_selecc.fit(X_train,\n",
        "         y_train,  \n",
        "         eval_metric=\"mlogloss\",\n",
        "         sample_weight = sample_weights,\n",
        "         early_stopping_rounds=100,\n",
        "         eval_set = [(X_train, y_train),(X_test, y_test)])"
      ]
    },
    {
      "cell_type": "code",
      "execution_count": 55,
      "metadata": {
        "colab": {
          "base_uri": "https://localhost:8080/"
        },
        "id": "2CFLY8S63cWl",
        "outputId": "74931feb-cf4c-4f43-8b63-e033e86011c6"
      },
      "outputs": [
        {
          "output_type": "stream",
          "name": "stdout",
          "text": [
            "              precision    recall  f1-score   support\n",
            "\n",
            "         0.0       0.64      0.92      0.75       817\n",
            "         1.0       0.57      0.88      0.69       199\n",
            "         2.0       0.99      0.95      0.97      7032\n",
            "         3.0       0.95      0.88      0.92      2484\n",
            "\n",
            "    accuracy                           0.93     10532\n",
            "   macro avg       0.79      0.91      0.83     10532\n",
            "weighted avg       0.95      0.93      0.93     10532\n",
            "\n"
          ]
        }
      ],
      "source": [
        "y_pred_train = xgb_selecc.predict(X_train)\n",
        "print(classification_report(y_train, y_pred_train))"
      ]
    },
    {
      "cell_type": "code",
      "execution_count": 56,
      "metadata": {
        "colab": {
          "base_uri": "https://localhost:8080/"
        },
        "id": "IMQvSHJN3do5",
        "outputId": "b99ff44b-2a7f-4cd6-9c99-d67685419b69"
      },
      "outputs": [
        {
          "output_type": "stream",
          "name": "stdout",
          "text": [
            "              precision    recall  f1-score   support\n",
            "\n",
            "         0.0       0.56      0.82      0.67       231\n",
            "         1.0       0.44      0.68      0.54        50\n",
            "         2.0       0.98      0.94      0.96      1748\n",
            "         3.0       0.93      0.85      0.89       605\n",
            "\n",
            "    accuracy                           0.90      2634\n",
            "   macro avg       0.73      0.82      0.76      2634\n",
            "weighted avg       0.93      0.90      0.91      2634\n",
            "\n"
          ]
        }
      ],
      "source": [
        "y_pred_test = xgb_selecc.predict(X_test)\n",
        "print(classification_report(y_test, y_pred_test))"
      ]
    },
    {
      "cell_type": "code",
      "execution_count": 57,
      "metadata": {
        "colab": {
          "base_uri": "https://localhost:8080/",
          "height": 472
        },
        "id": "h7Upy4lU3h-5",
        "outputId": "9f36daca-c001-41b1-9ae6-6f8bed2aa49f"
      },
      "outputs": [
        {
          "output_type": "display_data",
          "data": {
            "text/plain": [
              "<Figure size 640x480 with 1 Axes>"
            ],
            "image/png": "[encoded data removed]"
          },
          "metadata": {}
        }
      ],
      "source": [
        "plot_importance(xgb_selecc, height = 1, max_num_features = 20)\n",
        "pyplot.show()"
      ]
    },
    {
      "cell_type": "code",
      "execution_count": 58,
      "metadata": {
        "id": "gLYr52NHCQCK"
      },
      "outputs": [],
      "source": [
        "#X_test.to_csv('folder/subfolder/out.csv')  "
      ]
    },
    {
      "cell_type": "code",
      "execution_count": 59,
      "metadata": {
        "colab": {
          "base_uri": "https://localhost:8080/"
        },
        "id": "98tZyescCqct",
        "outputId": "7180e28c-dc4a-44f5-800a-aa288f1c3b62"
      },
      "outputs": [
        {
          "output_type": "execute_result",
          "data": {
            "text/plain": [
              "array([[0.01170901, 0.00429687, 0.9790911 , 0.00490305],\n",
              "       [0.0070407 , 0.0046698 , 0.93906033, 0.04922916],\n",
              "       [0.00197413, 0.00348761, 0.00348413, 0.9910541 ],\n",
              "       ...,\n",
              "       [0.00382636, 0.00422639, 0.9377864 , 0.0541609 ],\n",
              "       [0.00272032, 0.00309998, 0.9929893 , 0.00119036],\n",
              "       [0.01424372, 0.01496139, 0.9574005 , 0.01339437]], dtype=float32)"
            ]
          },
          "metadata": {},
          "execution_count": 59
        }
      ],
      "source": [
        "xgb_selecc.predict_proba(X_test)"
      ]
    },
    {
      "cell_type": "code",
      "execution_count": 60,
      "metadata": {
        "colab": {
          "base_uri": "https://localhost:8080/",
          "height": 174
        },
        "id": "X323kLYSC2og",
        "outputId": "cc58eecb-c2e3-41db-c2ba-a583b3d4e123"
      },
      "outputs": [
        {
          "output_type": "execute_result",
          "data": {
            "text/plain": [
              "      _ACT_ECON_1  _ACT_ECON_10  _ACT_ECON_11  _ACT_ECON_12  _ACT_ECON_13  \\\n",
              "5491            1             0             0             0             0   \n",
              "\n",
              "      _ACT_ECON_14  _ACT_ECON_15  _ACT_ECON_16  _ACT_ECON_17  _ACT_ECON_18  \\\n",
              "5491             0             0             0             0             0   \n",
              "\n",
              "      ...  _CATEGORIA__5  _CATEGORIA__6  _CATEGORIA__7  _MODULAR__0  \\\n",
              "5491  ...              0              0              0            0   \n",
              "\n",
              "      _MODULAR__1  _MODULAR__2  antigüedad   nrotrab  prom_antes  cant_antes  \n",
              "5491            1            0   -0.960695 -0.786842    0.033648   -0.828615  \n",
              "\n",
              "[1 rows x 135 columns]"
            ],
            "text/html": [
              "\n",
              "  <div id=\"df-ba411e3d-5472-40ab-9156-5f49596fd4d8\">\n",
              "    <div class=\"colab-df-container\">\n",
              "      <div>\n",
              "<style scoped>\n",
              "    .dataframe tbody tr th:only-of-type {\n",
              "        vertical-align: middle;\n",
              "    }\n",
              "\n",
              "    .dataframe tbody tr th {\n",
              "        vertical-align: top;\n",
              "    }\n",
              "\n",
              "    .dataframe thead th {\n",
              "        text-align: right;\n",
              "    }\n",
              "</style>\n",
              "<table border=\"1\" class=\"dataframe\">\n",
              "  <thead>\n",
              "    <tr style=\"text-align: right;\">\n",
              "      <th></th>\n",
              "      <th>_ACT_ECON_1</th>\n",
              "      <th>_ACT_ECON_10</th>\n",
              "      <th>_ACT_ECON_11</th>\n",
              "      <th>_ACT_ECON_12</th>\n",
              "      <th>_ACT_ECON_13</th>\n",
              "      <th>_ACT_ECON_14</th>\n",
              "      <th>_ACT_ECON_15</th>\n",
              "      <th>_ACT_ECON_16</th>\n",
              "      <th>_ACT_ECON_17</th>\n",
              "      <th>_ACT_ECON_18</th>\n",
              "      <th>...</th>\n",
              "      <th>_CATEGORIA__5</th>\n",
              "      <th>_CATEGORIA__6</th>\n",
              "      <th>_CATEGORIA__7</th>\n",
              "      <th>_MODULAR__0</th>\n",
              "      <th>_MODULAR__1</th>\n",
              "      <th>_MODULAR__2</th>\n",
              "      <th>antigüedad</th>\n",
              "      <th>nrotrab</th>\n",
              "      <th>prom_antes</th>\n",
              "      <th>cant_antes</th>\n",
              "    </tr>\n",
              "  </thead>\n",
              "  <tbody>\n",
              "    <tr>\n",
              "      <th>5491</th>\n",
              "      <td>1</td>\n",
              "      <td>0</td>\n",
              "      <td>0</td>\n",
              "      <td>0</td>\n",
              "      <td>0</td>\n",
              "      <td>0</td>\n",
              "      <td>0</td>\n",
              "      <td>0</td>\n",
              "      <td>0</td>\n",
              "      <td>0</td>\n",
              "      <td>...</td>\n",
              "      <td>0</td>\n",
              "      <td>0</td>\n",
              "      <td>0</td>\n",
              "      <td>0</td>\n",
              "      <td>1</td>\n",
              "      <td>0</td>\n",
              "      <td>-0.960695</td>\n",
              "      <td>-0.786842</td>\n",
              "      <td>0.033648</td>\n",
              "      <td>-0.828615</td>\n",
              "    </tr>\n",
              "  </tbody>\n",
              "</table>\n",
              "<p>1 rows × 135 columns</p>\n",
              "</div>\n",
              "      <button class=\"colab-df-convert\" onclick=\"convertToInteractive('df-ba411e3d-5472-40ab-9156-5f49596fd4d8')\"\n",
              "              title=\"Convert this dataframe to an interactive table.\"\n",
              "              style=\"display:none;\">\n",
              "        \n",
              "  <svg xmlns=\"http://www.w3.org/2000/svg\" height=\"24px\"viewBox=\"0 0 24 24\"\n",
              "       width=\"24px\">\n",
              "    <path d=\"M0 0h24v24H0V0z\" fill=\"none\"/>\n",
              "    <path d=\"M18.56 5.44l.94 2.06.94-2.06 2.06-.94-2.06-.94-.94-2.06-.94 2.06-2.06.94zm-11 1L8.5 8.5l.94-2.06 2.06-.94-2.06-.94L8.5 2.5l-.94 2.06-2.06.94zm10 10l.94 2.06.94-2.06 2.06-.94-2.06-.94-.94-2.06-.94 2.06-2.06.94z\"/><path d=\"M17.41 7.96l-1.37-1.37c-.4-.4-.92-.59-1.43-.59-.52 0-1.04.2-1.43.59L10.3 9.45l-7.72 7.72c-.78.78-.78 2.05 0 2.83L4 21.41c.39.39.9.59 1.41.59.51 0 1.02-.2 1.41-.59l7.78-7.78 2.81-2.81c.8-.78.8-2.07 0-2.86zM5.41 20L4 18.59l7.72-7.72 1.47 1.35L5.41 20z\"/>\n",
              "  </svg>\n",
              "      </button>\n",
              "      \n",
              "  <style>\n",
              "    .colab-df-container {\n",
              "      display:flex;\n",
              "      flex-wrap:wrap;\n",
              "      gap: 12px;\n",
              "    }\n",
              "\n",
              "    .colab-df-convert {\n",
              "      background-color: #E8F0FE;\n",
              "      border: none;\n",
              "      border-radius: 50%;\n",
              "      cursor: pointer;\n",
              "      display: none;\n",
              "      fill: #1967D2;\n",
              "      height: 32px;\n",
              "      padding: 0 0 0 0;\n",
              "      width: 32px;\n",
              "    }\n",
              "\n",
              "    .colab-df-convert:hover {\n",
              "      background-color: #E2EBFA;\n",
              "      box-shadow: 0px 1px 2px rgba(60, 64, 67, 0.3), 0px 1px 3px 1px rgba(60, 64, 67, 0.15);\n",
              "      fill: #174EA6;\n",
              "    }\n",
              "\n",
              "    [theme=dark] .colab-df-convert {\n",
              "      background-color: #3B4455;\n",
              "      fill: #D2E3FC;\n",
              "    }\n",
              "\n",
              "    [theme=dark] .colab-df-convert:hover {\n",
              "      background-color: #434B5C;\n",
              "      box-shadow: 0px 1px 3px 1px rgba(0, 0, 0, 0.15);\n",
              "      filter: drop-shadow(0px 1px 2px rgba(0, 0, 0, 0.3));\n",
              "      fill: #FFFFFF;\n",
              "    }\n",
              "  </style>\n",
              "\n",
              "      <script>\n",
              "        const buttonEl =\n",
              "          document.querySelector('#df-ba411e3d-5472-40ab-9156-5f49596fd4d8 button.colab-df-convert');\n",
              "        buttonEl.style.display =\n",
              "          google.colab.kernel.accessAllowed ? 'block' : 'none';\n",
              "\n",
              "        async function convertToInteractive(key) {\n",
              "          const element = document.querySelector('#df-ba411e3d-5472-40ab-9156-5f49596fd4d8');\n",
              "          const dataTable =\n",
              "            await google.colab.kernel.invokeFunction('convertToInteractive',\n",
              "                                                     [key], {});\n",
              "          if (!dataTable) return;\n",
              "\n",
              "          const docLinkHtml = 'Like what you see? Visit the ' +\n",
              "            '<a target=\"_blank\" href=https://colab.research.google.com/notebooks/data_table.ipynb>data table notebook</a>'\n",
              "            + ' to learn more about interactive tables.';\n",
              "          element.innerHTML = '';\n",
              "          dataTable['output_type'] = 'display_data';\n",
              "          await google.colab.output.renderOutput(dataTable, element);\n",
              "          const docLink = document.createElement('div');\n",
              "          docLink.innerHTML = docLinkHtml;\n",
              "          element.appendChild(docLink);\n",
              "        }\n",
              "      </script>\n",
              "    </div>\n",
              "  </div>\n",
              "  "
            ]
          },
          "metadata": {},
          "execution_count": 60
        }
      ],
      "source": [
        "x_prueba = pd.DataFrame(X_test.iloc[[100]])\n",
        "x_prueba"
      ]
    },
    {
      "cell_type": "code",
      "execution_count": 61,
      "metadata": {
        "colab": {
          "base_uri": "https://localhost:8080/"
        },
        "id": "-DDXgFQNDa-H",
        "outputId": "f797f756-c3eb-42f5-fde9-ed112391b71a"
      },
      "outputs": [
        {
          "output_type": "execute_result",
          "data": {
            "text/plain": [
              "array([[0.00380853, 0.00682524, 0.9372413 , 0.05212493]], dtype=float32)"
            ]
          },
          "metadata": {},
          "execution_count": 61
        }
      ],
      "source": [
        "xgb_selecc.predict_proba(x_prueba)"
      ]
    }
  ],
  "metadata": {
    "colab": {
      "provenance": [],
      "gpuType": "T4",
      "include_colab_link": true
    },
    "kernelspec": {
      "display_name": "Python 3",
      "name": "python3"
    },
    "language_info": {
      "name": "python"
    },
    "accelerator": "GPU",
    "gpuClass": "standard"
  },
  "nbformat": 4,
  "nbformat_minor": 0
}