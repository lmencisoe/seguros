{
  "nbformat": 4,
  "nbformat_minor": 0,
  "metadata": {
    "colab": {
      "provenance": [],
      "authorship_tag": "ABX9TyOrNxXiX++mvS1M4M70iEUF",
      "include_colab_link": true
    },
    "kernelspec": {
      "name": "python3",
      "display_name": "Python 3"
    },
    "language_info": {
      "name": "python"
    }
  },
  "cells": [
    {
      "cell_type": "markdown",
      "metadata": {
        "id": "view-in-github",
        "colab_type": "text"
      },
      "source": [
        "<a href=\"https://colab.research.google.com/github/lmencisoe/seguros/blob/main/Modelo_seguros_v3.ipynb\" target=\"_parent\"><img src=\"https://colab.research.google.com/assets/colab-badge.svg\" alt=\"Open In Colab\"/></a>"
      ]
    },
    {
      "cell_type": "code",
      "execution_count": 3,
      "metadata": {
        "colab": {
          "base_uri": "https://localhost:8080/"
        },
        "id": "vWAD_hNLIyo4",
        "outputId": "d08a1872-e8ad-4695-8e4b-41c7cfc62685"
      },
      "outputs": [
        {
          "output_type": "stream",
          "name": "stdout",
          "text": [
            "Mounted at /content/drive\n"
          ]
        }
      ],
      "source": [
        "import pandas as pd\n",
        "import numpy as np\n",
        "import pandas as pd\n",
        "import matplotlib.pyplot as plt\n",
        "%matplotlib inline\n",
        "#from pandas_profiling import ProfileReport\n",
        "from sklearn.linear_model import LogisticRegression\n",
        "from sklearn.neural_network import MLPClassifier\n",
        "from sklearn.svm import SVC\n",
        "import joblib\n",
        "from google.colab import drive\n",
        "drive.mount('/content/drive')\n",
        "from sklearn.ensemble import RandomForestClassifier\n",
        "from sklearn import metrics\n",
        "from sklearn.metrics import ConfusionMatrixDisplay, precision_score, recall_score, f1_score, auc\n",
        "from sklearn.preprocessing import StandardScaler\n",
        "from sklearn.preprocessing import OneHotEncoder\n",
        "from sklearn.impute import SimpleImputer\n",
        "from sklearn.compose import make_column_transformer\n",
        "from sklearn.model_selection import train_test_split\n",
        "from sklearn.compose import ColumnTransformer\n",
        "from sklearn.pipeline import Pipeline\n",
        "from sklearn.metrics import classification_report, confusion_matrix, accuracy_score\n",
        "from sklearn.model_selection import RandomizedSearchCV\n",
        "import tensorflow as tf\n",
        "import xgboost as xgb\n",
        "from xgboost import XGBClassifier\n",
        "from sklearn.tree import DecisionTreeClassifier, plot_tree\n",
        "from sklearn.feature_extraction import DictVectorizer\n",
        "from sklearn.pipeline import Pipeline\n",
        "from sklearn.model_selection import cross_val_score\n",
        "import seaborn as sns\n",
        "import warnings\n",
        "import re\n",
        "warnings.filterwarnings('ignore')"
      ]
    },
    {
      "cell_type": "markdown",
      "source": [
        "# **Lectura de datos**"
      ],
      "metadata": {
        "id": "yigi5tqASLhe"
      }
    },
    {
      "cell_type": "code",
      "source": [
        "df=pd.read_csv(\"https://raw.githubusercontent.com/lmencisoe/seguros/main/seguros_database.csv\",sep=\";\")"
      ],
      "metadata": {
        "id": "qBQOr86uJ5qs"
      },
      "execution_count": 5,
      "outputs": []
    },
    {
      "cell_type": "code",
      "source": [
        "df.head()"
      ],
      "metadata": {
        "colab": {
          "base_uri": "https://localhost:8080/",
          "height": 206
        },
        "id": "i__ZdrW5LZUu",
        "outputId": "fc316f21-c651-474f-ed93-7ecd6682c435"
      },
      "execution_count": 6,
      "outputs": [
        {
          "output_type": "execute_result",
          "data": {
            "text/plain": [
              "       ACTECON  GRUANALI  antigüedad  TAMAEMP  nrotrab     riesgo  \\\n",
              "0  ACT_ECON_24  GRU_AN_4          10  TAMA__2       37  RIESGO__2   \n",
              "1  ACT_ECON_24  GRU_AN_4          10  TAMA__2       37  RIESGO__2   \n",
              "2  ACT_ECON_24  GRU_AN_4          10  TAMA__2       37  RIESGO__2   \n",
              "3  ACT_ECON_24  GRU_AN_4          10  TAMA__2       37  RIESGO__2   \n",
              "4  ACT_ECON_24  GRU_AN_4          10  TAMA__2       37  RIESGO__2   \n",
              "\n",
              "      categoria  target     modular   prom_antes  cant_antes  \n",
              "0  CATEGORIA__4       1  MODULAR__1     0.000000           0  \n",
              "1  CATEGORIA__4       1  MODULAR__2  1457.843500           1  \n",
              "2  CATEGORIA__4       1  MODULAR__2     0.000000           0  \n",
              "3  CATEGORIA__4       1  MODULAR__2  2892.159467           2  \n",
              "4  CATEGORIA__4       1  MODULAR__2     0.000000           0  "
            ],
            "text/html": [
              "\n",
              "  <div id=\"df-cbd57b5c-d45e-4b2c-803e-465fee405427\">\n",
              "    <div class=\"colab-df-container\">\n",
              "      <div>\n",
              "<style scoped>\n",
              "    .dataframe tbody tr th:only-of-type {\n",
              "        vertical-align: middle;\n",
              "    }\n",
              "\n",
              "    .dataframe tbody tr th {\n",
              "        vertical-align: top;\n",
              "    }\n",
              "\n",
              "    .dataframe thead th {\n",
              "        text-align: right;\n",
              "    }\n",
              "</style>\n",
              "<table border=\"1\" class=\"dataframe\">\n",
              "  <thead>\n",
              "    <tr style=\"text-align: right;\">\n",
              "      <th></th>\n",
              "      <th>ACTECON</th>\n",
              "      <th>GRUANALI</th>\n",
              "      <th>antigüedad</th>\n",
              "      <th>TAMAEMP</th>\n",
              "      <th>nrotrab</th>\n",
              "      <th>riesgo</th>\n",
              "      <th>categoria</th>\n",
              "      <th>target</th>\n",
              "      <th>modular</th>\n",
              "      <th>prom_antes</th>\n",
              "      <th>cant_antes</th>\n",
              "    </tr>\n",
              "  </thead>\n",
              "  <tbody>\n",
              "    <tr>\n",
              "      <th>0</th>\n",
              "      <td>ACT_ECON_24</td>\n",
              "      <td>GRU_AN_4</td>\n",
              "      <td>10</td>\n",
              "      <td>TAMA__2</td>\n",
              "      <td>37</td>\n",
              "      <td>RIESGO__2</td>\n",
              "      <td>CATEGORIA__4</td>\n",
              "      <td>1</td>\n",
              "      <td>MODULAR__1</td>\n",
              "      <td>0.000000</td>\n",
              "      <td>0</td>\n",
              "    </tr>\n",
              "    <tr>\n",
              "      <th>1</th>\n",
              "      <td>ACT_ECON_24</td>\n",
              "      <td>GRU_AN_4</td>\n",
              "      <td>10</td>\n",
              "      <td>TAMA__2</td>\n",
              "      <td>37</td>\n",
              "      <td>RIESGO__2</td>\n",
              "      <td>CATEGORIA__4</td>\n",
              "      <td>1</td>\n",
              "      <td>MODULAR__2</td>\n",
              "      <td>1457.843500</td>\n",
              "      <td>1</td>\n",
              "    </tr>\n",
              "    <tr>\n",
              "      <th>2</th>\n",
              "      <td>ACT_ECON_24</td>\n",
              "      <td>GRU_AN_4</td>\n",
              "      <td>10</td>\n",
              "      <td>TAMA__2</td>\n",
              "      <td>37</td>\n",
              "      <td>RIESGO__2</td>\n",
              "      <td>CATEGORIA__4</td>\n",
              "      <td>1</td>\n",
              "      <td>MODULAR__2</td>\n",
              "      <td>0.000000</td>\n",
              "      <td>0</td>\n",
              "    </tr>\n",
              "    <tr>\n",
              "      <th>3</th>\n",
              "      <td>ACT_ECON_24</td>\n",
              "      <td>GRU_AN_4</td>\n",
              "      <td>10</td>\n",
              "      <td>TAMA__2</td>\n",
              "      <td>37</td>\n",
              "      <td>RIESGO__2</td>\n",
              "      <td>CATEGORIA__4</td>\n",
              "      <td>1</td>\n",
              "      <td>MODULAR__2</td>\n",
              "      <td>2892.159467</td>\n",
              "      <td>2</td>\n",
              "    </tr>\n",
              "    <tr>\n",
              "      <th>4</th>\n",
              "      <td>ACT_ECON_24</td>\n",
              "      <td>GRU_AN_4</td>\n",
              "      <td>10</td>\n",
              "      <td>TAMA__2</td>\n",
              "      <td>37</td>\n",
              "      <td>RIESGO__2</td>\n",
              "      <td>CATEGORIA__4</td>\n",
              "      <td>1</td>\n",
              "      <td>MODULAR__2</td>\n",
              "      <td>0.000000</td>\n",
              "      <td>0</td>\n",
              "    </tr>\n",
              "  </tbody>\n",
              "</table>\n",
              "</div>\n",
              "      <button class=\"colab-df-convert\" onclick=\"convertToInteractive('df-cbd57b5c-d45e-4b2c-803e-465fee405427')\"\n",
              "              title=\"Convert this dataframe to an interactive table.\"\n",
              "              style=\"display:none;\">\n",
              "        \n",
              "  <svg xmlns=\"http://www.w3.org/2000/svg\" height=\"24px\"viewBox=\"0 0 24 24\"\n",
              "       width=\"24px\">\n",
              "    <path d=\"M0 0h24v24H0V0z\" fill=\"none\"/>\n",
              "    <path d=\"M18.56 5.44l.94 2.06.94-2.06 2.06-.94-2.06-.94-.94-2.06-.94 2.06-2.06.94zm-11 1L8.5 8.5l.94-2.06 2.06-.94-2.06-.94L8.5 2.5l-.94 2.06-2.06.94zm10 10l.94 2.06.94-2.06 2.06-.94-2.06-.94-.94-2.06-.94 2.06-2.06.94z\"/><path d=\"M17.41 7.96l-1.37-1.37c-.4-.4-.92-.59-1.43-.59-.52 0-1.04.2-1.43.59L10.3 9.45l-7.72 7.72c-.78.78-.78 2.05 0 2.83L4 21.41c.39.39.9.59 1.41.59.51 0 1.02-.2 1.41-.59l7.78-7.78 2.81-2.81c.8-.78.8-2.07 0-2.86zM5.41 20L4 18.59l7.72-7.72 1.47 1.35L5.41 20z\"/>\n",
              "  </svg>\n",
              "      </button>\n",
              "      \n",
              "  <style>\n",
              "    .colab-df-container {\n",
              "      display:flex;\n",
              "      flex-wrap:wrap;\n",
              "      gap: 12px;\n",
              "    }\n",
              "\n",
              "    .colab-df-convert {\n",
              "      background-color: #E8F0FE;\n",
              "      border: none;\n",
              "      border-radius: 50%;\n",
              "      cursor: pointer;\n",
              "      display: none;\n",
              "      fill: #1967D2;\n",
              "      height: 32px;\n",
              "      padding: 0 0 0 0;\n",
              "      width: 32px;\n",
              "    }\n",
              "\n",
              "    .colab-df-convert:hover {\n",
              "      background-color: #E2EBFA;\n",
              "      box-shadow: 0px 1px 2px rgba(60, 64, 67, 0.3), 0px 1px 3px 1px rgba(60, 64, 67, 0.15);\n",
              "      fill: #174EA6;\n",
              "    }\n",
              "\n",
              "    [theme=dark] .colab-df-convert {\n",
              "      background-color: #3B4455;\n",
              "      fill: #D2E3FC;\n",
              "    }\n",
              "\n",
              "    [theme=dark] .colab-df-convert:hover {\n",
              "      background-color: #434B5C;\n",
              "      box-shadow: 0px 1px 3px 1px rgba(0, 0, 0, 0.15);\n",
              "      filter: drop-shadow(0px 1px 2px rgba(0, 0, 0, 0.3));\n",
              "      fill: #FFFFFF;\n",
              "    }\n",
              "  </style>\n",
              "\n",
              "      <script>\n",
              "        const buttonEl =\n",
              "          document.querySelector('#df-cbd57b5c-d45e-4b2c-803e-465fee405427 button.colab-df-convert');\n",
              "        buttonEl.style.display =\n",
              "          google.colab.kernel.accessAllowed ? 'block' : 'none';\n",
              "\n",
              "        async function convertToInteractive(key) {\n",
              "          const element = document.querySelector('#df-cbd57b5c-d45e-4b2c-803e-465fee405427');\n",
              "          const dataTable =\n",
              "            await google.colab.kernel.invokeFunction('convertToInteractive',\n",
              "                                                     [key], {});\n",
              "          if (!dataTable) return;\n",
              "\n",
              "          const docLinkHtml = 'Like what you see? Visit the ' +\n",
              "            '<a target=\"_blank\" href=https://colab.research.google.com/notebooks/data_table.ipynb>data table notebook</a>'\n",
              "            + ' to learn more about interactive tables.';\n",
              "          element.innerHTML = '';\n",
              "          dataTable['output_type'] = 'display_data';\n",
              "          await google.colab.output.renderOutput(dataTable, element);\n",
              "          const docLink = document.createElement('div');\n",
              "          docLink.innerHTML = docLinkHtml;\n",
              "          element.appendChild(docLink);\n",
              "        }\n",
              "      </script>\n",
              "    </div>\n",
              "  </div>\n",
              "  "
            ]
          },
          "metadata": {},
          "execution_count": 6
        }
      ]
    },
    {
      "cell_type": "code",
      "source": [
        "df2 = df.copy()\n",
        "df2 = df2.drop(columns=['ACTECON'])\n",
        "df2 = df2.drop_duplicates()\n",
        "df2"
      ],
      "metadata": {
        "id": "6DENFHUcLS0Q",
        "colab": {
          "base_uri": "https://localhost:8080/",
          "height": 423
        },
        "outputId": "6927d4ea-452b-402e-ef88-3b64ad56df4e"
      },
      "execution_count": 49,
      "outputs": [
        {
          "output_type": "execute_result",
          "data": {
            "text/plain": [
              "        GRUANALI  antigüedad  TAMAEMP  nrotrab     riesgo     categoria  \\\n",
              "0       GRU_AN_4          10  TAMA__2       37  RIESGO__2  CATEGORIA__4   \n",
              "1       GRU_AN_4          10  TAMA__2       37  RIESGO__2  CATEGORIA__4   \n",
              "2       GRU_AN_4          10  TAMA__2       37  RIESGO__2  CATEGORIA__4   \n",
              "3       GRU_AN_4          10  TAMA__2       37  RIESGO__2  CATEGORIA__4   \n",
              "5       GRU_AN_4          10  TAMA__2       37  RIESGO__2  CATEGORIA__4   \n",
              "...          ...         ...      ...      ...        ...           ...   \n",
              "14086  GRU_AN_13          10  TAMA__2       91  RIESGO__3  CATEGORIA__0   \n",
              "14091  GRU_AN_13          10  TAMA__2       91  RIESGO__3  CATEGORIA__0   \n",
              "14092   GRU_AN_9           7  TAMA__2      440  RIESGO__2  CATEGORIA__6   \n",
              "14093   GRU_AN_4          15  TAMA__2       37  RIESGO__3  CATEGORIA__4   \n",
              "14094  GRU_AN_13          16  TAMA__2        6  RIESGO__3  CATEGORIA__0   \n",
              "\n",
              "       target     modular    prom_antes  cant_antes  \n",
              "0           1  MODULAR__1      0.000000           0  \n",
              "1           1  MODULAR__2   1457.843500           1  \n",
              "2           1  MODULAR__2      0.000000           0  \n",
              "3           1  MODULAR__2   2892.159467           2  \n",
              "5           1  MODULAR__2    472.293400           7  \n",
              "...       ...         ...           ...         ...  \n",
              "14086       3  MODULAR__0  29127.806533           2  \n",
              "14091       3  MODULAR__0   6807.300000           1  \n",
              "14092       1  MODULAR__0    191.473800           1  \n",
              "14093       2  MODULAR__0    302.441133           2  \n",
              "14094       4  MODULAR__0      0.000000           0  \n",
              "\n",
              "[13294 rows x 10 columns]"
            ],
            "text/html": [
              "\n",
              "  <div id=\"df-b26d2e03-5d30-458d-b99b-3dc4dbef406e\">\n",
              "    <div class=\"colab-df-container\">\n",
              "      <div>\n",
              "<style scoped>\n",
              "    .dataframe tbody tr th:only-of-type {\n",
              "        vertical-align: middle;\n",
              "    }\n",
              "\n",
              "    .dataframe tbody tr th {\n",
              "        vertical-align: top;\n",
              "    }\n",
              "\n",
              "    .dataframe thead th {\n",
              "        text-align: right;\n",
              "    }\n",
              "</style>\n",
              "<table border=\"1\" class=\"dataframe\">\n",
              "  <thead>\n",
              "    <tr style=\"text-align: right;\">\n",
              "      <th></th>\n",
              "      <th>GRUANALI</th>\n",
              "      <th>antigüedad</th>\n",
              "      <th>TAMAEMP</th>\n",
              "      <th>nrotrab</th>\n",
              "      <th>riesgo</th>\n",
              "      <th>categoria</th>\n",
              "      <th>target</th>\n",
              "      <th>modular</th>\n",
              "      <th>prom_antes</th>\n",
              "      <th>cant_antes</th>\n",
              "    </tr>\n",
              "  </thead>\n",
              "  <tbody>\n",
              "    <tr>\n",
              "      <th>0</th>\n",
              "      <td>GRU_AN_4</td>\n",
              "      <td>10</td>\n",
              "      <td>TAMA__2</td>\n",
              "      <td>37</td>\n",
              "      <td>RIESGO__2</td>\n",
              "      <td>CATEGORIA__4</td>\n",
              "      <td>1</td>\n",
              "      <td>MODULAR__1</td>\n",
              "      <td>0.000000</td>\n",
              "      <td>0</td>\n",
              "    </tr>\n",
              "    <tr>\n",
              "      <th>1</th>\n",
              "      <td>GRU_AN_4</td>\n",
              "      <td>10</td>\n",
              "      <td>TAMA__2</td>\n",
              "      <td>37</td>\n",
              "      <td>RIESGO__2</td>\n",
              "      <td>CATEGORIA__4</td>\n",
              "      <td>1</td>\n",
              "      <td>MODULAR__2</td>\n",
              "      <td>1457.843500</td>\n",
              "      <td>1</td>\n",
              "    </tr>\n",
              "    <tr>\n",
              "      <th>2</th>\n",
              "      <td>GRU_AN_4</td>\n",
              "      <td>10</td>\n",
              "      <td>TAMA__2</td>\n",
              "      <td>37</td>\n",
              "      <td>RIESGO__2</td>\n",
              "      <td>CATEGORIA__4</td>\n",
              "      <td>1</td>\n",
              "      <td>MODULAR__2</td>\n",
              "      <td>0.000000</td>\n",
              "      <td>0</td>\n",
              "    </tr>\n",
              "    <tr>\n",
              "      <th>3</th>\n",
              "      <td>GRU_AN_4</td>\n",
              "      <td>10</td>\n",
              "      <td>TAMA__2</td>\n",
              "      <td>37</td>\n",
              "      <td>RIESGO__2</td>\n",
              "      <td>CATEGORIA__4</td>\n",
              "      <td>1</td>\n",
              "      <td>MODULAR__2</td>\n",
              "      <td>2892.159467</td>\n",
              "      <td>2</td>\n",
              "    </tr>\n",
              "    <tr>\n",
              "      <th>5</th>\n",
              "      <td>GRU_AN_4</td>\n",
              "      <td>10</td>\n",
              "      <td>TAMA__2</td>\n",
              "      <td>37</td>\n",
              "      <td>RIESGO__2</td>\n",
              "      <td>CATEGORIA__4</td>\n",
              "      <td>1</td>\n",
              "      <td>MODULAR__2</td>\n",
              "      <td>472.293400</td>\n",
              "      <td>7</td>\n",
              "    </tr>\n",
              "    <tr>\n",
              "      <th>...</th>\n",
              "      <td>...</td>\n",
              "      <td>...</td>\n",
              "      <td>...</td>\n",
              "      <td>...</td>\n",
              "      <td>...</td>\n",
              "      <td>...</td>\n",
              "      <td>...</td>\n",
              "      <td>...</td>\n",
              "      <td>...</td>\n",
              "      <td>...</td>\n",
              "    </tr>\n",
              "    <tr>\n",
              "      <th>14086</th>\n",
              "      <td>GRU_AN_13</td>\n",
              "      <td>10</td>\n",
              "      <td>TAMA__2</td>\n",
              "      <td>91</td>\n",
              "      <td>RIESGO__3</td>\n",
              "      <td>CATEGORIA__0</td>\n",
              "      <td>3</td>\n",
              "      <td>MODULAR__0</td>\n",
              "      <td>29127.806533</td>\n",
              "      <td>2</td>\n",
              "    </tr>\n",
              "    <tr>\n",
              "      <th>14091</th>\n",
              "      <td>GRU_AN_13</td>\n",
              "      <td>10</td>\n",
              "      <td>TAMA__2</td>\n",
              "      <td>91</td>\n",
              "      <td>RIESGO__3</td>\n",
              "      <td>CATEGORIA__0</td>\n",
              "      <td>3</td>\n",
              "      <td>MODULAR__0</td>\n",
              "      <td>6807.300000</td>\n",
              "      <td>1</td>\n",
              "    </tr>\n",
              "    <tr>\n",
              "      <th>14092</th>\n",
              "      <td>GRU_AN_9</td>\n",
              "      <td>7</td>\n",
              "      <td>TAMA__2</td>\n",
              "      <td>440</td>\n",
              "      <td>RIESGO__2</td>\n",
              "      <td>CATEGORIA__6</td>\n",
              "      <td>1</td>\n",
              "      <td>MODULAR__0</td>\n",
              "      <td>191.473800</td>\n",
              "      <td>1</td>\n",
              "    </tr>\n",
              "    <tr>\n",
              "      <th>14093</th>\n",
              "      <td>GRU_AN_4</td>\n",
              "      <td>15</td>\n",
              "      <td>TAMA__2</td>\n",
              "      <td>37</td>\n",
              "      <td>RIESGO__3</td>\n",
              "      <td>CATEGORIA__4</td>\n",
              "      <td>2</td>\n",
              "      <td>MODULAR__0</td>\n",
              "      <td>302.441133</td>\n",
              "      <td>2</td>\n",
              "    </tr>\n",
              "    <tr>\n",
              "      <th>14094</th>\n",
              "      <td>GRU_AN_13</td>\n",
              "      <td>16</td>\n",
              "      <td>TAMA__2</td>\n",
              "      <td>6</td>\n",
              "      <td>RIESGO__3</td>\n",
              "      <td>CATEGORIA__0</td>\n",
              "      <td>4</td>\n",
              "      <td>MODULAR__0</td>\n",
              "      <td>0.000000</td>\n",
              "      <td>0</td>\n",
              "    </tr>\n",
              "  </tbody>\n",
              "</table>\n",
              "<p>13294 rows × 10 columns</p>\n",
              "</div>\n",
              "      <button class=\"colab-df-convert\" onclick=\"convertToInteractive('df-b26d2e03-5d30-458d-b99b-3dc4dbef406e')\"\n",
              "              title=\"Convert this dataframe to an interactive table.\"\n",
              "              style=\"display:none;\">\n",
              "        \n",
              "  <svg xmlns=\"http://www.w3.org/2000/svg\" height=\"24px\"viewBox=\"0 0 24 24\"\n",
              "       width=\"24px\">\n",
              "    <path d=\"M0 0h24v24H0V0z\" fill=\"none\"/>\n",
              "    <path d=\"M18.56 5.44l.94 2.06.94-2.06 2.06-.94-2.06-.94-.94-2.06-.94 2.06-2.06.94zm-11 1L8.5 8.5l.94-2.06 2.06-.94-2.06-.94L8.5 2.5l-.94 2.06-2.06.94zm10 10l.94 2.06.94-2.06 2.06-.94-2.06-.94-.94-2.06-.94 2.06-2.06.94z\"/><path d=\"M17.41 7.96l-1.37-1.37c-.4-.4-.92-.59-1.43-.59-.52 0-1.04.2-1.43.59L10.3 9.45l-7.72 7.72c-.78.78-.78 2.05 0 2.83L4 21.41c.39.39.9.59 1.41.59.51 0 1.02-.2 1.41-.59l7.78-7.78 2.81-2.81c.8-.78.8-2.07 0-2.86zM5.41 20L4 18.59l7.72-7.72 1.47 1.35L5.41 20z\"/>\n",
              "  </svg>\n",
              "      </button>\n",
              "      \n",
              "  <style>\n",
              "    .colab-df-container {\n",
              "      display:flex;\n",
              "      flex-wrap:wrap;\n",
              "      gap: 12px;\n",
              "    }\n",
              "\n",
              "    .colab-df-convert {\n",
              "      background-color: #E8F0FE;\n",
              "      border: none;\n",
              "      border-radius: 50%;\n",
              "      cursor: pointer;\n",
              "      display: none;\n",
              "      fill: #1967D2;\n",
              "      height: 32px;\n",
              "      padding: 0 0 0 0;\n",
              "      width: 32px;\n",
              "    }\n",
              "\n",
              "    .colab-df-convert:hover {\n",
              "      background-color: #E2EBFA;\n",
              "      box-shadow: 0px 1px 2px rgba(60, 64, 67, 0.3), 0px 1px 3px 1px rgba(60, 64, 67, 0.15);\n",
              "      fill: #174EA6;\n",
              "    }\n",
              "\n",
              "    [theme=dark] .colab-df-convert {\n",
              "      background-color: #3B4455;\n",
              "      fill: #D2E3FC;\n",
              "    }\n",
              "\n",
              "    [theme=dark] .colab-df-convert:hover {\n",
              "      background-color: #434B5C;\n",
              "      box-shadow: 0px 1px 3px 1px rgba(0, 0, 0, 0.15);\n",
              "      filter: drop-shadow(0px 1px 2px rgba(0, 0, 0, 0.3));\n",
              "      fill: #FFFFFF;\n",
              "    }\n",
              "  </style>\n",
              "\n",
              "      <script>\n",
              "        const buttonEl =\n",
              "          document.querySelector('#df-b26d2e03-5d30-458d-b99b-3dc4dbef406e button.colab-df-convert');\n",
              "        buttonEl.style.display =\n",
              "          google.colab.kernel.accessAllowed ? 'block' : 'none';\n",
              "\n",
              "        async function convertToInteractive(key) {\n",
              "          const element = document.querySelector('#df-b26d2e03-5d30-458d-b99b-3dc4dbef406e');\n",
              "          const dataTable =\n",
              "            await google.colab.kernel.invokeFunction('convertToInteractive',\n",
              "                                                     [key], {});\n",
              "          if (!dataTable) return;\n",
              "\n",
              "          const docLinkHtml = 'Like what you see? Visit the ' +\n",
              "            '<a target=\"_blank\" href=https://colab.research.google.com/notebooks/data_table.ipynb>data table notebook</a>'\n",
              "            + ' to learn more about interactive tables.';\n",
              "          element.innerHTML = '';\n",
              "          dataTable['output_type'] = 'display_data';\n",
              "          await google.colab.output.renderOutput(dataTable, element);\n",
              "          const docLink = document.createElement('div');\n",
              "          docLink.innerHTML = docLinkHtml;\n",
              "          element.appendChild(docLink);\n",
              "        }\n",
              "      </script>\n",
              "    </div>\n",
              "  </div>\n",
              "  "
            ]
          },
          "metadata": {},
          "execution_count": 49
        }
      ]
    },
    {
      "cell_type": "markdown",
      "source": [
        "# **Definición de X y Y**"
      ],
      "metadata": {
        "id": "NFPfv0vXSTP-"
      }
    },
    {
      "cell_type": "code",
      "source": [
        "X_total = df2.drop(['target'], axis=1)\n",
        "Y_total = df2['target'].astype(float) - 1"
      ],
      "metadata": {
        "id": "0twI9X2NMAY4"
      },
      "execution_count": 50,
      "outputs": []
    },
    {
      "cell_type": "markdown",
      "source": [
        "# **Split de train y test**"
      ],
      "metadata": {
        "id": "pVcKy1cfSXo0"
      }
    },
    {
      "cell_type": "code",
      "source": [
        "X_train, X_test, y_train, y_test = train_test_split(X_total, Y_total, test_size=0.3, random_state=2022)"
      ],
      "metadata": {
        "id": "w3dGg2_OMMNP"
      },
      "execution_count": 51,
      "outputs": []
    },
    {
      "cell_type": "code",
      "source": [
        "y_train"
      ],
      "metadata": {
        "colab": {
          "base_uri": "https://localhost:8080/"
        },
        "id": "kmpIvGyq-m6E",
        "outputId": "31628f48-655d-4507-c7f2-afb8d5825842"
      },
      "execution_count": 52,
      "outputs": [
        {
          "output_type": "execute_result",
          "data": {
            "text/plain": [
              "11033    0.0\n",
              "11620    2.0\n",
              "99       0.0\n",
              "1843     2.0\n",
              "5776     2.0\n",
              "        ... \n",
              "7021     2.0\n",
              "4927     3.0\n",
              "202      3.0\n",
              "1342     2.0\n",
              "5207     2.0\n",
              "Name: target, Length: 9305, dtype: float64"
            ]
          },
          "metadata": {},
          "execution_count": 52
        }
      ]
    },
    {
      "cell_type": "markdown",
      "source": [
        "# **Matriz de correlaciones**"
      ],
      "metadata": {
        "id": "GNGdDh2gSbdY"
      }
    },
    {
      "cell_type": "code",
      "source": [
        "matriz_correlacion = df2.corr().round(2)\n",
        "sns.heatmap(data=matriz_correlacion, annot=True)\n"
      ],
      "metadata": {
        "colab": {
          "base_uri": "https://localhost:8080/",
          "height": 453
        },
        "id": "azAoFO6mNNec",
        "outputId": "8070b136-c2cd-4da2-dea9-d8de8849e010"
      },
      "execution_count": 53,
      "outputs": [
        {
          "output_type": "execute_result",
          "data": {
            "text/plain": [
              "<Axes: >"
            ]
          },
          "metadata": {},
          "execution_count": 53
        },
        {
          "output_type": "display_data",
          "data": {
            "text/plain": [
              "<Figure size 640x480 with 2 Axes>"
            ],
            "image/png": "[encoded data removed]"
          },
          "metadata": {}
        }
      ]
    },
    {
      "cell_type": "markdown",
      "source": [
        "# **Pipeline de transformmación numérica y categórica**"
      ],
      "metadata": {
        "id": "EiaFxNZlSkTZ"
      }
    },
    {
      "cell_type": "code",
      "source": [
        "cat_features = X_total.select_dtypes(exclude=[\"float64\", \"int64\"]).columns.to_list()\n",
        "numeric_features = X_total.select_dtypes([\"float64\", \"int64\"]).columns.to_list()\n",
        "\n",
        "categorical_transformer = Pipeline(\n",
        "            steps=[\n",
        "                ('imputer', SimpleImputer(strategy='constant', fill_value='missing')),\n",
        "                ('encoder', OneHotEncoder())\n",
        "            ]\n",
        "        )    \n",
        "\n",
        "numeric_transformer = Pipeline(\n",
        "            steps=[\n",
        "                ('imputer', SimpleImputer(strategy='most_frequent')),\n",
        "                ('scaler', StandardScaler())\n",
        "            ]\n",
        "        )\n",
        "\n",
        "preprocessor = ColumnTransformer(\n",
        "            transformers=[\n",
        "                ('numerical', numeric_transformer, numeric_features),\n",
        "                ('categorical', categorical_transformer, cat_features)\n",
        "            ]\n",
        "        )"
      ],
      "metadata": {
        "id": "hdfpXMa4MSJf"
      },
      "execution_count": 54,
      "outputs": []
    },
    {
      "cell_type": "markdown",
      "source": [
        "***Pipeline de XGBoost***\n"
      ],
      "metadata": {
        "id": "2C30A609Sr-9"
      }
    },
    {
      "cell_type": "code",
      "source": [
        "\n",
        "xgb_pipeline = Pipeline(\n",
        "            [\n",
        "                (\"preprocessor\", preprocessor),\n",
        "                (\n",
        "                    \"classifier\", XGBClassifier(),\n",
        "                ),\n",
        "            ]\n",
        "        )\n",
        "     "
      ],
      "metadata": {
        "id": "XBOqjYoDMV7v"
      },
      "execution_count": 55,
      "outputs": []
    },
    {
      "cell_type": "code",
      "source": [
        "\n",
        "xgb_param_grid = {\n",
        "    'classifier__learning_rate': np.arange(0.05, 0.5, 0.05),\n",
        "    'classifier__max_depth': np.arange(2, 5, 1),\n",
        "    'classifier__n_estimators': np.arange(2, 5, 1),\n",
        "    'classifier__subsample': np.arange(0.05, 0.5, 0.05)\n",
        "}\n",
        "\n",
        "randomized_roc_auc_xgb = RandomizedSearchCV(estimator=xgb_pipeline, \n",
        "                                            param_distributions=xgb_param_grid,\n",
        "                                            n_iter=50,\n",
        "                                            #scoring='roc_auc',\n",
        "                                            cv=3, \n",
        "                                            verbose=1)\n",
        "\n",
        "with tf.device('/device:GPU:0'): \n",
        "  randomized_roc_auc_xgb.fit(X_train, y_train)\n",
        "\n",
        "print('Best AUC: ', randomized_roc_auc_xgb.best_score_)\n",
        "#print('Estimator: ', randomized_roc_auc.best_estimator_)"
      ],
      "metadata": {
        "colab": {
          "base_uri": "https://localhost:8080/"
        },
        "id": "hbXbIWSbMXh4",
        "outputId": "21d97aba-f0a7-446e-ed56-07113c82a70a"
      },
      "execution_count": 56,
      "outputs": [
        {
          "output_type": "stream",
          "name": "stdout",
          "text": [
            "Fitting 3 folds for each of 50 candidates, totalling 150 fits\n",
            "Best AUC:  0.8679207354823318\n"
          ]
        }
      ]
    },
    {
      "cell_type": "markdown",
      "source": [
        "*Classification report de train*"
      ],
      "metadata": {
        "id": "C-MasjcaSxsZ"
      }
    },
    {
      "cell_type": "code",
      "source": [
        "y_pred_train = randomized_roc_auc_xgb.predict(X_train)\n",
        "print(classification_report(y_train, y_pred_train))"
      ],
      "metadata": {
        "colab": {
          "base_uri": "https://localhost:8080/"
        },
        "id": "BonSQO8kM1ft",
        "outputId": "1abcf993-dd33-471a-9241-b4bfbb363c3b"
      },
      "execution_count": 57,
      "outputs": [
        {
          "output_type": "stream",
          "name": "stdout",
          "text": [
            "              precision    recall  f1-score   support\n",
            "\n",
            "         0.0       0.54      0.50      0.52       774\n",
            "         1.0       0.84      0.20      0.32       179\n",
            "         2.0       0.90      0.98      0.94      6152\n",
            "         3.0       0.92      0.79      0.85      2200\n",
            "\n",
            "    accuracy                           0.88      9305\n",
            "   macro avg       0.80      0.62      0.66      9305\n",
            "weighted avg       0.88      0.88      0.87      9305\n",
            "\n"
          ]
        }
      ]
    },
    {
      "cell_type": "markdown",
      "source": [
        "*Classification report de train*"
      ],
      "metadata": {
        "id": "1qNrOYLeS3G_"
      }
    },
    {
      "cell_type": "code",
      "source": [
        "y_pred_test = randomized_roc_auc_xgb.predict(X_test)\n",
        "print(classification_report(y_test, y_pred_test))"
      ],
      "metadata": {
        "colab": {
          "base_uri": "https://localhost:8080/"
        },
        "id": "pYBS5vngQy-J",
        "outputId": "0c992b83-e1ee-4c5f-e4e4-c53b8aa9968d"
      },
      "execution_count": 58,
      "outputs": [
        {
          "output_type": "stream",
          "name": "stdout",
          "text": [
            "              precision    recall  f1-score   support\n",
            "\n",
            "         0.0       0.50      0.48      0.49       325\n",
            "         1.0       0.94      0.18      0.30        85\n",
            "         2.0       0.91      0.98      0.94      2643\n",
            "         3.0       0.91      0.79      0.85       936\n",
            "\n",
            "    accuracy                           0.88      3989\n",
            "   macro avg       0.81      0.61      0.64      3989\n",
            "weighted avg       0.88      0.88      0.87      3989\n",
            "\n"
          ]
        }
      ]
    },
    {
      "cell_type": "markdown",
      "source": [
        "***Pipeline de Decision Tree***\n"
      ],
      "metadata": {
        "id": "QeRr3UbUTBME"
      }
    },
    {
      "cell_type": "code",
      "source": [
        "\n",
        "dt_pipeline = Pipeline(\n",
        "            [\n",
        "                (\"preprocessor\", preprocessor),\n",
        "                (\n",
        "                    \"classifier\", DecisionTreeClassifier(),\n",
        "                ),\n",
        "            ]\n",
        "        )"
      ],
      "metadata": {
        "id": "nGUcGiCKO8r0"
      },
      "execution_count": 59,
      "outputs": []
    },
    {
      "cell_type": "code",
      "source": [
        "\n",
        "dt_param_grid = {\n",
        "    'classifier__max_depth': np.arange(3, 10, 1),\n",
        "    'classifier__max_features': ['auto', 'sqrt', 'log2'],\n",
        "    'classifier__min_samples_split': np.arange(5, 50, 5)\n",
        "}\n",
        "\n",
        "# Perform RandomizedSearchCV\n",
        "randomized_roc_auc_dt = RandomizedSearchCV(estimator= dt_pipeline, \n",
        "                                            param_distributions=dt_param_grid,\n",
        "                                            n_iter=50,\n",
        "                                            #scoring='roc_auc',\n",
        "                                            cv=3, \n",
        "                                            verbose=1)\n",
        "\n",
        "# Fit the estimator\n",
        "with tf.device('/device:GPU:0'): \n",
        "  randomized_roc_auc_dt.fit(X_train, y_train)\n",
        "\n",
        "# Compute metrics\n",
        "print('Best AUC: ', randomized_roc_auc_dt.best_score_)\n",
        "#print('Estimator: ', randomized_roc_auc.best_estimator_)"
      ],
      "metadata": {
        "id": "s0wsl15OQwSe",
        "colab": {
          "base_uri": "https://localhost:8080/"
        },
        "outputId": "aff7e93a-386a-4c75-8652-76823888246e"
      },
      "execution_count": 60,
      "outputs": [
        {
          "output_type": "stream",
          "name": "stdout",
          "text": [
            "Fitting 3 folds for each of 50 candidates, totalling 150 fits\n",
            "Best AUC:  0.8758739805999785\n"
          ]
        }
      ]
    },
    {
      "cell_type": "markdown",
      "source": [
        "*Classification report de train*"
      ],
      "metadata": {
        "id": "GvhAGtE6TI68"
      }
    },
    {
      "cell_type": "code",
      "source": [
        "y_pred_train = randomized_roc_auc_dt.predict(X_train)\n",
        "print(classification_report(y_train, y_pred_train))"
      ],
      "metadata": {
        "colab": {
          "base_uri": "https://localhost:8080/"
        },
        "id": "7QEbi-CCRRz1",
        "outputId": "8ee0535d-177d-4baf-fc30-d13b9c35feba"
      },
      "execution_count": 61,
      "outputs": [
        {
          "output_type": "stream",
          "name": "stdout",
          "text": [
            "              precision    recall  f1-score   support\n",
            "\n",
            "         0.0       0.46      0.79      0.59       774\n",
            "         1.0       0.58      0.12      0.20       179\n",
            "         2.0       0.96      0.96      0.96      6152\n",
            "         3.0       0.96      0.79      0.87      2200\n",
            "\n",
            "    accuracy                           0.89      9305\n",
            "   macro avg       0.74      0.67      0.65      9305\n",
            "weighted avg       0.91      0.89      0.89      9305\n",
            "\n"
          ]
        }
      ]
    },
    {
      "cell_type": "markdown",
      "source": [
        "*Classification report de test*"
      ],
      "metadata": {
        "id": "pEypyC2YTJud"
      }
    },
    {
      "cell_type": "code",
      "source": [
        "y_pred_test = randomized_roc_auc_dt.predict(X_test)\n",
        "print(classification_report(y_test, y_pred_test))"
      ],
      "metadata": {
        "colab": {
          "base_uri": "https://localhost:8080/"
        },
        "id": "QnvaNWldRWw9",
        "outputId": "9f8924bd-1c09-4298-8745-964a95cc000f"
      },
      "execution_count": 62,
      "outputs": [
        {
          "output_type": "stream",
          "name": "stdout",
          "text": [
            "              precision    recall  f1-score   support\n",
            "\n",
            "         0.0       0.41      0.70      0.51       325\n",
            "         1.0       0.29      0.06      0.10        85\n",
            "         2.0       0.95      0.96      0.95      2643\n",
            "         3.0       0.93      0.76      0.84       936\n",
            "\n",
            "    accuracy                           0.87      3989\n",
            "   macro avg       0.65      0.62      0.60      3989\n",
            "weighted avg       0.89      0.87      0.87      3989\n",
            "\n"
          ]
        }
      ]
    },
    {
      "cell_type": "code",
      "source": [],
      "metadata": {
        "id": "0gCBlZV9RvaM"
      },
      "execution_count": null,
      "outputs": []
    },
    {
      "cell_type": "code",
      "source": [],
      "metadata": {
        "id": "Bo5D7uyATLN9"
      },
      "execution_count": null,
      "outputs": []
    }
  ]
}