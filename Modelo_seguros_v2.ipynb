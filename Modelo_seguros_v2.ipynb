{
  "nbformat": 4,
  "nbformat_minor": 0,
  "metadata": {
    "colab": {
      "provenance": [],
      "authorship_tag": "ABX9TyPKDuXKYuro0DcqVVexPreY",
      "include_colab_link": true
    },
    "kernelspec": {
      "name": "python3",
      "display_name": "Python 3"
    },
    "language_info": {
      "name": "python"
    }
  },
  "cells": [
    {
      "cell_type": "markdown",
      "metadata": {
        "id": "view-in-github",
        "colab_type": "text"
      },
      "source": [
        "<a href=\"https://colab.research.google.com/github/lmencisoe/seguros/blob/main/Modelo_seguros_v2.ipynb\" target=\"_parent\"><img src=\"https://colab.research.google.com/assets/colab-badge.svg\" alt=\"Open In Colab\"/></a>"
      ]
    },
    {
      "cell_type": "code",
      "execution_count": 1,
      "metadata": {
        "colab": {
          "base_uri": "https://localhost:8080/"
        },
        "id": "vWAD_hNLIyo4",
        "outputId": "3f20642b-bd50-47f5-9c46-f067463688f3"
      },
      "outputs": [
        {
          "output_type": "stream",
          "name": "stdout",
          "text": [
            "Mounted at /content/drive\n"
          ]
        }
      ],
      "source": [
        "import pandas as pd\n",
        "import numpy as np\n",
        "import pandas as pd\n",
        "import matplotlib.pyplot as plt\n",
        "%matplotlib inline\n",
        "from pandas_profiling import ProfileReport\n",
        "from sklearn.linear_model import LogisticRegression\n",
        "from sklearn.neural_network import MLPClassifier\n",
        "from sklearn.svm import SVC\n",
        "import joblib\n",
        "from google.colab import drive\n",
        "drive.mount('/content/drive')\n",
        "from sklearn.ensemble import RandomForestClassifier\n",
        "from sklearn import metrics\n",
        "from sklearn.metrics import ConfusionMatrixDisplay, precision_score, recall_score, f1_score, auc\n",
        "from sklearn.preprocessing import StandardScaler\n",
        "from sklearn.preprocessing import OneHotEncoder\n",
        "from sklearn.impute import SimpleImputer\n",
        "from sklearn.compose import make_column_transformer\n",
        "from sklearn.model_selection import train_test_split\n",
        "from sklearn.compose import ColumnTransformer\n",
        "from sklearn.pipeline import Pipeline\n",
        "from sklearn.metrics import classification_report, confusion_matrix, accuracy_score\n",
        "from sklearn.model_selection import RandomizedSearchCV\n",
        "import tensorflow as tf\n",
        "import xgboost as xgb\n",
        "from xgboost import XGBClassifier\n",
        "from sklearn.tree import DecisionTreeClassifier, plot_tree\n",
        "from sklearn.feature_extraction import DictVectorizer\n",
        "from sklearn.pipeline import Pipeline\n",
        "from sklearn.model_selection import cross_val_score\n",
        "import seaborn as sns\n",
        "import warnings\n",
        "import re\n",
        "warnings.filterwarnings('ignore')"
      ]
    },
    {
      "cell_type": "markdown",
      "source": [
        "# **Lectura de datos**"
      ],
      "metadata": {
        "id": "yigi5tqASLhe"
      }
    },
    {
      "cell_type": "code",
      "source": [
        "df=pd.read_csv(\"https://raw.githubusercontent.com/lmencisoe/seguros/main/seguros.csv\",sep=\";\")"
      ],
      "metadata": {
        "id": "qBQOr86uJ5qs"
      },
      "execution_count": 2,
      "outputs": []
    },
    {
      "cell_type": "code",
      "source": [
        "df.head()"
      ],
      "metadata": {
        "colab": {
          "base_uri": "https://localhost:8080/",
          "height": 206
        },
        "id": "i__ZdrW5LZUu",
        "outputId": "a113fcfd-ef87-4fff-a179-ace056b6b891"
      },
      "execution_count": 3,
      "outputs": [
        {
          "output_type": "execute_result",
          "data": {
            "text/plain": [
              "   ACTECON  GRUANALI  anti  TAMAEMP  nrotrab  riesgo  categoria  lineanegocio  \\\n",
              "0       24         4    10        2       37       2          4             1   \n",
              "1       24         4    10        2       37       2          4             1   \n",
              "2       24         4    10        2       37       2          4             1   \n",
              "3       24         4    10        2       37       2          4             1   \n",
              "4       24         4    10        2       37       2          4             1   \n",
              "\n",
              "   modular  producto                  fechainicio  Unnamed: 11  Unnamed: 12  \\\n",
              "0        1         3  2022-01-07T00:00:00.0000000          NaN          NaN   \n",
              "1        2         3  2021-12-26T00:00:00.0000000          NaN          NaN   \n",
              "2        2         3  2021-12-11T00:00:00.0000000          NaN          NaN   \n",
              "3        2         3  2021-04-19T00:00:00.0000000          NaN          NaN   \n",
              "4        2         3  2021-09-15T00:00:00.0000000          NaN          NaN   \n",
              "\n",
              "   Unnamed: 13  Unnamed: 14  Unnamed: 15  Unnamed: 16  Unnamed: 17  \n",
              "0          NaN          NaN          NaN          NaN          NaN  \n",
              "1          NaN          NaN          NaN          NaN          NaN  \n",
              "2          NaN          NaN          NaN          NaN          NaN  \n",
              "3          NaN          NaN          NaN          NaN          NaN  \n",
              "4          NaN          NaN          NaN          NaN          NaN  "
            ],
            "text/html": [
              "\n",
              "  <div id=\"df-f2653728-f2fd-4527-a066-1d7f2eafc6d1\">\n",
              "    <div class=\"colab-df-container\">\n",
              "      <div>\n",
              "<style scoped>\n",
              "    .dataframe tbody tr th:only-of-type {\n",
              "        vertical-align: middle;\n",
              "    }\n",
              "\n",
              "    .dataframe tbody tr th {\n",
              "        vertical-align: top;\n",
              "    }\n",
              "\n",
              "    .dataframe thead th {\n",
              "        text-align: right;\n",
              "    }\n",
              "</style>\n",
              "<table border=\"1\" class=\"dataframe\">\n",
              "  <thead>\n",
              "    <tr style=\"text-align: right;\">\n",
              "      <th></th>\n",
              "      <th>ACTECON</th>\n",
              "      <th>GRUANALI</th>\n",
              "      <th>anti</th>\n",
              "      <th>TAMAEMP</th>\n",
              "      <th>nrotrab</th>\n",
              "      <th>riesgo</th>\n",
              "      <th>categoria</th>\n",
              "      <th>lineanegocio</th>\n",
              "      <th>modular</th>\n",
              "      <th>producto</th>\n",
              "      <th>fechainicio</th>\n",
              "      <th>Unnamed: 11</th>\n",
              "      <th>Unnamed: 12</th>\n",
              "      <th>Unnamed: 13</th>\n",
              "      <th>Unnamed: 14</th>\n",
              "      <th>Unnamed: 15</th>\n",
              "      <th>Unnamed: 16</th>\n",
              "      <th>Unnamed: 17</th>\n",
              "    </tr>\n",
              "  </thead>\n",
              "  <tbody>\n",
              "    <tr>\n",
              "      <th>0</th>\n",
              "      <td>24</td>\n",
              "      <td>4</td>\n",
              "      <td>10</td>\n",
              "      <td>2</td>\n",
              "      <td>37</td>\n",
              "      <td>2</td>\n",
              "      <td>4</td>\n",
              "      <td>1</td>\n",
              "      <td>1</td>\n",
              "      <td>3</td>\n",
              "      <td>2022-01-07T00:00:00.0000000</td>\n",
              "      <td>NaN</td>\n",
              "      <td>NaN</td>\n",
              "      <td>NaN</td>\n",
              "      <td>NaN</td>\n",
              "      <td>NaN</td>\n",
              "      <td>NaN</td>\n",
              "      <td>NaN</td>\n",
              "    </tr>\n",
              "    <tr>\n",
              "      <th>1</th>\n",
              "      <td>24</td>\n",
              "      <td>4</td>\n",
              "      <td>10</td>\n",
              "      <td>2</td>\n",
              "      <td>37</td>\n",
              "      <td>2</td>\n",
              "      <td>4</td>\n",
              "      <td>1</td>\n",
              "      <td>2</td>\n",
              "      <td>3</td>\n",
              "      <td>2021-12-26T00:00:00.0000000</td>\n",
              "      <td>NaN</td>\n",
              "      <td>NaN</td>\n",
              "      <td>NaN</td>\n",
              "      <td>NaN</td>\n",
              "      <td>NaN</td>\n",
              "      <td>NaN</td>\n",
              "      <td>NaN</td>\n",
              "    </tr>\n",
              "    <tr>\n",
              "      <th>2</th>\n",
              "      <td>24</td>\n",
              "      <td>4</td>\n",
              "      <td>10</td>\n",
              "      <td>2</td>\n",
              "      <td>37</td>\n",
              "      <td>2</td>\n",
              "      <td>4</td>\n",
              "      <td>1</td>\n",
              "      <td>2</td>\n",
              "      <td>3</td>\n",
              "      <td>2021-12-11T00:00:00.0000000</td>\n",
              "      <td>NaN</td>\n",
              "      <td>NaN</td>\n",
              "      <td>NaN</td>\n",
              "      <td>NaN</td>\n",
              "      <td>NaN</td>\n",
              "      <td>NaN</td>\n",
              "      <td>NaN</td>\n",
              "    </tr>\n",
              "    <tr>\n",
              "      <th>3</th>\n",
              "      <td>24</td>\n",
              "      <td>4</td>\n",
              "      <td>10</td>\n",
              "      <td>2</td>\n",
              "      <td>37</td>\n",
              "      <td>2</td>\n",
              "      <td>4</td>\n",
              "      <td>1</td>\n",
              "      <td>2</td>\n",
              "      <td>3</td>\n",
              "      <td>2021-04-19T00:00:00.0000000</td>\n",
              "      <td>NaN</td>\n",
              "      <td>NaN</td>\n",
              "      <td>NaN</td>\n",
              "      <td>NaN</td>\n",
              "      <td>NaN</td>\n",
              "      <td>NaN</td>\n",
              "      <td>NaN</td>\n",
              "    </tr>\n",
              "    <tr>\n",
              "      <th>4</th>\n",
              "      <td>24</td>\n",
              "      <td>4</td>\n",
              "      <td>10</td>\n",
              "      <td>2</td>\n",
              "      <td>37</td>\n",
              "      <td>2</td>\n",
              "      <td>4</td>\n",
              "      <td>1</td>\n",
              "      <td>2</td>\n",
              "      <td>3</td>\n",
              "      <td>2021-09-15T00:00:00.0000000</td>\n",
              "      <td>NaN</td>\n",
              "      <td>NaN</td>\n",
              "      <td>NaN</td>\n",
              "      <td>NaN</td>\n",
              "      <td>NaN</td>\n",
              "      <td>NaN</td>\n",
              "      <td>NaN</td>\n",
              "    </tr>\n",
              "  </tbody>\n",
              "</table>\n",
              "</div>\n",
              "      <button class=\"colab-df-convert\" onclick=\"convertToInteractive('df-f2653728-f2fd-4527-a066-1d7f2eafc6d1')\"\n",
              "              title=\"Convert this dataframe to an interactive table.\"\n",
              "              style=\"display:none;\">\n",
              "        \n",
              "  <svg xmlns=\"http://www.w3.org/2000/svg\" height=\"24px\"viewBox=\"0 0 24 24\"\n",
              "       width=\"24px\">\n",
              "    <path d=\"M0 0h24v24H0V0z\" fill=\"none\"/>\n",
              "    <path d=\"M18.56 5.44l.94 2.06.94-2.06 2.06-.94-2.06-.94-.94-2.06-.94 2.06-2.06.94zm-11 1L8.5 8.5l.94-2.06 2.06-.94-2.06-.94L8.5 2.5l-.94 2.06-2.06.94zm10 10l.94 2.06.94-2.06 2.06-.94-2.06-.94-.94-2.06-.94 2.06-2.06.94z\"/><path d=\"M17.41 7.96l-1.37-1.37c-.4-.4-.92-.59-1.43-.59-.52 0-1.04.2-1.43.59L10.3 9.45l-7.72 7.72c-.78.78-.78 2.05 0 2.83L4 21.41c.39.39.9.59 1.41.59.51 0 1.02-.2 1.41-.59l7.78-7.78 2.81-2.81c.8-.78.8-2.07 0-2.86zM5.41 20L4 18.59l7.72-7.72 1.47 1.35L5.41 20z\"/>\n",
              "  </svg>\n",
              "      </button>\n",
              "      \n",
              "  <style>\n",
              "    .colab-df-container {\n",
              "      display:flex;\n",
              "      flex-wrap:wrap;\n",
              "      gap: 12px;\n",
              "    }\n",
              "\n",
              "    .colab-df-convert {\n",
              "      background-color: #E8F0FE;\n",
              "      border: none;\n",
              "      border-radius: 50%;\n",
              "      cursor: pointer;\n",
              "      display: none;\n",
              "      fill: #1967D2;\n",
              "      height: 32px;\n",
              "      padding: 0 0 0 0;\n",
              "      width: 32px;\n",
              "    }\n",
              "\n",
              "    .colab-df-convert:hover {\n",
              "      background-color: #E2EBFA;\n",
              "      box-shadow: 0px 1px 2px rgba(60, 64, 67, 0.3), 0px 1px 3px 1px rgba(60, 64, 67, 0.15);\n",
              "      fill: #174EA6;\n",
              "    }\n",
              "\n",
              "    [theme=dark] .colab-df-convert {\n",
              "      background-color: #3B4455;\n",
              "      fill: #D2E3FC;\n",
              "    }\n",
              "\n",
              "    [theme=dark] .colab-df-convert:hover {\n",
              "      background-color: #434B5C;\n",
              "      box-shadow: 0px 1px 3px 1px rgba(0, 0, 0, 0.15);\n",
              "      filter: drop-shadow(0px 1px 2px rgba(0, 0, 0, 0.3));\n",
              "      fill: #FFFFFF;\n",
              "    }\n",
              "  </style>\n",
              "\n",
              "      <script>\n",
              "        const buttonEl =\n",
              "          document.querySelector('#df-f2653728-f2fd-4527-a066-1d7f2eafc6d1 button.colab-df-convert');\n",
              "        buttonEl.style.display =\n",
              "          google.colab.kernel.accessAllowed ? 'block' : 'none';\n",
              "\n",
              "        async function convertToInteractive(key) {\n",
              "          const element = document.querySelector('#df-f2653728-f2fd-4527-a066-1d7f2eafc6d1');\n",
              "          const dataTable =\n",
              "            await google.colab.kernel.invokeFunction('convertToInteractive',\n",
              "                                                     [key], {});\n",
              "          if (!dataTable) return;\n",
              "\n",
              "          const docLinkHtml = 'Like what you see? Visit the ' +\n",
              "            '<a target=\"_blank\" href=https://colab.research.google.com/notebooks/data_table.ipynb>data table notebook</a>'\n",
              "            + ' to learn more about interactive tables.';\n",
              "          element.innerHTML = '';\n",
              "          dataTable['output_type'] = 'display_data';\n",
              "          await google.colab.output.renderOutput(dataTable, element);\n",
              "          const docLink = document.createElement('div');\n",
              "          docLink.innerHTML = docLinkHtml;\n",
              "          element.appendChild(docLink);\n",
              "        }\n",
              "      </script>\n",
              "    </div>\n",
              "  </div>\n",
              "  "
            ]
          },
          "metadata": {},
          "execution_count": 3
        }
      ]
    },
    {
      "cell_type": "code",
      "source": [
        "df2 = df.copy()\n",
        "df2 = df[['ACTECON',\t'GRUANALI',\t'anti',\t'TAMAEMP',\t'nrotrab',\t'riesgo',\t'categoria',\t'lineanegocio',\t'modular',\t'producto'\t]]\n",
        "#df2 = df2.drop_duplicates()\n",
        "#df2"
      ],
      "metadata": {
        "id": "6DENFHUcLS0Q"
      },
      "execution_count": 32,
      "outputs": []
    },
    {
      "cell_type": "markdown",
      "source": [
        "# **Definición de X y Y**"
      ],
      "metadata": {
        "id": "NFPfv0vXSTP-"
      }
    },
    {
      "cell_type": "code",
      "source": [
        "X_total = df2.drop(['producto'], axis=1)\n",
        "df2['target'] = df2['producto']\n",
        "Y_total = df2['target'].astype(float)"
      ],
      "metadata": {
        "id": "0twI9X2NMAY4"
      },
      "execution_count": 10,
      "outputs": []
    },
    {
      "cell_type": "markdown",
      "source": [
        "# **Split de train y test**"
      ],
      "metadata": {
        "id": "pVcKy1cfSXo0"
      }
    },
    {
      "cell_type": "code",
      "source": [
        "X_train, X_test, y_train, y_test = train_test_split(X_total, Y_total, test_size=0.2, random_state=2022)"
      ],
      "metadata": {
        "id": "w3dGg2_OMMNP"
      },
      "execution_count": 11,
      "outputs": []
    },
    {
      "cell_type": "markdown",
      "source": [
        "# **Matriz de correlaciones**"
      ],
      "metadata": {
        "id": "GNGdDh2gSbdY"
      }
    },
    {
      "cell_type": "code",
      "source": [
        "matriz_correlacion = df2.corr().round(2)\n",
        "sns.heatmap(data=matriz_correlacion, annot=True)\n"
      ],
      "metadata": {
        "colab": {
          "base_uri": "https://localhost:8080/",
          "height": 528
        },
        "id": "azAoFO6mNNec",
        "outputId": "5262ddfd-26bf-435f-d672-9eea5691bcdb"
      },
      "execution_count": 12,
      "outputs": [
        {
          "output_type": "execute_result",
          "data": {
            "text/plain": [
              "<Axes: >"
            ]
          },
          "metadata": {},
          "execution_count": 12
        },
        {
          "output_type": "display_data",
          "data": {
            "text/plain": [
              "<Figure size 640x480 with 2 Axes>"
            ],
            "image/png": "[encoded data removed]"
          },
          "metadata": {}
        }
      ]
    },
    {
      "cell_type": "markdown",
      "source": [
        "# **Accuracy de KNN**"
      ],
      "metadata": {
        "id": "l7P8N7tLSgly"
      }
    },
    {
      "cell_type": "code",
      "source": [
        "\n",
        "def CalculandoAccuracy (k:int) -> int:\n",
        "  from sklearn.neighbors import KNeighborsClassifier\n",
        "  from sklearn.metrics import accuracy_score\n",
        "  scikit_knnc = KNeighborsClassifier(n_neighbors=k)\n",
        "  scikit_knnc.fit(X_train, y_train)\n",
        "  accuracy = scikit_knnc.score(X_test, y_test)\n",
        "  return accuracy\n",
        "\n",
        "for i in range(3, 40):\n",
        "  print (\"Para el valor de: \",i,\"El Accuracy es:\", CalculandoAccuracy(i))\n"
      ],
      "metadata": {
        "colab": {
          "base_uri": "https://localhost:8080/"
        },
        "id": "iEfgwPVlN3Sb",
        "outputId": "18e6d749-5c8d-405f-ca81-2eed0eeaa596"
      },
      "execution_count": 13,
      "outputs": [
        {
          "output_type": "stream",
          "name": "stdout",
          "text": [
            "Para el valor de:  3 El Accuracy es: 0.9085106382978724\n",
            "Para el valor de:  4 El Accuracy es: 0.9031914893617021\n",
            "Para el valor de:  5 El Accuracy es: 0.8971631205673759\n",
            "Para el valor de:  6 El Accuracy es: 0.8943262411347518\n",
            "Para el valor de:  7 El Accuracy es: 0.8918439716312057\n",
            "Para el valor de:  8 El Accuracy es: 0.8879432624113475\n",
            "Para el valor de:  9 El Accuracy es: 0.8875886524822695\n",
            "Para el valor de:  10 El Accuracy es: 0.8890070921985815\n",
            "Para el valor de:  11 El Accuracy es: 0.8875886524822695\n",
            "Para el valor de:  12 El Accuracy es: 0.8865248226950354\n",
            "Para el valor de:  13 El Accuracy es: 0.8854609929078014\n",
            "Para el valor de:  14 El Accuracy es: 0.8833333333333333\n",
            "Para el valor de:  15 El Accuracy es: 0.8812056737588653\n",
            "Para el valor de:  16 El Accuracy es: 0.8801418439716312\n",
            "Para el valor de:  17 El Accuracy es: 0.8765957446808511\n",
            "Para el valor de:  18 El Accuracy es: 0.8773049645390071\n",
            "Para el valor de:  19 El Accuracy es: 0.8776595744680851\n",
            "Para el valor de:  20 El Accuracy es: 0.874822695035461\n",
            "Para el valor de:  21 El Accuracy es: 0.8719858156028368\n",
            "Para el valor de:  22 El Accuracy es: 0.8723404255319149\n",
            "Para el valor de:  23 El Accuracy es: 0.8684397163120567\n",
            "Para el valor de:  24 El Accuracy es: 0.8691489361702127\n",
            "Para el valor de:  25 El Accuracy es: 0.8673758865248227\n",
            "Para el valor de:  26 El Accuracy es: 0.8673758865248227\n",
            "Para el valor de:  27 El Accuracy es: 0.8648936170212767\n",
            "Para el valor de:  28 El Accuracy es: 0.8648936170212767\n",
            "Para el valor de:  29 El Accuracy es: 0.8648936170212767\n",
            "Para el valor de:  30 El Accuracy es: 0.8652482269503546\n",
            "Para el valor de:  31 El Accuracy es: 0.8641843971631206\n",
            "Para el valor de:  32 El Accuracy es: 0.8634751773049646\n",
            "Para el valor de:  33 El Accuracy es: 0.8631205673758865\n",
            "Para el valor de:  34 El Accuracy es: 0.8620567375886525\n",
            "Para el valor de:  35 El Accuracy es: 0.8606382978723405\n",
            "Para el valor de:  36 El Accuracy es: 0.8613475177304964\n",
            "Para el valor de:  37 El Accuracy es: 0.8606382978723405\n",
            "Para el valor de:  38 El Accuracy es: 0.8602836879432624\n",
            "Para el valor de:  39 El Accuracy es: 0.8602836879432624\n"
          ]
        }
      ]
    },
    {
      "cell_type": "markdown",
      "source": [
        "# **Pipeline de transformmación numérica y categórica**"
      ],
      "metadata": {
        "id": "EiaFxNZlSkTZ"
      }
    },
    {
      "cell_type": "code",
      "source": [
        "cat_features = X_total.select_dtypes(exclude=[\"float64\", \"int64\"]).columns.to_list()\n",
        "numeric_features = X_total.select_dtypes([\"float64\", \"int64\"]).columns.to_list()\n",
        "\n",
        "categorical_transformer = Pipeline(\n",
        "            steps=[\n",
        "                ('imputer', SimpleImputer(strategy='constant', fill_value='missing')),\n",
        "                ('encoder', OneHotEncoder())\n",
        "            ]\n",
        "        )    \n",
        "\n",
        "numeric_transformer = Pipeline(\n",
        "            steps=[\n",
        "                ('imputer', SimpleImputer(strategy='most_frequent')),\n",
        "                ('scaler', StandardScaler())\n",
        "            ]\n",
        "        )\n",
        "\n",
        "preprocessor = ColumnTransformer(\n",
        "            transformers=[\n",
        "                ('numerical', numeric_transformer, numeric_features),\n",
        "                ('categorical', categorical_transformer, cat_features)\n",
        "            ]\n",
        "        )"
      ],
      "metadata": {
        "id": "hdfpXMa4MSJf"
      },
      "execution_count": 14,
      "outputs": []
    },
    {
      "cell_type": "markdown",
      "source": [
        "***Pipeline de XGBoost***\n"
      ],
      "metadata": {
        "id": "2C30A609Sr-9"
      }
    },
    {
      "cell_type": "code",
      "source": [
        "\n",
        "xgb_pipeline = Pipeline(\n",
        "            [\n",
        "                (\"preprocessor\", preprocessor),\n",
        "                (\n",
        "                    \"classifier\", XGBClassifier(),\n",
        "                ),\n",
        "            ]\n",
        "        )\n",
        "     "
      ],
      "metadata": {
        "id": "XBOqjYoDMV7v"
      },
      "execution_count": 15,
      "outputs": []
    },
    {
      "cell_type": "code",
      "source": [
        "\n",
        "xgb_param_grid = {\n",
        "    'classifier__learning_rate': np.arange(0.05, 0.5, 0.05),\n",
        "    'classifier__max_depth': np.arange(2, 5, 1),\n",
        "    'classifier__n_estimators': np.arange(2, 5, 1),\n",
        "    'classifier__subsample': np.arange(0.05, 0.5, 0.05)\n",
        "}\n",
        "\n",
        "randomized_roc_auc_xgb = RandomizedSearchCV(estimator=xgb_pipeline, \n",
        "                                            param_distributions=xgb_param_grid,\n",
        "                                            n_iter=50,\n",
        "                                            #scoring='roc_auc',\n",
        "                                            cv=3, \n",
        "                                            verbose=1)\n",
        "\n",
        "with tf.device('/device:GPU:0'): \n",
        "  randomized_roc_auc_xgb.fit(X_train, y_train)\n",
        "\n",
        "print('Best AUC: ', randomized_roc_auc_xgb.best_score_)\n",
        "#print('Estimator: ', randomized_roc_auc.best_estimator_)"
      ],
      "metadata": {
        "colab": {
          "base_uri": "https://localhost:8080/"
        },
        "id": "hbXbIWSbMXh4",
        "outputId": "d9c43bfb-a44b-4216-a5c7-9f70f88734b2"
      },
      "execution_count": 20,
      "outputs": [
        {
          "output_type": "stream",
          "name": "stdout",
          "text": [
            "Fitting 3 folds for each of 50 candidates, totalling 150 fits\n",
            "Best AUC:  0.9412908044995718\n"
          ]
        }
      ]
    },
    {
      "cell_type": "markdown",
      "source": [
        "*Classification report de train*"
      ],
      "metadata": {
        "id": "C-MasjcaSxsZ"
      }
    },
    {
      "cell_type": "code",
      "source": [
        "y_pred_train = randomized_roc_auc_xgb.predict(X_train)\n",
        "print(classification_report(y_train, y_pred_train))"
      ],
      "metadata": {
        "colab": {
          "base_uri": "https://localhost:8080/"
        },
        "id": "BonSQO8kM1ft",
        "outputId": "981ef197-cb2e-46c8-9ce2-e5bfecb4daa5"
      },
      "execution_count": 22,
      "outputs": [
        {
          "output_type": "stream",
          "name": "stdout",
          "text": [
            "              precision    recall  f1-score   support\n",
            "\n",
            "         0.0       0.52      0.12      0.20       100\n",
            "         1.0       0.70      0.68      0.69        88\n",
            "         2.0       0.80      0.92      0.85        48\n",
            "         3.0       0.58      0.65      0.61       312\n",
            "         4.0       1.00      1.00      1.00      7544\n",
            "         5.0       0.99      0.94      0.96      2150\n",
            "         6.0       0.74      0.94      0.83       431\n",
            "         7.0       0.66      0.86      0.75       405\n",
            "         8.0       0.83      0.19      0.30        27\n",
            "         9.0       0.57      0.41      0.47       103\n",
            "        10.0       0.73      0.12      0.20        68\n",
            "\n",
            "    accuracy                           0.95     11276\n",
            "   macro avg       0.74      0.62      0.62     11276\n",
            "weighted avg       0.95      0.95      0.95     11276\n",
            "\n"
          ]
        }
      ]
    },
    {
      "cell_type": "markdown",
      "source": [
        "*Classification report de train*"
      ],
      "metadata": {
        "id": "1qNrOYLeS3G_"
      }
    },
    {
      "cell_type": "code",
      "source": [
        "y_pred_test = randomized_roc_auc_xgb.predict(X_test)\n",
        "print(classification_report(y_test, y_pred_test))"
      ],
      "metadata": {
        "colab": {
          "base_uri": "https://localhost:8080/"
        },
        "id": "pYBS5vngQy-J",
        "outputId": "e17bb8fa-2219-48da-9a16-382cc85c726b"
      },
      "execution_count": 24,
      "outputs": [
        {
          "output_type": "stream",
          "name": "stdout",
          "text": [
            "              precision    recall  f1-score   support\n",
            "\n",
            "         0.0       0.50      0.13      0.21        30\n",
            "         1.0       0.84      0.59      0.70        27\n",
            "         2.0       0.67      0.89      0.76         9\n",
            "         3.0       0.46      0.53      0.49        77\n",
            "         4.0       1.00      1.00      1.00      1902\n",
            "         5.0       0.98      0.93      0.95       534\n",
            "         6.0       0.66      0.89      0.76        94\n",
            "         7.0       0.59      0.82      0.68        94\n",
            "         8.0       0.50      0.29      0.36         7\n",
            "         9.0       0.44      0.30      0.36        27\n",
            "        10.0       0.67      0.21      0.32        19\n",
            "\n",
            "    accuracy                           0.94      2820\n",
            "   macro avg       0.66      0.60      0.60      2820\n",
            "weighted avg       0.94      0.94      0.93      2820\n",
            "\n"
          ]
        }
      ]
    },
    {
      "cell_type": "markdown",
      "source": [
        "***Pipeline de Decision Tree***\n"
      ],
      "metadata": {
        "id": "QeRr3UbUTBME"
      }
    },
    {
      "cell_type": "code",
      "source": [
        "\n",
        "dt_pipeline = Pipeline(\n",
        "            [\n",
        "                (\"preprocessor\", preprocessor),\n",
        "                (\n",
        "                    \"classifier\", DecisionTreeClassifier(),\n",
        "                ),\n",
        "            ]\n",
        "        )"
      ],
      "metadata": {
        "id": "nGUcGiCKO8r0"
      },
      "execution_count": 25,
      "outputs": []
    },
    {
      "cell_type": "code",
      "source": [
        "\n",
        "dt_param_grid = {\n",
        "    'classifier__max_depth': np.arange(3, 10, 1),\n",
        "    'classifier__max_features': ['auto', 'sqrt', 'log2'],\n",
        "    'classifier__min_samples_split': np.arange(5, 50, 5)\n",
        "}\n",
        "\n",
        "# Perform RandomizedSearchCV\n",
        "randomized_roc_auc_dt = RandomizedSearchCV(estimator= dt_pipeline, \n",
        "                                            param_distributions=dt_param_grid,\n",
        "                                            n_iter=50,\n",
        "                                            #scoring='roc_auc',\n",
        "                                            cv=3, \n",
        "                                            verbose=1)\n",
        "\n",
        "# Fit the estimator\n",
        "with tf.device('/device:GPU:0'): \n",
        "  randomized_roc_auc_dt.fit(X_train, y_train)\n",
        "\n",
        "# Compute metrics\n",
        "print('Best AUC: ', randomized_roc_auc_dt.best_score_)\n",
        "#print('Estimator: ', randomized_roc_auc.best_estimator_)"
      ],
      "metadata": {
        "id": "s0wsl15OQwSe",
        "colab": {
          "base_uri": "https://localhost:8080/"
        },
        "outputId": "eb393a0a-ba53-44e3-8e00-5d4c7b3f1f54"
      },
      "execution_count": 27,
      "outputs": [
        {
          "output_type": "stream",
          "name": "stdout",
          "text": [
            "Fitting 3 folds for each of 50 candidates, totalling 150 fits\n",
            "Best AUC:  0.9348177820100662\n"
          ]
        }
      ]
    },
    {
      "cell_type": "markdown",
      "source": [
        "*Classification report de train*"
      ],
      "metadata": {
        "id": "GvhAGtE6TI68"
      }
    },
    {
      "cell_type": "code",
      "source": [
        "y_pred_train = randomized_roc_auc_dt.predict(X_train)\n",
        "print(classification_report(y_train, y_pred_train))"
      ],
      "metadata": {
        "colab": {
          "base_uri": "https://localhost:8080/"
        },
        "id": "7QEbi-CCRRz1",
        "outputId": "a75d987b-cbfd-4515-b54f-cf8fecdf5449"
      },
      "execution_count": 30,
      "outputs": [
        {
          "output_type": "stream",
          "name": "stdout",
          "text": [
            "              precision    recall  f1-score   support\n",
            "\n",
            "         0.0       0.50      0.26      0.34       100\n",
            "         1.0       0.78      0.59      0.67        88\n",
            "         2.0       0.78      0.73      0.75        48\n",
            "         3.0       0.54      0.60      0.57       312\n",
            "         4.0       0.99      0.99      0.99      7544\n",
            "         5.0       0.98      0.96      0.97      2150\n",
            "         6.0       0.74      0.90      0.81       431\n",
            "         7.0       0.67      0.83      0.74       405\n",
            "         8.0       0.62      0.59      0.60        27\n",
            "         9.0       0.66      0.39      0.49       103\n",
            "        10.0       0.67      0.21      0.31        68\n",
            "\n",
            "    accuracy                           0.94     11276\n",
            "   macro avg       0.72      0.64      0.66     11276\n",
            "weighted avg       0.94      0.94      0.94     11276\n",
            "\n"
          ]
        }
      ]
    },
    {
      "cell_type": "markdown",
      "source": [
        "*Classification report de test*"
      ],
      "metadata": {
        "id": "pEypyC2YTJud"
      }
    },
    {
      "cell_type": "code",
      "source": [
        "y_pred_test = randomized_roc_auc_dt.predict(X_test)\n",
        "print(classification_report(y_test, y_pred_test))"
      ],
      "metadata": {
        "colab": {
          "base_uri": "https://localhost:8080/"
        },
        "id": "QnvaNWldRWw9",
        "outputId": "4463f39e-eeed-4c0f-dcb2-a20114d83953"
      },
      "execution_count": 31,
      "outputs": [
        {
          "output_type": "stream",
          "name": "stdout",
          "text": [
            "              precision    recall  f1-score   support\n",
            "\n",
            "         0.0       0.33      0.17      0.22        30\n",
            "         1.0       0.75      0.44      0.56        27\n",
            "         2.0       0.67      0.44      0.53         9\n",
            "         3.0       0.37      0.48      0.42        77\n",
            "         4.0       0.99      0.99      0.99      1902\n",
            "         5.0       0.96      0.93      0.94       534\n",
            "         6.0       0.60      0.79      0.68        94\n",
            "         7.0       0.56      0.70      0.63        94\n",
            "         8.0       0.50      0.43      0.46         7\n",
            "         9.0       0.25      0.11      0.15        27\n",
            "        10.0       0.73      0.42      0.53        19\n",
            "\n",
            "    accuracy                           0.92      2820\n",
            "   macro avg       0.61      0.54      0.56      2820\n",
            "weighted avg       0.92      0.92      0.92      2820\n",
            "\n"
          ]
        }
      ]
    },
    {
      "cell_type": "code",
      "source": [],
      "metadata": {
        "id": "0gCBlZV9RvaM"
      },
      "execution_count": null,
      "outputs": []
    },
    {
      "cell_type": "code",
      "source": [],
      "metadata": {
        "id": "Bo5D7uyATLN9"
      },
      "execution_count": null,
      "outputs": []
    }
  ]
}